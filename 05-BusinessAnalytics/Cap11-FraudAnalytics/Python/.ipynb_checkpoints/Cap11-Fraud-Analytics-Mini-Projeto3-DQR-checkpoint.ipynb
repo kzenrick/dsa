{
 "cells": [
  {
   "cell_type": "markdown",
   "metadata": {},
   "source": [
    "# <font color='blue'>Data Science Academy</font>\n",
    "# <font color='blue'>Business Analytics</font>\n",
    "\n",
    "# <font color='blue'>Capítulo 11 - Fraud Analytics</font>\n",
    "## <font color='blue'>Mini-Projeto 3</font>\n",
    "### <font color='blue'>Data Quality Report e Detecção de Fraudes em Transações Imobiliárias</font>"
   ]
  },
  {
   "cell_type": "markdown",
   "metadata": {},
   "source": [
    "## Etapa 1 - Data Quality Report (DQR)\n",
    "\n",
    "O DQR é um relatório analítico com o objetivo de compreender a organização dos dados, se estão coerentes, se há alguma anomalia amplamente visível e resumir os dados (ou pelo menos as variáveis mais importantes) com base na compreensão do problema de negócio.\n",
    "\n",
    "A descrição do que representa cada variável está disponível no Dicionário de Dados e no material complementar no link abaixo:\n",
    "\n",
    "https://www1.nyc.gov/site/finance/taxes/definitions-of-property-assessment-terms.page"
   ]
  },
  {
   "cell_type": "markdown",
   "metadata": {},
   "source": [
    "![title](imagens/mini-projeto3.png)"
   ]
  },
  {
   "cell_type": "code",
   "execution_count": null,
   "metadata": {},
   "outputs": [],
   "source": [
    "# Versão da Linguagem Python\n",
    "from platform import python_version\n",
    "print('Versão da Linguagem Python Usada Neste Jupyter Notebook:', python_version())"
   ]
  },
  {
   "cell_type": "markdown",
   "metadata": {},
   "source": [
    "## Instalando e Carregando os Pacotes"
   ]
  },
  {
   "cell_type": "code",
   "execution_count": null,
   "metadata": {},
   "outputs": [],
   "source": [
    "# Para atualizar um pacote, execute o comando abaixo no terminal ou prompt de comando:\n",
    "# pip install -U nome_pacote\n",
    "\n",
    "# Para instalar a versão exata de um pacote, execute o comando abaixo no terminal ou prompt de comando:\n",
    "# !pip install nome_pacote==versão_desejada\n",
    "\n",
    "# Depois de instalar ou atualizar o pacote, reinicie o jupyter notebook.\n",
    "\n",
    "# Instala o pacote watermark. \n",
    "# Esse pacote é usado para gravar as versões de outros pacotes usados neste jupyter notebook.\n",
    "!pip install -q -U watermark"
   ]
  },
  {
   "cell_type": "code",
   "execution_count": null,
   "metadata": {},
   "outputs": [],
   "source": [
    "# Imports\n",
    "import numpy as np\n",
    "import pandas as pd\n",
    "import matplotlib.pyplot as plt\n",
    "import matplotlib.pyplot as pyplot\n",
    "import seaborn as sns\n",
    "import warnings\n",
    "warnings.filterwarnings(\"ignore\")\n",
    "pd.set_option('display.float_format', lambda x : '%.2f' % x)\n",
    "%matplotlib inline"
   ]
  },
  {
   "cell_type": "code",
   "execution_count": null,
   "metadata": {},
   "outputs": [],
   "source": [
    "# Versões dos pacotes usados neste jupyter notebook\n",
    "%reload_ext watermark\n",
    "%watermark -a \"Data Science Academy\" --iversions"
   ]
  },
  {
   "cell_type": "markdown",
   "metadata": {},
   "source": [
    "## Resumo dos Dados"
   ]
  },
  {
   "cell_type": "code",
   "execution_count": null,
   "metadata": {},
   "outputs": [],
   "source": [
    "# Carrega os dados\n",
    "dados = pd.read_csv('dados/dataset.csv', index_col = 0)"
   ]
  },
  {
   "cell_type": "code",
   "execution_count": null,
   "metadata": {},
   "outputs": [],
   "source": [
    "# Shape\n",
    "dados.shape"
   ]
  },
  {
   "cell_type": "code",
   "execution_count": null,
   "metadata": {},
   "outputs": [],
   "source": [
    "# Visualiza\n",
    "dados.head()"
   ]
  },
  {
   "cell_type": "code",
   "execution_count": null,
   "metadata": {},
   "outputs": [],
   "source": [
    "# Resumo\n",
    "print(\"Linhas: \", dados.shape[0])\n",
    "print(\"Colunas: \", dados.shape[1])\n",
    "print(\"\\nVariáveis: \\n\", dados.columns.tolist())\n",
    "print(\"\\nValores Ausentes: \\n\" , dados.isnull().sum())\n",
    "print(\"\\nValores Únicos: \\n\", dados.nunique())"
   ]
  },
  {
   "cell_type": "code",
   "execution_count": null,
   "metadata": {},
   "outputs": [],
   "source": [
    "# Info\n",
    "dados.info()"
   ]
  },
  {
   "cell_type": "code",
   "execution_count": null,
   "metadata": {},
   "outputs": [],
   "source": [
    "# Colunas numéricas (quantitativas)\n",
    "num_cols = ['LTFRONT', 'LTDEPTH', 'STORIES', 'FULLVAL', 'AVLAND', 'AVTOT', 'EXLAND', 'EXTOT', 'BLDFRONT', 'BLDDEPTH', \\\n",
    "            'AVLAND2', 'AVTOT2', 'EXLAND2', 'EXTOT2']"
   ]
  },
  {
   "cell_type": "code",
   "execution_count": null,
   "metadata": {},
   "outputs": [],
   "source": [
    "# Colunas categóricas\n",
    "cat_cols = ['BBLE', 'B', 'BLOCK', 'LOT', 'EASEMENT', 'OWNER', 'BLDGCL', 'TAXCLASS', 'EXT', 'EXCD1', 'STADDR', 'ZIP',\\\n",
    "            'EXMPTCL', 'EXCD2', 'PERIOD', 'YEAR', 'VALTYPE']"
   ]
  },
  {
   "cell_type": "code",
   "execution_count": null,
   "metadata": {},
   "outputs": [],
   "source": [
    "# Verifica se o total de variáveis está coberto nos objetos anteriores\n",
    "len(num_cols) + len(cat_cols) == 31"
   ]
  },
  {
   "cell_type": "code",
   "execution_count": null,
   "metadata": {},
   "outputs": [],
   "source": [
    "# Dataframes com os tipos diferentes de variáveis\n",
    "df_num = dados[num_cols]\n",
    "df_cat = dados[cat_cols]"
   ]
  },
  {
   "cell_type": "code",
   "execution_count": null,
   "metadata": {},
   "outputs": [],
   "source": [
    "# Sumário estatístico das variáveis numéricas\n",
    "summ_num = pd.DataFrame(index = df_num.columns)\n",
    "summ_num['Tipo de Dado'] = df_num.dtypes.values\n",
    "summ_num['# Registros Não Nulos'] = df_num.count().values\n",
    "summ_num['# Registros Não Zero'] = df_num.astype(bool).sum(axis = 0)\n",
    "summ_num['% Populado'] = round(summ_num['# Registros Não Nulos'] / df_num.shape[0]*100,2)\n",
    "summ_num['# Valores Únicos'] = df_num.nunique().values\n",
    "summ_num['Mean'] = round(df_num.mean(),2)\n",
    "summ_num['Std'] = round(df_num.std(),2)\n",
    "summ_num['Min'] = round(df_num.min(),2)\n",
    "summ_num['Max'] = round(df_num.max(),2)\n",
    "summ_num"
   ]
  },
  {
   "cell_type": "code",
   "execution_count": null,
   "metadata": {},
   "outputs": [],
   "source": [
    "# Sumário estatístico das variáveis categóricas\n",
    "summ_cat = pd.DataFrame(index = df_cat.columns)\n",
    "summ_cat['Tipo de Dado'] = df_cat.dtypes.values\n",
    "summ_cat['# Registros Não Nulos'] = df_cat.count().values\n",
    "summ_cat['% Populado'] = round(summ_cat['# Registros Não Nulos'] / df_cat.shape[0]*100,2)\n",
    "summ_cat['# Valores Únicos'] = df_cat.nunique().values"
   ]
  },
  {
   "cell_type": "code",
   "execution_count": null,
   "metadata": {},
   "outputs": [],
   "source": [
    "# Adiciona mais uma coluna com valores mais comuns\n",
    "temp = []\n",
    "for col in cat_cols:\n",
    "    temp.append(df_cat[col].value_counts().idxmax())\n",
    "summ_cat['Valores Mais Comuns'] = temp"
   ]
  },
  {
   "cell_type": "code",
   "execution_count": null,
   "metadata": {},
   "outputs": [],
   "source": [
    "summ_cat"
   ]
  },
  {
   "cell_type": "markdown",
   "metadata": {},
   "source": [
    "## Identificação, Exploração e Visualização das Variáveis"
   ]
  },
  {
   "cell_type": "code",
   "execution_count": null,
   "metadata": {},
   "outputs": [],
   "source": [
    "# Variáveis\n",
    "dados.columns"
   ]
  },
  {
   "cell_type": "code",
   "execution_count": null,
   "metadata": {},
   "outputs": [],
   "source": [
    "# Visualiza\n",
    "dados.head()"
   ]
  },
  {
   "cell_type": "markdown",
   "metadata": {},
   "source": [
    "**Variável 1** \\\n",
    "Nome da Variável: BBLE \\\n",
    "Descrição: Concatenação de código Borough, código de bloco, código LOT; um número exclusivo para cada registro."
   ]
  },
  {
   "cell_type": "markdown",
   "metadata": {},
   "source": [
    "**Variável 2** \\\n",
    "Nome da Variável: B \\\n",
    "Descrição: Códigos Borough "
   ]
  },
  {
   "cell_type": "code",
   "execution_count": null,
   "metadata": {},
   "outputs": [],
   "source": [
    "# Visualização da variável 2\n",
    "sns.set_theme(style = 'whitegrid')\n",
    "plt.figure(figsize = (12, 6))\n",
    "fig1 = sns.countplot(x = 'B', data = dados, order = dados['B'].value_counts().index)\n",
    "plt.title(\"Número de Propriedades em Diferentes Bairros\")"
   ]
  },
  {
   "cell_type": "markdown",
   "metadata": {},
   "source": [
    "**Variável 3** \\\n",
    "Nome da Variável: BLOCK \\\n",
    "Descrição: Número de até 5 dígitos que representam códigos de bloco em diferentes bairros"
   ]
  },
  {
   "cell_type": "code",
   "execution_count": null,
   "metadata": {},
   "outputs": [],
   "source": [
    "# Contagem\n",
    "BLOCK = df_cat['BLOCK'].value_counts().rename_axis('Unique_values_BLOCK').reset_index(name = 'Counts')\n",
    "BLOCK[:15]"
   ]
  },
  {
   "cell_type": "markdown",
   "metadata": {},
   "source": [
    "**Variável 4** \\\n",
    "Nome da Variável: LOT \\\n",
    "Descrição: Número de até 4 dígitos que representam códigos de lote em diferentes Borough & Block"
   ]
  },
  {
   "cell_type": "code",
   "execution_count": null,
   "metadata": {},
   "outputs": [],
   "source": [
    "# Contagem\n",
    "LOT = df_cat['LOT'].value_counts().rename_axis('Unique_values_LOT').reset_index(name = 'Counts')[:15]\n",
    "LOT[:15]"
   ]
  },
  {
   "cell_type": "markdown",
   "metadata": {},
   "source": [
    "**Variável 5** \\\n",
    "Nome da Variável: EASEMENT  \\\n",
    "Descrição: Tipos de easement"
   ]
  },
  {
   "cell_type": "code",
   "execution_count": null,
   "metadata": {},
   "outputs": [],
   "source": [
    "# Visualização da variável 5\n",
    "sns.set_theme(style = 'whitegrid')\n",
    "plt.figure(figsize = (12, 6))\n",
    "fig2 = sns.countplot(x = 'EASEMENT', data = dados, order = dados['EASEMENT'].value_counts().index)\n",
    "fig2.set_yscale(\"log\")\n",
    "fig2.set_title('Quantidade de Imóveis com Diversos Tipos de Easement')"
   ]
  },
  {
   "cell_type": "markdown",
   "metadata": {},
   "source": [
    "**Variável 6** \\\n",
    "Nome da Variável: OWNER \\\n",
    "Descrição: Proprietários dos imóveis"
   ]
  },
  {
   "cell_type": "code",
   "execution_count": null,
   "metadata": {},
   "outputs": [],
   "source": [
    "# Contagem\n",
    "OWNER = df_cat['OWNER'].value_counts().rename_axis('Unique_values_OWNER').reset_index(name = 'Counts')"
   ]
  },
  {
   "cell_type": "code",
   "execution_count": null,
   "metadata": {},
   "outputs": [],
   "source": [
    "OWNER.head()"
   ]
  },
  {
   "cell_type": "code",
   "execution_count": null,
   "metadata": {},
   "outputs": [],
   "source": [
    "OWNER.tail()"
   ]
  },
  {
   "cell_type": "markdown",
   "metadata": {},
   "source": [
    "**Variável 7** \\\n",
    "Nome da Variável: BLDGCL \\\n",
    "Descrição: Classe do imóvel"
   ]
  },
  {
   "cell_type": "code",
   "execution_count": null,
   "metadata": {},
   "outputs": [],
   "source": [
    "# Contagem\n",
    "BLDGCL = df_cat['BLDGCL'].value_counts().rename_axis('Unique_values_BLDCGL').reset_index(name = 'Counts')"
   ]
  },
  {
   "cell_type": "code",
   "execution_count": null,
   "metadata": {},
   "outputs": [],
   "source": [
    "BLDGCL.tail()"
   ]
  },
  {
   "cell_type": "code",
   "execution_count": null,
   "metadata": {},
   "outputs": [],
   "source": [
    "BLDGCL.head()"
   ]
  },
  {
   "cell_type": "markdown",
   "metadata": {},
   "source": [
    "**Variável 8** \\\n",
    "Nome da Variável: TAXCLASS \\\n",
    "Descrição: Código de classe de imposto de propriedade"
   ]
  },
  {
   "cell_type": "code",
   "execution_count": null,
   "metadata": {},
   "outputs": [],
   "source": [
    "# Visualização da variável 8\n",
    "sns.set_theme(style = 'darkgrid')\n",
    "plt.figure(figsize = (14, 6))\n",
    "fig3 = sns.countplot(x = 'TAXCLASS', data = dados, order = dados['TAXCLASS'].value_counts().index)\n",
    "fig3.set_yscale(\"log\")\n",
    "fig3.set_title('Número de Propriedades com Vários Tipos de Classe')"
   ]
  },
  {
   "cell_type": "markdown",
   "metadata": {},
   "source": [
    "**Variável 9** \\\n",
    "Nome da Variável: LTFRONT \\\n",
    "Descrição: Frente do lote em pés (feet)"
   ]
  },
  {
   "cell_type": "code",
   "execution_count": null,
   "metadata": {},
   "outputs": [],
   "source": [
    "# Divide em percentis\n",
    "dados['LTFRONT'].describe(percentiles = [0.5,0.75,0.995])"
   ]
  },
  {
   "cell_type": "code",
   "execution_count": null,
   "metadata": {},
   "outputs": [],
   "source": [
    "# Filtra por valores iguais ou menores que 375\n",
    "tmp = dados[dados['LTFRONT'] <= 375]"
   ]
  },
  {
   "cell_type": "code",
   "execution_count": null,
   "metadata": {},
   "outputs": [],
   "source": [
    "# Visualização da variável 9\n",
    "sns.set_theme(style = 'whitegrid')\n",
    "plt.figure(figsize = (10, 5))\n",
    "fig4 = sns.distplot(tmp.LTFRONT, bins = 50)\n",
    "fig4.set_title('Distribuição da Variável LTFRONT')"
   ]
  },
  {
   "cell_type": "markdown",
   "metadata": {},
   "source": [
    "**Variável 10** \\\n",
    "Nome da Variável: LTDEPTH \\\n",
    "Descrição: Profundidade do lote em pés (feet)"
   ]
  },
  {
   "cell_type": "code",
   "execution_count": null,
   "metadata": {},
   "outputs": [],
   "source": [
    "# Divide em percentis\n",
    "dados['LTDEPTH'].describe(percentiles = [0.18,0.25,0.4,0.83,0.98,0.9995])"
   ]
  },
  {
   "cell_type": "code",
   "execution_count": null,
   "metadata": {},
   "outputs": [],
   "source": [
    "# Filtra por valores iguais ou menores que 425\n",
    "tmp = dados[dados['LTDEPTH'] <= 425]"
   ]
  },
  {
   "cell_type": "code",
   "execution_count": null,
   "metadata": {},
   "outputs": [],
   "source": [
    "# Visualização da variável 10\n",
    "sns.set_theme(style = 'whitegrid')\n",
    "plt.figure(figsize = (12, 6))\n",
    "fig5 = sns.distplot(tmp.LTDEPTH, bins = 50)\n",
    "fig5.set_yscale(\"log\")\n",
    "fig5.set_title('Distribuição da Variável LTDEPTH')"
   ]
  },
  {
   "cell_type": "markdown",
   "metadata": {},
   "source": [
    "**Variável 11** \\\n",
    "Nome da Variável: EXT \\\n",
    "Descrição: E- Extension, G- Garage, EG- Extension e Garage "
   ]
  },
  {
   "cell_type": "code",
   "execution_count": null,
   "metadata": {},
   "outputs": [],
   "source": [
    "# Visualização da variável 11\n",
    "sns.set_theme(style = 'whitegrid')\n",
    "plt.figure(figsize = (12, 6))\n",
    "fig6 = sns.countplot(x = 'EXT', data = dados, order = dados['EXT'].value_counts().index)\n",
    "fig6.set_title('Número de Propriedades com Vários Tipos de Extensões / Garagem')"
   ]
  },
  {
   "cell_type": "markdown",
   "metadata": {},
   "source": [
    "**Variável 12**  \\\n",
    "Nome da Variável: STORIES \\\n",
    "Descrição: Número de andares do edifício"
   ]
  },
  {
   "cell_type": "code",
   "execution_count": null,
   "metadata": {},
   "outputs": [],
   "source": [
    "# Divide em percentis\n",
    "dados['STORIES'].describe(percentiles = [0.5,0.75,0.995])"
   ]
  },
  {
   "cell_type": "code",
   "execution_count": null,
   "metadata": {},
   "outputs": [],
   "source": [
    "# Filtra \n",
    "tmp = dados[dados['STORIES'] <= 50]"
   ]
  },
  {
   "cell_type": "code",
   "execution_count": null,
   "metadata": {},
   "outputs": [],
   "source": [
    "# Visualização da variável 12\n",
    "sns.set_theme(style = 'whitegrid')\n",
    "plt.figure(figsize = (12, 6))\n",
    "fig7 = sns.distplot(tmp['STORIES'], kde = False, bins = 50)\n",
    "fig7.set_yscale('log', basey = 2)\n",
    "fig7.set_title('Distribuição de Andares das Propriedades')"
   ]
  },
  {
   "cell_type": "markdown",
   "metadata": {},
   "source": [
    "**Variável 13** \\\n",
    "Nome da Variável: FULLVAL \\\n",
    "Descrição: Valor de Mercado Total"
   ]
  },
  {
   "cell_type": "code",
   "execution_count": null,
   "metadata": {},
   "outputs": [],
   "source": [
    "# Divide em percentis\n",
    "dados['FULLVAL'].describe(percentiles = [0.5,0.75,0.95])"
   ]
  },
  {
   "cell_type": "code",
   "execution_count": null,
   "metadata": {},
   "outputs": [],
   "source": [
    "# Visualiza os dados\n",
    "dados['FULLVAL'].head()"
   ]
  },
  {
   "cell_type": "code",
   "execution_count": null,
   "metadata": {},
   "outputs": [],
   "source": [
    "# Filtra os dados para simplificar a visualização e evitar valores extremos\n",
    "tmp = dados[dados['FULLVAL'] <= 3000000]"
   ]
  },
  {
   "cell_type": "code",
   "execution_count": null,
   "metadata": {},
   "outputs": [],
   "source": [
    "# Visualização da variável 13\n",
    "dimensoes = (12, 8)\n",
    "fig, ax = pyplot.subplots(figsize = dimensoes)\n",
    "fig8 = sns.distplot(tmp.FULLVAL, kde = False, bins = 70)\n",
    "fig8.set_title('Distribuição do Valor de Mercado Total das Propriedades')"
   ]
  },
  {
   "cell_type": "markdown",
   "metadata": {},
   "source": [
    "**Variável 14** \\\n",
    "Nome da Variável: AVLAND \\\n",
    "Descrição: Valor de mercado do terreno"
   ]
  },
  {
   "cell_type": "code",
   "execution_count": null,
   "metadata": {},
   "outputs": [],
   "source": [
    "# Divide em percentis\n",
    "dados['AVLAND'].describe(percentiles = [0.5,0.75,0.95])"
   ]
  },
  {
   "cell_type": "code",
   "execution_count": null,
   "metadata": {},
   "outputs": [],
   "source": [
    "# Filtra os dados\n",
    "tmp = dados[dados['AVLAND'] <= 50000]"
   ]
  },
  {
   "cell_type": "code",
   "execution_count": null,
   "metadata": {},
   "outputs": [],
   "source": [
    "# Visualização da variável 14\n",
    "dimensoes = (12, 8)\n",
    "fig, ax = pyplot.subplots(figsize = dimensoes)\n",
    "fig9 = sns.distplot(tmp.AVLAND, kde = False, bins = 80)\n",
    "fig9.set_title('Distribuição do Valor de Mercado do Terreno das Propriedades')"
   ]
  },
  {
   "cell_type": "markdown",
   "metadata": {},
   "source": [
    "**Variável 15** \\\n",
    "Nome da Variável: EXLAND \\\n",
    "Descrição: Valor provisório do terreno com isenção temporária"
   ]
  },
  {
   "cell_type": "code",
   "execution_count": null,
   "metadata": {},
   "outputs": [],
   "source": [
    "# Divide em percentis\n",
    "dados['EXLAND'].describe(percentiles = [0.5,0.75,0.95])"
   ]
  },
  {
   "cell_type": "code",
   "execution_count": null,
   "metadata": {},
   "outputs": [],
   "source": [
    "# Filtro\n",
    "tmp = dados[dados['EXLAND'] <= 20000]"
   ]
  },
  {
   "cell_type": "code",
   "execution_count": null,
   "metadata": {},
   "outputs": [],
   "source": [
    "# Visualização da variável 15\n",
    "dimensoes = (14, 8)\n",
    "fig, ax = pyplot.subplots(figsize = dimensoes)\n",
    "fig11 = sns.distplot(tmp.EXLAND, kde = False, bins = 100)\n",
    "fig11.set_yscale('log', basey = 2)\n",
    "fig11.set_title('Valor Provisório do Terreno com Isenção Temporária')"
   ]
  },
  {
   "cell_type": "markdown",
   "metadata": {},
   "source": [
    "# Fim"
   ]
  }
 ],
 "metadata": {
  "kernelspec": {
   "display_name": "Python 3",
   "language": "python",
   "name": "python3"
  },
  "language_info": {
   "codemirror_mode": {
    "name": "ipython",
    "version": 3
   },
   "file_extension": ".py",
   "mimetype": "text/x-python",
   "name": "python",
   "nbconvert_exporter": "python",
   "pygments_lexer": "ipython3",
   "version": "3.8.11"
  },
  "toc": {
   "base_numbering": 1,
   "nav_menu": {},
   "number_sections": true,
   "sideBar": true,
   "skip_h1_title": false,
   "title_cell": "Table of Contents",
   "title_sidebar": "Contents",
   "toc_cell": false,
   "toc_position": {},
   "toc_section_display": true,
   "toc_window_display": false
  },
  "varInspector": {
   "cols": {
    "lenName": 16,
    "lenType": 16,
    "lenVar": 40
   },
   "kernels_config": {
    "python": {
     "delete_cmd_postfix": "",
     "delete_cmd_prefix": "del ",
     "library": "var_list.py",
     "varRefreshCmd": "print(var_dic_list())"
    },
    "r": {
     "delete_cmd_postfix": ") ",
     "delete_cmd_prefix": "rm(",
     "library": "var_list.r",
     "varRefreshCmd": "cat(var_dic_list()) "
    }
   },
   "types_to_exclude": [
    "module",
    "function",
    "builtin_function_or_method",
    "instance",
    "_Feature"
   ],
   "window_display": false
  }
 },
 "nbformat": 4,
 "nbformat_minor": 2
}
