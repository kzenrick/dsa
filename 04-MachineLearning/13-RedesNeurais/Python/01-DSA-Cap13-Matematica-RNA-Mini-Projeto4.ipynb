{
 "cells": [
  {
   "cell_type": "markdown",
   "metadata": {},
   "source": [
    "# <font color='blue'>Data Science Academy - Machine Learning</font>\n",
    "\n",
    "# <font color='blue'>Capítulo 13</font>"
   ]
  },
  {
   "cell_type": "code",
   "execution_count": 1,
   "metadata": {},
   "outputs": [
    {
     "name": "stdout",
     "output_type": "stream",
     "text": [
      "Versão da Linguagem Python Usada Neste Jupyter Notebook: 3.8.2\n"
     ]
    }
   ],
   "source": [
    "# Versão da Linguagem Python\n",
    "from platform import python_version\n",
    "print('Versão da Linguagem Python Usada Neste Jupyter Notebook:', python_version())"
   ]
  },
  {
   "cell_type": "markdown",
   "metadata": {},
   "source": [
    "## A Matemática das Redes Neurais Artificiais\n",
    "\n",
    "### Construindo a Rede Neural com Programação e Matemática"
   ]
  },
  {
   "cell_type": "markdown",
   "metadata": {},
   "source": [
    "![title](imagens/math.png)"
   ]
  },
  {
   "cell_type": "markdown",
   "metadata": {},
   "source": [
    "Teremos 2 Partes:\n",
    "\n",
    "- Parte 1 - Vamos construir uma rede neural artificial somente com operações matemáticas\n",
    "- Parte 2 - Vamos treinar a rede para Prever a Ocorrência de Câncer"
   ]
  },
  {
   "cell_type": "markdown",
   "metadata": {},
   "source": [
    "## A Arquitetura de Redes Neurais Artificiais"
   ]
  },
  {
   "cell_type": "markdown",
   "metadata": {},
   "source": [
    "Uma rede neural típica é constituída por um conjunto de neurônios interligados, infuenciando uns aos outros formando um sistema maior, capaz de armazenar conhecimento adquirido por meio de exemplos apresentados e, assim, podendo realizar inferências sobre novos conjuntos de dados. Vejamos a arquitetura de redes neurais artificiais.\n",
    "\n",
    "As redes neurais são comumente apresentadas como um grafo orientado, onde os vértices são os neurônios e as arestas as sinapses. A direção das arestas informa o tipo de alimentação, ou seja, como os neurônios são alimentados (recebem sinais de entrada). As redes neurais derivam seu poder devido a sua estrutura massiva e paralela e a habilidade de aprender por experiência. Essa experiência é transmitida por meio de exemplos obtidos do mundo real, definidos como um conjunto de características formados por dados de entrada e de saída. Se apresentamos esses dados de entrada e saída à rede, estamos diante de aprendizagem supervsionada e caso apresentemos apenas os dados de entrada, estamos diante de aprendizagem não supervisionada!\n",
    "\n",
    "O conhecimento obtido pela rede através dos exemplos é armazenado na forma de pesos das conexões, os quais serão ajustados a fim de tomar decisões corretas a partir de novas entradas, ou seja, novas situações do mundo real não conhecidas pela rede. O processo de ajuste dos pesos sinapticos é realizado pelo algoritmo de aprendizagem, responsável em armazenar na rede o conhecimento do mundo real obtido atraves de exemplos. Existem vários algoritmos de aprendizagem, dentre eles o backpropagation que é o algoritmo mais utilizado.\n",
    "\n",
    "![title](imagens/nnet.png)"
   ]
  },
  {
   "cell_type": "markdown",
   "metadata": {},
   "source": [
    "### Importando os Pacotes"
   ]
  },
  {
   "cell_type": "code",
   "execution_count": 2,
   "metadata": {},
   "outputs": [],
   "source": [
    "# Para atualizar um pacote, execute o comando abaixo no terminal ou prompt de comando:\n",
    "# pip install -U nome_pacote\n",
    "\n",
    "# Para instalar a versão exata de um pacote, execute o comando abaixo no terminal ou prompt de comando:\n",
    "# pip install nome_pacote==versão_desejada\n",
    "\n",
    "# Depois de instalar ou atualizar o pacote, reinicie o jupyter notebook."
   ]
  },
  {
   "cell_type": "code",
   "execution_count": 3,
   "metadata": {},
   "outputs": [],
   "source": [
    "# Instala o pacote watermark. \n",
    "# Esse pacote é usado para gravar as versões de outros pacotes usados neste jupyter notebook.\n",
    "#!pip install -q -U watermark"
   ]
  },
  {
   "cell_type": "code",
   "execution_count": 4,
   "metadata": {},
   "outputs": [],
   "source": [
    "# Por enquanto precisaremos somente do NumPy\n",
    "import numpy as np"
   ]
  },
  {
   "cell_type": "code",
   "execution_count": 5,
   "metadata": {},
   "outputs": [
    {
     "name": "stdout",
     "output_type": "stream",
     "text": [
      "Author: Data Science Academy\n",
      "\n",
      "numpy: 1.19.2\n",
      "\n"
     ]
    }
   ],
   "source": [
    "# Versões dos pacotes usados neste jupyter notebook\n",
    "%reload_ext watermark\n",
    "%watermark -a \"Data Science Academy\" --iversions"
   ]
  },
  {
   "cell_type": "markdown",
   "metadata": {},
   "source": [
    "### Parte 1 - Implementando Uma Rede Neural Artificial Somente com Fórmulas Matemáticas (Sem Frameworks)"
   ]
  },
  {
   "cell_type": "markdown",
   "metadata": {},
   "source": [
    "Faça a leitura do manual em pdf no próximo item de aprendizagem: Parâmetros x Hiperparâmetros."
   ]
  },
  {
   "cell_type": "markdown",
   "metadata": {},
   "source": [
    "### Parte 1A - Forward Propagation\n",
    "\n",
    "https://arxiv.org/pdf/1905.07490.pdf"
   ]
  },
  {
   "cell_type": "markdown",
   "metadata": {},
   "source": [
    "![title](imagens/nn.png)"
   ]
  },
  {
   "cell_type": "markdown",
   "metadata": {},
   "source": [
    "Faça a leitura do manual em pdf no próximo item de aprendizagem: Por Que Inicializamos os Pesos de Um Modelo de Rede Neural?"
   ]
  },
  {
   "cell_type": "markdown",
   "metadata": {},
   "source": [
    "### Desenvolvendo a Função Para Inicialização de Pesos"
   ]
  },
  {
   "cell_type": "code",
   "execution_count": 6,
   "metadata": {},
   "outputs": [],
   "source": [
    "# Função para inicialização randômica dos parâmetros do modelo\n",
    "def inicializa_parametros(dims_camada_entrada):\n",
    "    \n",
    "    # Dicionário para os parâmetros\n",
    "    parameters = {}\n",
    "    \n",
    "    # Comprimento das dimensões das camadas\n",
    "    comp = len(dims_camada_entrada)\n",
    "    \n",
    "    # Loop pelo comprimento\n",
    "    for i in range(1, comp):\n",
    "        \n",
    "        # Inicialização da matriz de pesos\n",
    "        parameters[\"W\" + str(i)] = np.random.randn(dims_camada_entrada[i], dims_camada_entrada[i - 1]) * 0.01\n",
    "        \n",
    "        # Inicialização do bias\n",
    "        parameters[\"b\" + str(i)] = np.zeros((dims_camada_entrada[i], 1))\n",
    "    \n",
    "    return parameters"
   ]
  },
  {
   "cell_type": "markdown",
   "metadata": {},
   "source": [
    "### Desenvolvendo a Função Sigmóide\n",
    "\n",
    "A principal razão pela qual usamos a função sigmóide é porque ela permite converter números para valores entre 0 e 1. \n",
    "\n",
    "Portanto, é especialmente usada para modelos em que temos que prever a probabilidade como uma saída. Como a probabilidade de qualquer coisa existir apenas entre o intervalo de 0 e 1, sigmoide é a escolha certa. Algumas caracterísiticas da função sigmóide:\n",
    "\n",
    "- A função é diferenciável. Isso significa que podemos encontrar a inclinação da curva sigmóide em dois pontos.\n",
    "- A função sigmóide logística pode fazer com que uma rede neural fique presa no momento do treinamento.\n",
    "- A função softmax é uma função de ativação logística mais generalizada, utilizada para a classificação em várias classes."
   ]
  },
  {
   "cell_type": "markdown",
   "metadata": {},
   "source": [
    "![title](imagens/sigmoid.png)"
   ]
  },
  {
   "cell_type": "markdown",
   "metadata": {},
   "source": [
    "Se a função parecer muito abstrata ou estranha para você, não se preocupe muito com detalhes como o número de Euler e ou como alguém criou essa função. Para aqueles que não são conhecedores de matemática, a única coisa importante sobre a função sigmóide é primeiro, sua curva e, segundo, sua derivada. Aqui estão mais alguns detalhes:\n",
    "\n",
    "- **A função sigmóide produz resultados semelhantes aos da função de passo (Step Function) em que a saída está entre 0 e 1. A curva cruza 0,5 a z = 0, e podemos definir regras para a função de ativação, como: Se a saída do neurônio sigmóide for maior que ou igual a 0,5, gera 1; se a saída for menor que 0,5, gera 0.**\n",
    "\n",
    "\n",
    "- A função sigmóide é suave e possui uma derivada simples de σ(z) * (1 - σ (z)), que é diferenciável em qualquer lugar da curva. \n",
    "\n",
    "\n",
    "- Se z for muito negativo, a saída será aproximadamente 0; se z for muito positivo, a saída é aproximadamente 1; mas em torno de z = 0, onde z não é muito grande nem muito pequeno, temos um desvio relativamente maior à medida que z muda."
   ]
  },
  {
   "cell_type": "markdown",
   "metadata": {},
   "source": [
    "**Afinal, O Que é Derivada?**\n",
    "\n",
    "![title](imagens/derivada.png)"
   ]
  },
  {
   "cell_type": "markdown",
   "metadata": {},
   "source": [
    "No Cálculo, a derivada em um ponto de uma função y = f(x) representa a taxa de variação instantânea de y em relação a x neste ponto. \n",
    "\n",
    "Um exemplo típico é a função velocidade que representa a taxa de variação (derivada) da função espaço. Do mesmo modo, a função aceleração é a derivada da função velocidade. Geometricamente, a derivada no ponto x = a de y = f(x) representa a inclinação da reta tangente ao gráfico desta função no ponto (a, f(a)).\n",
    "\n",
    "A função que a cada ponto x associa a derivada neste ponto de f(x) é chamada de função derivada de f(x)."
   ]
  },
  {
   "cell_type": "markdown",
   "metadata": {},
   "source": [
    "![title](imagens/derivada.gif)"
   ]
  },
  {
   "cell_type": "markdown",
   "metadata": {},
   "source": [
    "Em cada ponto, a derivada de f(x) é a tangente do ângulo que a reta tangente à curva faz em relação ao eixo das abscissas. A reta é sempre tangente à curva azul; a tangente do ângulo que ela faz com o eixo das abscissas é a derivada. Note-se que a derivada é positiva quando verde, negativa quando vermelha, e zero quando preta.\n",
    "\n",
    "A derivada de uma função y = f(x) num ponto x = x0, é igual ao valor da tangente trigonométrica do ângulo formado pela tangente geométrica à curva representativa de y=f(x), no ponto x = x0, ou seja, a derivada é o coeficiente angular da reta tangente ao gráfico da função no ponto x0.\n",
    "\n",
    "A função derivada é representada por f'(x)."
   ]
  },
  {
   "cell_type": "code",
   "execution_count": 7,
   "metadata": {},
   "outputs": [],
   "source": [
    "# Função sigmóide\n",
    "def sigmoid(Z):\n",
    "    A = 1 / (1 + np.exp(-Z))\n",
    "    return A, Z"
   ]
  },
  {
   "cell_type": "markdown",
   "metadata": {},
   "source": [
    "### Desenvolvendo a Função ReLU\n",
    "\n",
    "Para usar a descida de gradiente estocástico com retropropagação de erros para treinar redes neurais profundas, é necessária uma função de ativação que se assemelhe e atue como uma função linear, mas é, de fato, uma função não linear que permite que relacionamentos complexos nos dados sejam aprendidos.\n",
    "\n",
    "A solução é usar a função de ativação linear retificada ou ReL para abreviar. Um nó ou unidade que implementa essa função de ativação é chamado de unidade de ativação linear retificada ou ReLU, para abreviar. Frequentemente, as redes que usam a função retificadora para as camadas ocultas são chamadas de redes retificadas.\n",
    "\n",
    "A função ReLU é definida como 𝑓(𝑥) = max (0, 𝑥). Normalmente, ela é aplicada elemento a elemento à saída de alguma outra função, como um produto de vetor e matriz. \n",
    "\n",
    "A adoção da ReLU pode ser facilmente considerada um dos marcos na revolução do aprendizado profundo, por ex. as técnicas que agora permitem o desenvolvimento rotineiro de redes neurais muito profundas.\n",
    "\n",
    "A derivada da função linear retificada também é fácil de calcular. **A derivada da função de ativação é necessária ao atualizar os pesos de um nó como parte da retropropagação de erro.**\n",
    "\n",
    "A derivada da função é a inclinação. A inclinação para valores negativos é 0,0 e a inclinação para valores positivos é 1,0.\n",
    "\n",
    "Tradicionalmente, o campo das redes neurais evitou qualquer função de ativação que não fosse completamente diferenciável, talvez adiando a adoção da função linear retificada e de outras funções lineares. Tecnicamente, não podemos calcular a derivada quando a entrada é 0,0; portanto, podemos assumir que é zero. Este não é um problema na prática.\n",
    "\n",
    "Os gradientes das ativações tangentes e hiperbólicas são menores que a porção positiva da ReLU. Isso significa que a parte positiva é atualizada mais rapidamente à medida que o treinamento avança. No entanto, isso tem um custo. O gradiente 0 no lado esquerdo tem seu próprio problema, chamado \"neurônios mortos\", no qual uma atualização de gradiente define os valores recebidos para uma ReLU, de modo que a saída é sempre zero; unidades ReLU modificadas, como ELU (ou Leaky ReLU, ou PReLU, etc.) podem melhorar isso."
   ]
  },
  {
   "cell_type": "markdown",
   "metadata": {},
   "source": [
    "![title](imagens/relu.png)"
   ]
  },
  {
   "cell_type": "code",
   "execution_count": 8,
   "metadata": {},
   "outputs": [],
   "source": [
    "# Função de ativação ReLu (Rectified Linear Unit)\n",
    "def relu(Z):\n",
    "    A = abs(Z * (Z > 0))\n",
    "    return A, Z"
   ]
  },
  {
   "cell_type": "markdown",
   "metadata": {},
   "source": [
    "![title](imagens/net-relu.png)"
   ]
  },
  {
   "cell_type": "markdown",
   "metadata": {},
   "source": [
    "### Desenvolvendo a Ativação Linear"
   ]
  },
  {
   "cell_type": "code",
   "execution_count": 9,
   "metadata": {},
   "outputs": [],
   "source": [
    "# Operação de ativação\n",
    "# A é a matriz com os dados de entrada\n",
    "# W é a matriz de pesos\n",
    "# b é o bias\n",
    "def linear_activation(A, W, b):\n",
    "    Z = np.dot(W, A) + b\n",
    "    cache = (A, W, b)\n",
    "    return Z, cache"
   ]
  },
  {
   "cell_type": "markdown",
   "metadata": {},
   "source": [
    "### Construindo o Processo de Forward Propagation"
   ]
  },
  {
   "cell_type": "code",
   "execution_count": 10,
   "metadata": {},
   "outputs": [],
   "source": [
    "# Movimento para frente (forward)\n",
    "def forward(A_prev, W, b, activation):\n",
    "    \n",
    "    # Se a função de ativação for Sigmoid, entramos neste bloco\n",
    "    if activation == \"sigmoid\":\n",
    "        Z, linear_cache = linear_activation(A_prev, W, b)\n",
    "        A, activation_cache = sigmoid(Z)\n",
    "        \n",
    "    # Se não, se for ReLu, entramos neste bloco    \n",
    "    elif activation == \"relu\":\n",
    "        Z, linear_cache = linear_activation(A_prev, W, b)\n",
    "        A, activation_cache = relu(Z)\n",
    "        \n",
    "    cache = (linear_cache, activation_cache)\n",
    "    \n",
    "    return A, cache"
   ]
  },
  {
   "cell_type": "markdown",
   "metadata": {},
   "source": [
    "### Combinando Ativação e Propagação"
   ]
  },
  {
   "cell_type": "code",
   "execution_count": 11,
   "metadata": {},
   "outputs": [],
   "source": [
    "# Propagação para frente\n",
    "def forward_propagation(X, parameters):\n",
    "    \n",
    "    # Lista de valores anteriores (cache)\n",
    "    caches = []\n",
    "    \n",
    "    # Dados de entrada\n",
    "    A = X\n",
    "    \n",
    "    # Comprimento dos parâmetros\n",
    "    L = len(parameters) // 2\n",
    "   \n",
    "    # Loop\n",
    "    for i in range(1, L):\n",
    "      \n",
    "        # Guarda o valor prévio de A\n",
    "        A_prev = A\n",
    "        \n",
    "        # Executa o forward\n",
    "        A, cache = forward(A_prev, parameters[\"W\" + str(i)], parameters[\"b\" + str(i)], activation = \"relu\")\n",
    "        \n",
    "        # Grava o cache\n",
    "        caches.append(cache)\n",
    "    \n",
    "    # Saída na última camada\n",
    "    A_last, cache = forward(A, parameters[\"W\" + str(L)], parameters[\"b\" + str(L)], activation = \"sigmoid\")\n",
    "    \n",
    "    # Grava o cache\n",
    "    caches.append(cache)\n",
    "    \n",
    "    return(A_last, caches)"
   ]
  },
  {
   "cell_type": "markdown",
   "metadata": {},
   "source": [
    "### Desenvolvendo a Função de Custo"
   ]
  },
  {
   "cell_type": "markdown",
   "metadata": {},
   "source": [
    "![title](imagens/custo.png)"
   ]
  },
  {
   "cell_type": "code",
   "execution_count": 12,
   "metadata": {},
   "outputs": [],
   "source": [
    "# Função de custo (ou função de erro)\n",
    "def calcula_custo(A_last, Y):\n",
    "    \n",
    "    # Ajusta o shape de Y para obter seu comprimento (total de elementos)\n",
    "    m = Y.shape[1]\n",
    "    \n",
    "    # Calcula o custo comparando valor real e previso\n",
    "    custo = (-1 / m) * np.sum((Y * np.log(A_last)) + ((1 - Y) * np.log(1 - A_last)))\n",
    "    \n",
    "    # Ajusta o shape do custo\n",
    "    custo = np.squeeze(custo)\n",
    "    \n",
    "    return(custo)"
   ]
  },
  {
   "cell_type": "markdown",
   "metadata": {},
   "source": [
    "### Parte 1B - Backward Propagation"
   ]
  },
  {
   "cell_type": "markdown",
   "metadata": {},
   "source": [
    "![title](imagens/backpropagation.png)"
   ]
  },
  {
   "cell_type": "markdown",
   "metadata": {},
   "source": [
    "### Desenvolvendo o Backward Propagation - Função Sigmóide Backward"
   ]
  },
  {
   "cell_type": "code",
   "execution_count": 13,
   "metadata": {},
   "outputs": [],
   "source": [
    "# Função sigmoid para o backpropagation \n",
    "# Fazemos o cálculo da derivada pois não queremos o valor completo da função, mas sim sua variação\n",
    "def sigmoid_backward(da, Z):\n",
    "    \n",
    "    # Calculamos a derivada de Z\n",
    "    dg = (1 / (1 + np.exp(-Z))) * (1 - (1 / (1 + np.exp(-Z))))\n",
    "    \n",
    "    # Encontramos a mudança na derivada de z\n",
    "    dz = da * dg\n",
    "    return dz\n",
    "\n",
    "# Compare com a função sigmoid do forward propagation\n",
    "# A = 1 / (1 + np.exp(-Z))"
   ]
  },
  {
   "cell_type": "markdown",
   "metadata": {},
   "source": [
    "### Desenvolvendo o Backward Propagation - Função ReLu Backward"
   ]
  },
  {
   "cell_type": "code",
   "execution_count": 14,
   "metadata": {},
   "outputs": [],
   "source": [
    "# Função relu para o backpropagation \n",
    "# Fazemos o cálculo da derivada pois não queremos o valor completo da função, mas sim sua variação\n",
    "def relu_backward(da, Z):\n",
    "    \n",
    "    dg = 1 * ( Z >= 0)\n",
    "    dz = da * dg\n",
    "    return dz\n",
    "\n",
    "# Compare com a função relu do forward propagation:\n",
    "# A = abs(Z * (Z > 0))"
   ]
  },
  {
   "cell_type": "markdown",
   "metadata": {},
   "source": [
    "### Desenvolvendo o Backward Propagation - Ativação Linear Backward"
   ]
  },
  {
   "cell_type": "code",
   "execution_count": 15,
   "metadata": {},
   "outputs": [],
   "source": [
    "# Ativação linear para o backpropagation\n",
    "def linear_backward_function(dz, cache):\n",
    "    \n",
    "    # Recebe os valores do cache (memória)\n",
    "    A_prev, W, b = cache\n",
    "    \n",
    "    # Shape de m\n",
    "    m = A_prev.shape[1]\n",
    "    \n",
    "    # Calcula a derivada de W (resultado da operação com dz)\n",
    "    dW = (1 / m) * np.dot(dz, A_prev.T)\n",
    "    \n",
    "    # Calcula a derivada de b (resultado da operação com dz)\n",
    "    db = (1 / m) * np.sum(dz, axis = 1, keepdims = True)\n",
    "    \n",
    "    # Calcula a derivada da operação\n",
    "    dA_prev = np.dot(W.T, dz)\n",
    "    \n",
    "    return dA_prev, dW, db"
   ]
  },
  {
   "cell_type": "markdown",
   "metadata": {},
   "source": [
    "### Desenvolvendo o Backward Propagation - Ativação Linear Backward"
   ]
  },
  {
   "cell_type": "code",
   "execution_count": 16,
   "metadata": {},
   "outputs": [],
   "source": [
    "# Função que define o tipo de ativação (relu ou sigmoid)\n",
    "def linear_activation_backward(dA, cache, activation):\n",
    "    \n",
    "    # Extrai o cache\n",
    "    linear_cache, activation_cache = cache\n",
    "    \n",
    "    # Verifica se a ativação é relu\n",
    "    if activation == \"relu\":\n",
    "        dZ = relu_backward(dA, activation_cache)\n",
    "        dA_prev, dW, db = linear_backward_function(dZ, linear_cache)\n",
    "        \n",
    "    # Verifica se a ativação é sigmoid\n",
    "    if activation == \"sigmoid\":\n",
    "        dZ = sigmoid_backward(dA, activation_cache)\n",
    "        dA_prev, dW, db = linear_backward_function(dZ, linear_cache)\n",
    "        \n",
    "    return dA_prev, dW, db"
   ]
  },
  {
   "cell_type": "markdown",
   "metadata": {},
   "source": [
    "### Combinando Ativação e Retropropagação - Algoritmo Backpropagation"
   ]
  },
  {
   "cell_type": "code",
   "execution_count": 17,
   "metadata": {},
   "outputs": [],
   "source": [
    "# Algoritmo Backpropagation (calcula os gradientes para atualização dos pesos)\n",
    "# AL = Valor previsto no Forward\n",
    "# Y = Valor real\n",
    "def backward_propagation(AL, Y, caches):\n",
    "    \n",
    "    # Dicionário para os gradientes\n",
    "    grads = {}\n",
    "    \n",
    "    # Comprimento dos dados (que estão no cache)\n",
    "    L = len(caches)\n",
    "    \n",
    "    # Extrai o comprimento para o valor de m\n",
    "    m = AL.shape[1]\n",
    "    \n",
    "    # Ajusta o shape de Y\n",
    "    Y = Y.reshape(AL.shape)\n",
    "    \n",
    "    # Calcula a derivada da previsão final da rede (feita ao final do Forward Propagation)\n",
    "    dAL = -((Y / AL) - ((1 - Y) / (1 - AL)))\n",
    "    \n",
    "    # Captura o valor corrente do cache\n",
    "    current_cache = caches[L - 1]\n",
    "    \n",
    "    # Gera a lista de gradiente para os dados, os pesos e o bias\n",
    "    # Fazemos isso uma vez, pois estamos na parte final da rede, iniciando o caminho de volta\n",
    "    grads[\"dA\" + str(L - 1)], grads[\"dW\" + str(L)], grads[\"db\" + str(L)] = linear_activation_backward(dAL, current_cache, activation = \"sigmoid\")\n",
    "    \n",
    "    # Loop para calcular a derivada durante as ativações lineares com a relu\n",
    "    for l in reversed(range(L - 1)):\n",
    "        \n",
    "        # Cache atual\n",
    "        current_cache = caches[l]\n",
    "        \n",
    "        # Calcula as derivadas\n",
    "        dA_prev, dW, db = linear_activation_backward(grads[\"dA\" + str(l + 1)], current_cache, activation = \"relu\")\n",
    "        \n",
    "        # Alimenta os gradientes na lista, usando o índice respectivo\n",
    "        grads[\"dA\" + str(l)] = dA_prev\n",
    "        grads[\"dW\" + str(l + 1)] = dW\n",
    "        grads[\"db\" + str(l + 1)] = db\n",
    "        \n",
    "    return grads"
   ]
  },
  {
   "cell_type": "markdown",
   "metadata": {},
   "source": [
    "### Gradientes e Atualização dos Pesos"
   ]
  },
  {
   "cell_type": "code",
   "execution_count": 18,
   "metadata": {},
   "outputs": [],
   "source": [
    "# Função de atualização de pesos\n",
    "def atualiza_pesos(parameters, grads, learning_rate):\n",
    "    \n",
    "    # Comprimento da estrutura de dados com os parâmetros (pesos e bias)\n",
    "    L = len(parameters)//2\n",
    "    \n",
    "    # Loop para atualização dos pesos\n",
    "    for l in range(L):\n",
    "        \n",
    "        # Atualização dos pesos\n",
    "        parameters[\"W\" + str(l + 1)] = parameters[\"W\" + str(l + 1)] - (learning_rate * grads[\"dW\" + str(l + 1)])\n",
    "        \n",
    "        # Atualização do bias\n",
    "        parameters[\"b\" + str(l + 1)] = parameters[\"b\" + str(l + 1)] - (learning_rate * grads[\"db\" + str(l + 1)])\n",
    "    \n",
    "    return parameters"
   ]
  },
  {
   "cell_type": "markdown",
   "metadata": {},
   "source": [
    "### Implementando a Rede Completa"
   ]
  },
  {
   "cell_type": "code",
   "execution_count": 19,
   "metadata": {},
   "outputs": [],
   "source": [
    "# Modelo completo da rede neural\n",
    "def modeloNN(X, Y, dims_camada_entrada, learning_rate = 0.0075, num_iterations = 100):\n",
    "    \n",
    "    # Lista para receber o custo a cada época de treinamento\n",
    "    custos = []\n",
    "    \n",
    "    # Inicializa os parâmetros\n",
    "    parametros = inicializa_parametros(dims_camada_entrada)\n",
    "    \n",
    "    # Loop pelo número de iterações (épocas)\n",
    "    for i in range(num_iterations):\n",
    "        \n",
    "        # Forward Propagation\n",
    "        AL, caches = forward_propagation(X, parametros)\n",
    "        \n",
    "        # Calcula o custo\n",
    "        custo = calcula_custo(AL, Y)\n",
    "        \n",
    "        # Backward Propagation\n",
    "        # Nota: ao invés de AL e Y, poderíamos passar somente o valor do custo\n",
    "        # Estamos passando o valor de AL e Y para fique claro didaticamente o que está sendo feito\n",
    "        gradientes = backward_propagation(AL, Y, caches)\n",
    "        \n",
    "        # Atualiza os pesos\n",
    "        parametros = atualiza_pesos(parametros, gradientes, learning_rate)\n",
    "        \n",
    "        # Print do valor intermediário do custo\n",
    "        # A redução do custo indica o aprendizado do modelo\n",
    "        if i % 10 == 0:\n",
    "            print(\"Custo Após \" + str(i) + \" iterações é \" + str(custo))\n",
    "            custos.append(custo)\n",
    "            \n",
    "    return parametros, custos "
   ]
  },
  {
   "cell_type": "code",
   "execution_count": 20,
   "metadata": {},
   "outputs": [],
   "source": [
    "# Função para fazer as previsões\n",
    "# Não precisamos do Backpropagation pois ao fazer previsões como o modelo treinado, \n",
    "# teremos os melhores valores de pesos (parametros)\n",
    "def predict(X, parametros):\n",
    "    AL, caches = forward_propagation(X, parametros)\n",
    "    return AL"
   ]
  },
  {
   "cell_type": "markdown",
   "metadata": {},
   "source": [
    "### Parte 2 - Vamos treinar a rede para Prever a Ocorrência de Câncer"
   ]
  },
  {
   "cell_type": "markdown",
   "metadata": {},
   "source": [
    "### Mini-Projeto 4 - Usando a Rede Neural Para Prever a Ocorrência de Câncer"
   ]
  },
  {
   "cell_type": "code",
   "execution_count": 21,
   "metadata": {},
   "outputs": [],
   "source": [
    "# Imports\n",
    "import sklearn\n",
    "import numpy as np\n",
    "import pandas as pd\n",
    "import matplotlib\n",
    "import matplotlib.pyplot as plt\n",
    "from sklearn.datasets import load_breast_cancer\n",
    "from sklearn.model_selection import train_test_split\n",
    "from sklearn.metrics import classification_report"
   ]
  },
  {
   "cell_type": "code",
   "execution_count": 22,
   "metadata": {},
   "outputs": [
    {
     "name": "stdout",
     "output_type": "stream",
     "text": [
      "Author: Data Science Academy\n",
      "\n",
      "pandas    : 1.3.5\n",
      "numpy     : 1.19.2\n",
      "sklearn   : 1.0.2\n",
      "matplotlib: 3.5.0\n",
      "\n"
     ]
    }
   ],
   "source": [
    "# Versões dos pacotes usados neste jupyter notebook\n",
    "%reload_ext watermark\n",
    "%watermark -a \"Data Science Academy\" --iversions"
   ]
  },
  {
   "cell_type": "markdown",
   "metadata": {},
   "source": [
    "### Carregando os Dados\n",
    "\n",
    "https://scikit-learn.org/stable/datasets/index.html#breast-cancer-dataset"
   ]
  },
  {
   "cell_type": "code",
   "execution_count": 23,
   "metadata": {},
   "outputs": [],
   "source": [
    "# Carregamos o objeto completo\n",
    "temp = load_breast_cancer()"
   ]
  },
  {
   "cell_type": "code",
   "execution_count": 24,
   "metadata": {},
   "outputs": [
    {
     "data": {
      "text/plain": [
       "sklearn.utils.Bunch"
      ]
     },
     "execution_count": 24,
     "metadata": {},
     "output_type": "execute_result"
    }
   ],
   "source": [
    "# Tipo do objeto\n",
    "type(temp)"
   ]
  },
  {
   "cell_type": "code",
   "execution_count": 25,
   "metadata": {},
   "outputs": [
    {
     "data": {
      "text/plain": [
       "{'data': array([[1.799e+01, 1.038e+01, 1.228e+02, ..., 2.654e-01, 4.601e-01,\n",
       "         1.189e-01],\n",
       "        [2.057e+01, 1.777e+01, 1.329e+02, ..., 1.860e-01, 2.750e-01,\n",
       "         8.902e-02],\n",
       "        [1.969e+01, 2.125e+01, 1.300e+02, ..., 2.430e-01, 3.613e-01,\n",
       "         8.758e-02],\n",
       "        ...,\n",
       "        [1.660e+01, 2.808e+01, 1.083e+02, ..., 1.418e-01, 2.218e-01,\n",
       "         7.820e-02],\n",
       "        [2.060e+01, 2.933e+01, 1.401e+02, ..., 2.650e-01, 4.087e-01,\n",
       "         1.240e-01],\n",
       "        [7.760e+00, 2.454e+01, 4.792e+01, ..., 0.000e+00, 2.871e-01,\n",
       "         7.039e-02]]),\n",
       " 'target': array([0, 0, 0, 0, 0, 0, 0, 0, 0, 0, 0, 0, 0, 0, 0, 0, 0, 0, 0, 1, 1, 1,\n",
       "        0, 0, 0, 0, 0, 0, 0, 0, 0, 0, 0, 0, 0, 0, 0, 1, 0, 0, 0, 0, 0, 0,\n",
       "        0, 0, 1, 0, 1, 1, 1, 1, 1, 0, 0, 1, 0, 0, 1, 1, 1, 1, 0, 1, 0, 0,\n",
       "        1, 1, 1, 1, 0, 1, 0, 0, 1, 0, 1, 0, 0, 1, 1, 1, 0, 0, 1, 0, 0, 0,\n",
       "        1, 1, 1, 0, 1, 1, 0, 0, 1, 1, 1, 0, 0, 1, 1, 1, 1, 0, 1, 1, 0, 1,\n",
       "        1, 1, 1, 1, 1, 1, 1, 0, 0, 0, 1, 0, 0, 1, 1, 1, 0, 0, 1, 0, 1, 0,\n",
       "        0, 1, 0, 0, 1, 1, 0, 1, 1, 0, 1, 1, 1, 1, 0, 1, 1, 1, 1, 1, 1, 1,\n",
       "        1, 1, 0, 1, 1, 1, 1, 0, 0, 1, 0, 1, 1, 0, 0, 1, 1, 0, 0, 1, 1, 1,\n",
       "        1, 0, 1, 1, 0, 0, 0, 1, 0, 1, 0, 1, 1, 1, 0, 1, 1, 0, 0, 1, 0, 0,\n",
       "        0, 0, 1, 0, 0, 0, 1, 0, 1, 0, 1, 1, 0, 1, 0, 0, 0, 0, 1, 1, 0, 0,\n",
       "        1, 1, 1, 0, 1, 1, 1, 1, 1, 0, 0, 1, 1, 0, 1, 1, 0, 0, 1, 0, 1, 1,\n",
       "        1, 1, 0, 1, 1, 1, 1, 1, 0, 1, 0, 0, 0, 0, 0, 0, 0, 0, 0, 0, 0, 0,\n",
       "        0, 0, 1, 1, 1, 1, 1, 1, 0, 1, 0, 1, 1, 0, 1, 1, 0, 1, 0, 0, 1, 1,\n",
       "        1, 1, 1, 1, 1, 1, 1, 1, 1, 1, 1, 0, 1, 1, 0, 1, 0, 1, 1, 1, 1, 1,\n",
       "        1, 1, 1, 1, 1, 1, 1, 1, 1, 0, 1, 1, 1, 0, 1, 0, 1, 1, 1, 1, 0, 0,\n",
       "        0, 1, 1, 1, 1, 0, 1, 0, 1, 0, 1, 1, 1, 0, 1, 1, 1, 1, 1, 1, 1, 0,\n",
       "        0, 0, 1, 1, 1, 1, 1, 1, 1, 1, 1, 1, 1, 0, 0, 1, 0, 0, 0, 1, 0, 0,\n",
       "        1, 1, 1, 1, 1, 0, 1, 1, 1, 1, 1, 0, 1, 1, 1, 0, 1, 1, 0, 0, 1, 1,\n",
       "        1, 1, 1, 1, 0, 1, 1, 1, 1, 1, 1, 1, 0, 1, 1, 1, 1, 1, 0, 1, 1, 0,\n",
       "        1, 1, 1, 1, 1, 1, 1, 1, 1, 1, 1, 1, 0, 1, 0, 0, 1, 0, 1, 1, 1, 1,\n",
       "        1, 0, 1, 1, 0, 1, 0, 1, 1, 0, 1, 0, 1, 1, 1, 1, 1, 1, 1, 1, 0, 0,\n",
       "        1, 1, 1, 1, 1, 1, 0, 1, 1, 1, 1, 1, 1, 1, 1, 1, 1, 0, 1, 1, 1, 1,\n",
       "        1, 1, 1, 0, 1, 0, 1, 1, 0, 1, 1, 1, 1, 1, 0, 0, 1, 0, 1, 0, 1, 1,\n",
       "        1, 1, 1, 0, 1, 1, 0, 1, 0, 1, 0, 0, 1, 1, 1, 0, 1, 1, 1, 1, 1, 1,\n",
       "        1, 1, 1, 1, 1, 0, 1, 0, 0, 1, 1, 1, 1, 1, 1, 1, 1, 1, 1, 1, 1, 1,\n",
       "        1, 1, 1, 1, 1, 1, 1, 1, 1, 1, 1, 1, 0, 0, 0, 0, 0, 0, 1]),\n",
       " 'frame': None,\n",
       " 'target_names': array(['malignant', 'benign'], dtype='<U9'),\n",
       " 'DESCR': '.. _breast_cancer_dataset:\\n\\nBreast cancer wisconsin (diagnostic) dataset\\n--------------------------------------------\\n\\n**Data Set Characteristics:**\\n\\n    :Number of Instances: 569\\n\\n    :Number of Attributes: 30 numeric, predictive attributes and the class\\n\\n    :Attribute Information:\\n        - radius (mean of distances from center to points on the perimeter)\\n        - texture (standard deviation of gray-scale values)\\n        - perimeter\\n        - area\\n        - smoothness (local variation in radius lengths)\\n        - compactness (perimeter^2 / area - 1.0)\\n        - concavity (severity of concave portions of the contour)\\n        - concave points (number of concave portions of the contour)\\n        - symmetry\\n        - fractal dimension (\"coastline approximation\" - 1)\\n\\n        The mean, standard error, and \"worst\" or largest (mean of the three\\n        worst/largest values) of these features were computed for each image,\\n        resulting in 30 features.  For instance, field 0 is Mean Radius, field\\n        10 is Radius SE, field 20 is Worst Radius.\\n\\n        - class:\\n                - WDBC-Malignant\\n                - WDBC-Benign\\n\\n    :Summary Statistics:\\n\\n    ===================================== ====== ======\\n                                           Min    Max\\n    ===================================== ====== ======\\n    radius (mean):                        6.981  28.11\\n    texture (mean):                       9.71   39.28\\n    perimeter (mean):                     43.79  188.5\\n    area (mean):                          143.5  2501.0\\n    smoothness (mean):                    0.053  0.163\\n    compactness (mean):                   0.019  0.345\\n    concavity (mean):                     0.0    0.427\\n    concave points (mean):                0.0    0.201\\n    symmetry (mean):                      0.106  0.304\\n    fractal dimension (mean):             0.05   0.097\\n    radius (standard error):              0.112  2.873\\n    texture (standard error):             0.36   4.885\\n    perimeter (standard error):           0.757  21.98\\n    area (standard error):                6.802  542.2\\n    smoothness (standard error):          0.002  0.031\\n    compactness (standard error):         0.002  0.135\\n    concavity (standard error):           0.0    0.396\\n    concave points (standard error):      0.0    0.053\\n    symmetry (standard error):            0.008  0.079\\n    fractal dimension (standard error):   0.001  0.03\\n    radius (worst):                       7.93   36.04\\n    texture (worst):                      12.02  49.54\\n    perimeter (worst):                    50.41  251.2\\n    area (worst):                         185.2  4254.0\\n    smoothness (worst):                   0.071  0.223\\n    compactness (worst):                  0.027  1.058\\n    concavity (worst):                    0.0    1.252\\n    concave points (worst):               0.0    0.291\\n    symmetry (worst):                     0.156  0.664\\n    fractal dimension (worst):            0.055  0.208\\n    ===================================== ====== ======\\n\\n    :Missing Attribute Values: None\\n\\n    :Class Distribution: 212 - Malignant, 357 - Benign\\n\\n    :Creator:  Dr. William H. Wolberg, W. Nick Street, Olvi L. Mangasarian\\n\\n    :Donor: Nick Street\\n\\n    :Date: November, 1995\\n\\nThis is a copy of UCI ML Breast Cancer Wisconsin (Diagnostic) datasets.\\nhttps://goo.gl/U2Uwz2\\n\\nFeatures are computed from a digitized image of a fine needle\\naspirate (FNA) of a breast mass.  They describe\\ncharacteristics of the cell nuclei present in the image.\\n\\nSeparating plane described above was obtained using\\nMultisurface Method-Tree (MSM-T) [K. P. Bennett, \"Decision Tree\\nConstruction Via Linear Programming.\" Proceedings of the 4th\\nMidwest Artificial Intelligence and Cognitive Science Society,\\npp. 97-101, 1992], a classification method which uses linear\\nprogramming to construct a decision tree.  Relevant features\\nwere selected using an exhaustive search in the space of 1-4\\nfeatures and 1-3 separating planes.\\n\\nThe actual linear program used to obtain the separating plane\\nin the 3-dimensional space is that described in:\\n[K. P. Bennett and O. L. Mangasarian: \"Robust Linear\\nProgramming Discrimination of Two Linearly Inseparable Sets\",\\nOptimization Methods and Software 1, 1992, 23-34].\\n\\nThis database is also available through the UW CS ftp server:\\n\\nftp ftp.cs.wisc.edu\\ncd math-prog/cpo-dataset/machine-learn/WDBC/\\n\\n.. topic:: References\\n\\n   - W.N. Street, W.H. Wolberg and O.L. Mangasarian. Nuclear feature extraction \\n     for breast tumor diagnosis. IS&T/SPIE 1993 International Symposium on \\n     Electronic Imaging: Science and Technology, volume 1905, pages 861-870,\\n     San Jose, CA, 1993.\\n   - O.L. Mangasarian, W.N. Street and W.H. Wolberg. Breast cancer diagnosis and \\n     prognosis via linear programming. Operations Research, 43(4), pages 570-577, \\n     July-August 1995.\\n   - W.H. Wolberg, W.N. Street, and O.L. Mangasarian. Machine learning techniques\\n     to diagnose breast cancer from fine-needle aspirates. Cancer Letters 77 (1994) \\n     163-171.',\n",
       " 'feature_names': array(['mean radius', 'mean texture', 'mean perimeter', 'mean area',\n",
       "        'mean smoothness', 'mean compactness', 'mean concavity',\n",
       "        'mean concave points', 'mean symmetry', 'mean fractal dimension',\n",
       "        'radius error', 'texture error', 'perimeter error', 'area error',\n",
       "        'smoothness error', 'compactness error', 'concavity error',\n",
       "        'concave points error', 'symmetry error',\n",
       "        'fractal dimension error', 'worst radius', 'worst texture',\n",
       "        'worst perimeter', 'worst area', 'worst smoothness',\n",
       "        'worst compactness', 'worst concavity', 'worst concave points',\n",
       "        'worst symmetry', 'worst fractal dimension'], dtype='<U23'),\n",
       " 'filename': 'breast_cancer.csv',\n",
       " 'data_module': 'sklearn.datasets.data'}"
      ]
     },
     "execution_count": 25,
     "metadata": {},
     "output_type": "execute_result"
    }
   ],
   "source": [
    "# Visualiza o objeto\n",
    "temp"
   ]
  },
  {
   "cell_type": "code",
   "execution_count": 26,
   "metadata": {},
   "outputs": [],
   "source": [
    "# Carregamos o dataset\n",
    "dados = pd.DataFrame(columns = load_breast_cancer()[\"feature_names\"], data = load_breast_cancer()[\"data\"])"
   ]
  },
  {
   "cell_type": "code",
   "execution_count": 27,
   "metadata": {},
   "outputs": [
    {
     "data": {
      "text/plain": [
       "(569, 30)"
      ]
     },
     "execution_count": 27,
     "metadata": {},
     "output_type": "execute_result"
    }
   ],
   "source": [
    "# Shape\n",
    "dados.shape"
   ]
  },
  {
   "cell_type": "code",
   "execution_count": 28,
   "metadata": {},
   "outputs": [
    {
     "data": {
      "text/html": [
       "<div>\n",
       "<style scoped>\n",
       "    .dataframe tbody tr th:only-of-type {\n",
       "        vertical-align: middle;\n",
       "    }\n",
       "\n",
       "    .dataframe tbody tr th {\n",
       "        vertical-align: top;\n",
       "    }\n",
       "\n",
       "    .dataframe thead th {\n",
       "        text-align: right;\n",
       "    }\n",
       "</style>\n",
       "<table border=\"1\" class=\"dataframe\">\n",
       "  <thead>\n",
       "    <tr style=\"text-align: right;\">\n",
       "      <th></th>\n",
       "      <th>mean radius</th>\n",
       "      <th>mean texture</th>\n",
       "      <th>mean perimeter</th>\n",
       "      <th>mean area</th>\n",
       "      <th>mean smoothness</th>\n",
       "      <th>mean compactness</th>\n",
       "      <th>mean concavity</th>\n",
       "      <th>mean concave points</th>\n",
       "      <th>mean symmetry</th>\n",
       "      <th>mean fractal dimension</th>\n",
       "      <th>...</th>\n",
       "      <th>worst radius</th>\n",
       "      <th>worst texture</th>\n",
       "      <th>worst perimeter</th>\n",
       "      <th>worst area</th>\n",
       "      <th>worst smoothness</th>\n",
       "      <th>worst compactness</th>\n",
       "      <th>worst concavity</th>\n",
       "      <th>worst concave points</th>\n",
       "      <th>worst symmetry</th>\n",
       "      <th>worst fractal dimension</th>\n",
       "    </tr>\n",
       "  </thead>\n",
       "  <tbody>\n",
       "    <tr>\n",
       "      <th>0</th>\n",
       "      <td>17.99</td>\n",
       "      <td>10.38</td>\n",
       "      <td>122.80</td>\n",
       "      <td>1001.0</td>\n",
       "      <td>0.11840</td>\n",
       "      <td>0.27760</td>\n",
       "      <td>0.3001</td>\n",
       "      <td>0.14710</td>\n",
       "      <td>0.2419</td>\n",
       "      <td>0.07871</td>\n",
       "      <td>...</td>\n",
       "      <td>25.38</td>\n",
       "      <td>17.33</td>\n",
       "      <td>184.60</td>\n",
       "      <td>2019.0</td>\n",
       "      <td>0.1622</td>\n",
       "      <td>0.6656</td>\n",
       "      <td>0.7119</td>\n",
       "      <td>0.2654</td>\n",
       "      <td>0.4601</td>\n",
       "      <td>0.11890</td>\n",
       "    </tr>\n",
       "    <tr>\n",
       "      <th>1</th>\n",
       "      <td>20.57</td>\n",
       "      <td>17.77</td>\n",
       "      <td>132.90</td>\n",
       "      <td>1326.0</td>\n",
       "      <td>0.08474</td>\n",
       "      <td>0.07864</td>\n",
       "      <td>0.0869</td>\n",
       "      <td>0.07017</td>\n",
       "      <td>0.1812</td>\n",
       "      <td>0.05667</td>\n",
       "      <td>...</td>\n",
       "      <td>24.99</td>\n",
       "      <td>23.41</td>\n",
       "      <td>158.80</td>\n",
       "      <td>1956.0</td>\n",
       "      <td>0.1238</td>\n",
       "      <td>0.1866</td>\n",
       "      <td>0.2416</td>\n",
       "      <td>0.1860</td>\n",
       "      <td>0.2750</td>\n",
       "      <td>0.08902</td>\n",
       "    </tr>\n",
       "    <tr>\n",
       "      <th>2</th>\n",
       "      <td>19.69</td>\n",
       "      <td>21.25</td>\n",
       "      <td>130.00</td>\n",
       "      <td>1203.0</td>\n",
       "      <td>0.10960</td>\n",
       "      <td>0.15990</td>\n",
       "      <td>0.1974</td>\n",
       "      <td>0.12790</td>\n",
       "      <td>0.2069</td>\n",
       "      <td>0.05999</td>\n",
       "      <td>...</td>\n",
       "      <td>23.57</td>\n",
       "      <td>25.53</td>\n",
       "      <td>152.50</td>\n",
       "      <td>1709.0</td>\n",
       "      <td>0.1444</td>\n",
       "      <td>0.4245</td>\n",
       "      <td>0.4504</td>\n",
       "      <td>0.2430</td>\n",
       "      <td>0.3613</td>\n",
       "      <td>0.08758</td>\n",
       "    </tr>\n",
       "    <tr>\n",
       "      <th>3</th>\n",
       "      <td>11.42</td>\n",
       "      <td>20.38</td>\n",
       "      <td>77.58</td>\n",
       "      <td>386.1</td>\n",
       "      <td>0.14250</td>\n",
       "      <td>0.28390</td>\n",
       "      <td>0.2414</td>\n",
       "      <td>0.10520</td>\n",
       "      <td>0.2597</td>\n",
       "      <td>0.09744</td>\n",
       "      <td>...</td>\n",
       "      <td>14.91</td>\n",
       "      <td>26.50</td>\n",
       "      <td>98.87</td>\n",
       "      <td>567.7</td>\n",
       "      <td>0.2098</td>\n",
       "      <td>0.8663</td>\n",
       "      <td>0.6869</td>\n",
       "      <td>0.2575</td>\n",
       "      <td>0.6638</td>\n",
       "      <td>0.17300</td>\n",
       "    </tr>\n",
       "    <tr>\n",
       "      <th>4</th>\n",
       "      <td>20.29</td>\n",
       "      <td>14.34</td>\n",
       "      <td>135.10</td>\n",
       "      <td>1297.0</td>\n",
       "      <td>0.10030</td>\n",
       "      <td>0.13280</td>\n",
       "      <td>0.1980</td>\n",
       "      <td>0.10430</td>\n",
       "      <td>0.1809</td>\n",
       "      <td>0.05883</td>\n",
       "      <td>...</td>\n",
       "      <td>22.54</td>\n",
       "      <td>16.67</td>\n",
       "      <td>152.20</td>\n",
       "      <td>1575.0</td>\n",
       "      <td>0.1374</td>\n",
       "      <td>0.2050</td>\n",
       "      <td>0.4000</td>\n",
       "      <td>0.1625</td>\n",
       "      <td>0.2364</td>\n",
       "      <td>0.07678</td>\n",
       "    </tr>\n",
       "  </tbody>\n",
       "</table>\n",
       "<p>5 rows × 30 columns</p>\n",
       "</div>"
      ],
      "text/plain": [
       "   mean radius  mean texture  mean perimeter  mean area  mean smoothness  \\\n",
       "0        17.99         10.38          122.80     1001.0          0.11840   \n",
       "1        20.57         17.77          132.90     1326.0          0.08474   \n",
       "2        19.69         21.25          130.00     1203.0          0.10960   \n",
       "3        11.42         20.38           77.58      386.1          0.14250   \n",
       "4        20.29         14.34          135.10     1297.0          0.10030   \n",
       "\n",
       "   mean compactness  mean concavity  mean concave points  mean symmetry  \\\n",
       "0           0.27760          0.3001              0.14710         0.2419   \n",
       "1           0.07864          0.0869              0.07017         0.1812   \n",
       "2           0.15990          0.1974              0.12790         0.2069   \n",
       "3           0.28390          0.2414              0.10520         0.2597   \n",
       "4           0.13280          0.1980              0.10430         0.1809   \n",
       "\n",
       "   mean fractal dimension  ...  worst radius  worst texture  worst perimeter  \\\n",
       "0                 0.07871  ...         25.38          17.33           184.60   \n",
       "1                 0.05667  ...         24.99          23.41           158.80   \n",
       "2                 0.05999  ...         23.57          25.53           152.50   \n",
       "3                 0.09744  ...         14.91          26.50            98.87   \n",
       "4                 0.05883  ...         22.54          16.67           152.20   \n",
       "\n",
       "   worst area  worst smoothness  worst compactness  worst concavity  \\\n",
       "0      2019.0            0.1622             0.6656           0.7119   \n",
       "1      1956.0            0.1238             0.1866           0.2416   \n",
       "2      1709.0            0.1444             0.4245           0.4504   \n",
       "3       567.7            0.2098             0.8663           0.6869   \n",
       "4      1575.0            0.1374             0.2050           0.4000   \n",
       "\n",
       "   worst concave points  worst symmetry  worst fractal dimension  \n",
       "0                0.2654          0.4601                  0.11890  \n",
       "1                0.1860          0.2750                  0.08902  \n",
       "2                0.2430          0.3613                  0.08758  \n",
       "3                0.2575          0.6638                  0.17300  \n",
       "4                0.1625          0.2364                  0.07678  \n",
       "\n",
       "[5 rows x 30 columns]"
      ]
     },
     "execution_count": 28,
     "metadata": {},
     "output_type": "execute_result"
    }
   ],
   "source": [
    "# Visualiza os dados\n",
    "dados.head()"
   ]
  },
  {
   "cell_type": "code",
   "execution_count": 29,
   "metadata": {},
   "outputs": [
    {
     "data": {
      "text/plain": [
       "mean radius                False\n",
       "mean texture               False\n",
       "mean perimeter             False\n",
       "mean area                  False\n",
       "mean smoothness            False\n",
       "mean compactness           False\n",
       "mean concavity             False\n",
       "mean concave points        False\n",
       "mean symmetry              False\n",
       "mean fractal dimension     False\n",
       "radius error               False\n",
       "texture error              False\n",
       "perimeter error            False\n",
       "area error                 False\n",
       "smoothness error           False\n",
       "compactness error          False\n",
       "concavity error            False\n",
       "concave points error       False\n",
       "symmetry error             False\n",
       "fractal dimension error    False\n",
       "worst radius               False\n",
       "worst texture              False\n",
       "worst perimeter            False\n",
       "worst area                 False\n",
       "worst smoothness           False\n",
       "worst compactness          False\n",
       "worst concavity            False\n",
       "worst concave points       False\n",
       "worst symmetry             False\n",
       "worst fractal dimension    False\n",
       "dtype: bool"
      ]
     },
     "execution_count": 29,
     "metadata": {},
     "output_type": "execute_result"
    }
   ],
   "source": [
    "# Verifica se temos valores ausentes\n",
    "dados.isnull().any()"
   ]
  },
  {
   "cell_type": "code",
   "execution_count": 30,
   "metadata": {},
   "outputs": [],
   "source": [
    "# Separa a variável target\n",
    "target = load_breast_cancer()[\"target\"]"
   ]
  },
  {
   "cell_type": "code",
   "execution_count": 31,
   "metadata": {},
   "outputs": [
    {
     "data": {
      "text/plain": [
       "numpy.ndarray"
      ]
     },
     "execution_count": 31,
     "metadata": {},
     "output_type": "execute_result"
    }
   ],
   "source": [
    "type(target)"
   ]
  },
  {
   "cell_type": "code",
   "execution_count": 32,
   "metadata": {},
   "outputs": [
    {
     "data": {
      "text/plain": [
       "array([0, 0, 0, 0, 0, 0, 0, 0, 0, 0, 0, 0, 0, 0, 0, 0, 0, 0, 0, 1, 1, 1,\n",
       "       0, 0, 0, 0, 0, 0, 0, 0, 0, 0, 0, 0, 0, 0, 0, 1, 0, 0, 0, 0, 0, 0,\n",
       "       0, 0, 1, 0, 1, 1, 1, 1, 1, 0, 0, 1, 0, 0, 1, 1, 1, 1, 0, 1, 0, 0,\n",
       "       1, 1, 1, 1, 0, 1, 0, 0, 1, 0, 1, 0, 0, 1, 1, 1, 0, 0, 1, 0, 0, 0,\n",
       "       1, 1, 1, 0, 1, 1, 0, 0, 1, 1, 1, 0, 0, 1, 1, 1, 1, 0, 1, 1, 0, 1,\n",
       "       1, 1, 1, 1, 1, 1, 1, 0, 0, 0, 1, 0, 0, 1, 1, 1, 0, 0, 1, 0, 1, 0,\n",
       "       0, 1, 0, 0, 1, 1, 0, 1, 1, 0, 1, 1, 1, 1, 0, 1, 1, 1, 1, 1, 1, 1,\n",
       "       1, 1, 0, 1, 1, 1, 1, 0, 0, 1, 0, 1, 1, 0, 0, 1, 1, 0, 0, 1, 1, 1,\n",
       "       1, 0, 1, 1, 0, 0, 0, 1, 0, 1, 0, 1, 1, 1, 0, 1, 1, 0, 0, 1, 0, 0,\n",
       "       0, 0, 1, 0, 0, 0, 1, 0, 1, 0, 1, 1, 0, 1, 0, 0, 0, 0, 1, 1, 0, 0,\n",
       "       1, 1, 1, 0, 1, 1, 1, 1, 1, 0, 0, 1, 1, 0, 1, 1, 0, 0, 1, 0, 1, 1,\n",
       "       1, 1, 0, 1, 1, 1, 1, 1, 0, 1, 0, 0, 0, 0, 0, 0, 0, 0, 0, 0, 0, 0,\n",
       "       0, 0, 1, 1, 1, 1, 1, 1, 0, 1, 0, 1, 1, 0, 1, 1, 0, 1, 0, 0, 1, 1,\n",
       "       1, 1, 1, 1, 1, 1, 1, 1, 1, 1, 1, 0, 1, 1, 0, 1, 0, 1, 1, 1, 1, 1,\n",
       "       1, 1, 1, 1, 1, 1, 1, 1, 1, 0, 1, 1, 1, 0, 1, 0, 1, 1, 1, 1, 0, 0,\n",
       "       0, 1, 1, 1, 1, 0, 1, 0, 1, 0, 1, 1, 1, 0, 1, 1, 1, 1, 1, 1, 1, 0,\n",
       "       0, 0, 1, 1, 1, 1, 1, 1, 1, 1, 1, 1, 1, 0, 0, 1, 0, 0, 0, 1, 0, 0,\n",
       "       1, 1, 1, 1, 1, 0, 1, 1, 1, 1, 1, 0, 1, 1, 1, 0, 1, 1, 0, 0, 1, 1,\n",
       "       1, 1, 1, 1, 0, 1, 1, 1, 1, 1, 1, 1, 0, 1, 1, 1, 1, 1, 0, 1, 1, 0,\n",
       "       1, 1, 1, 1, 1, 1, 1, 1, 1, 1, 1, 1, 0, 1, 0, 0, 1, 0, 1, 1, 1, 1,\n",
       "       1, 0, 1, 1, 0, 1, 0, 1, 1, 0, 1, 0, 1, 1, 1, 1, 1, 1, 1, 1, 0, 0,\n",
       "       1, 1, 1, 1, 1, 1, 0, 1, 1, 1, 1, 1, 1, 1, 1, 1, 1, 0, 1, 1, 1, 1,\n",
       "       1, 1, 1, 0, 1, 0, 1, 1, 0, 1, 1, 1, 1, 1, 0, 0, 1, 0, 1, 0, 1, 1,\n",
       "       1, 1, 1, 0, 1, 1, 0, 1, 0, 1, 0, 0, 1, 1, 1, 0, 1, 1, 1, 1, 1, 1,\n",
       "       1, 1, 1, 1, 1, 0, 1, 0, 0, 1, 1, 1, 1, 1, 1, 1, 1, 1, 1, 1, 1, 1,\n",
       "       1, 1, 1, 1, 1, 1, 1, 1, 1, 1, 1, 1, 0, 0, 0, 0, 0, 0, 1])"
      ]
     },
     "execution_count": 32,
     "metadata": {},
     "output_type": "execute_result"
    }
   ],
   "source": [
    "# Visualiza a variável\n",
    "target"
   ]
  },
  {
   "cell_type": "code",
   "execution_count": 33,
   "metadata": {},
   "outputs": [
    {
     "data": {
      "text/plain": [
       "357"
      ]
     },
     "execution_count": 33,
     "metadata": {},
     "output_type": "execute_result"
    }
   ],
   "source": [
    "# Total de registros por classe - Câncer Benigno\n",
    "np.count_nonzero(target == 1)"
   ]
  },
  {
   "cell_type": "code",
   "execution_count": 34,
   "metadata": {},
   "outputs": [
    {
     "data": {
      "text/plain": [
       "212"
      ]
     },
     "execution_count": 34,
     "metadata": {},
     "output_type": "execute_result"
    }
   ],
   "source": [
    "# Total de registros por classe - Câncer Maligno\n",
    "np.count_nonzero(target == 0)"
   ]
  },
  {
   "cell_type": "code",
   "execution_count": 35,
   "metadata": {},
   "outputs": [],
   "source": [
    "# Vamos extrair os labels\n",
    "\n",
    "# Dicionário para os labels\n",
    "labels = {}\n",
    "\n",
    "# Nomes das classes da variável target\n",
    "target_names = load_breast_cancer()[\"target_names\"]\n",
    "\n",
    "# Mapeamento\n",
    "for i in range(len(target_names)):\n",
    "    labels.update({i:target_names[i]})"
   ]
  },
  {
   "cell_type": "code",
   "execution_count": 36,
   "metadata": {},
   "outputs": [
    {
     "data": {
      "text/plain": [
       "{0: 'malignant', 1: 'benign'}"
      ]
     },
     "execution_count": 36,
     "metadata": {},
     "output_type": "execute_result"
    }
   ],
   "source": [
    "# Visualiza os labels\n",
    "labels"
   ]
  },
  {
   "cell_type": "code",
   "execution_count": 37,
   "metadata": {},
   "outputs": [],
   "source": [
    "# Agora preparamos as variáveis preditoras em X\n",
    "X = np.array(dados)"
   ]
  },
  {
   "cell_type": "code",
   "execution_count": 38,
   "metadata": {},
   "outputs": [
    {
     "data": {
      "text/plain": [
       "array([[1.799e+01, 1.038e+01, 1.228e+02, ..., 2.654e-01, 4.601e-01,\n",
       "        1.189e-01],\n",
       "       [2.057e+01, 1.777e+01, 1.329e+02, ..., 1.860e-01, 2.750e-01,\n",
       "        8.902e-02],\n",
       "       [1.969e+01, 2.125e+01, 1.300e+02, ..., 2.430e-01, 3.613e-01,\n",
       "        8.758e-02],\n",
       "       ...,\n",
       "       [1.660e+01, 2.808e+01, 1.083e+02, ..., 1.418e-01, 2.218e-01,\n",
       "        7.820e-02],\n",
       "       [2.060e+01, 2.933e+01, 1.401e+02, ..., 2.650e-01, 4.087e-01,\n",
       "        1.240e-01],\n",
       "       [7.760e+00, 2.454e+01, 4.792e+01, ..., 0.000e+00, 2.871e-01,\n",
       "        7.039e-02]])"
      ]
     },
     "execution_count": 38,
     "metadata": {},
     "output_type": "execute_result"
    }
   ],
   "source": [
    "# Visualiza os dados de entrada\n",
    "X"
   ]
  },
  {
   "cell_type": "code",
   "execution_count": 39,
   "metadata": {},
   "outputs": [],
   "source": [
    "# Dividimos os dados de entrada e saída em treino e teste\n",
    "X_treino, X_teste, y_treino, y_teste = train_test_split(X, target, test_size = 0.15, shuffle = True)"
   ]
  },
  {
   "cell_type": "code",
   "execution_count": 40,
   "metadata": {},
   "outputs": [
    {
     "name": "stdout",
     "output_type": "stream",
     "text": [
      "(483, 30)\n",
      "(483,)\n"
     ]
    }
   ],
   "source": [
    "# Shape dos dados de treino\n",
    "print(X_treino.shape)\n",
    "print(y_treino.shape)"
   ]
  },
  {
   "cell_type": "code",
   "execution_count": 41,
   "metadata": {},
   "outputs": [
    {
     "name": "stdout",
     "output_type": "stream",
     "text": [
      "(86, 30)\n",
      "(86,)\n"
     ]
    }
   ],
   "source": [
    "# Shape dos dados de teste\n",
    "print(X_teste.shape)\n",
    "print(y_teste.shape)"
   ]
  },
  {
   "cell_type": "code",
   "execution_count": 42,
   "metadata": {},
   "outputs": [],
   "source": [
    "# Ajusta o shape dos dados de entrada\n",
    "X_treino = X_treino.T\n",
    "X_teste = X_teste.T"
   ]
  },
  {
   "cell_type": "code",
   "execution_count": 43,
   "metadata": {},
   "outputs": [
    {
     "name": "stdout",
     "output_type": "stream",
     "text": [
      "(30, 483)\n",
      "(30, 86)\n"
     ]
    }
   ],
   "source": [
    "print(X_treino.shape)\n",
    "print(X_teste.shape)"
   ]
  },
  {
   "cell_type": "code",
   "execution_count": 44,
   "metadata": {},
   "outputs": [],
   "source": [
    "# Precisamos ajustar também os dados de saída\n",
    "y_treino = y_treino.reshape(1, len(y_treino))\n",
    "y_teste = y_teste.reshape(1, len(y_teste))"
   ]
  },
  {
   "cell_type": "code",
   "execution_count": 45,
   "metadata": {},
   "outputs": [
    {
     "name": "stdout",
     "output_type": "stream",
     "text": [
      "(1, 483)\n",
      "(1, 86)\n"
     ]
    }
   ],
   "source": [
    "print(y_treino.shape)\n",
    "print(y_teste.shape)"
   ]
  },
  {
   "cell_type": "code",
   "execution_count": 46,
   "metadata": {},
   "outputs": [],
   "source": [
    "# Variável com as dimensões de entrada para oo número de neurônios \n",
    "dims_camada_entrada = [X_treino.shape[0], 50, 20, 5, 1]"
   ]
  },
  {
   "cell_type": "code",
   "execution_count": 47,
   "metadata": {},
   "outputs": [
    {
     "data": {
      "text/plain": [
       "[30, 50, 20, 5, 1]"
      ]
     },
     "execution_count": 47,
     "metadata": {},
     "output_type": "execute_result"
    }
   ],
   "source": [
    "dims_camada_entrada"
   ]
  },
  {
   "cell_type": "code",
   "execution_count": 48,
   "metadata": {},
   "outputs": [
    {
     "name": "stdout",
     "output_type": "stream",
     "text": [
      "\n",
      "Iniciando o Treinamento.\n",
      "\n",
      "Custo Após 0 iterações é 0.693145255882048\n",
      "Custo Após 10 iterações é 0.6922393853896223\n",
      "Custo Após 20 iterações é 0.6913668246196136\n",
      "Custo Após 30 iterações é 0.690526283971229\n",
      "Custo Após 40 iterações é 0.6897165275264122\n",
      "Custo Após 50 iterações é 0.6889363598595762\n",
      "Custo Após 60 iterações é 0.68818464641539\n",
      "Custo Após 70 iterações é 0.6874601710855666\n",
      "Custo Após 80 iterações é 0.6867619077612557\n",
      "Custo Após 90 iterações é 0.6860882898798328\n",
      "Custo Após 100 iterações é 0.6854361026869361\n",
      "Custo Após 110 iterações é 0.6848028799478009\n",
      "Custo Após 120 iterações é 0.6841958444526361\n",
      "Custo Após 130 iterações é 0.6836127699152209\n",
      "Custo Após 140 iterações é 0.6830507542999368\n",
      "Custo Após 150 iterações é 0.682508566113357\n",
      "Custo Após 160 iterações é 0.6819852418924824\n",
      "Custo Após 170 iterações é 0.6814798749297789\n",
      "Custo Após 180 iterações é 0.6809916806084222\n",
      "Custo Após 190 iterações é 0.6805201279669386\n",
      "Custo Após 200 iterações é 0.6800646030443454\n",
      "Custo Após 210 iterações é 0.6796243573620209\n",
      "Custo Após 220 iterações é 0.6791985352201755\n",
      "Custo Após 230 iterações é 0.6787863686159252\n",
      "Custo Após 240 iterações é 0.6783871080957632\n",
      "Custo Após 250 iterações é 0.6779999513091889\n",
      "Custo Após 260 iterações é 0.6776240966288742\n",
      "Custo Após 270 iterações é 0.6772586876346613\n",
      "Custo Após 280 iterações é 0.6769028178163027\n",
      "Custo Após 290 iterações é 0.6765555152573919\n",
      "Custo Após 300 iterações é 0.6762157266205542\n",
      "Custo Após 310 iterações é 0.6758822634187586\n",
      "Custo Após 320 iterações é 0.6755537802549803\n",
      "Custo Após 330 iterações é 0.6752287017522627\n",
      "Custo Após 340 iterações é 0.6749051785585485\n",
      "Custo Após 350 iterações é 0.6745809763537769\n",
      "Custo Após 360 iterações é 0.67425331346779\n",
      "Custo Após 370 iterações é 0.6739188918782242\n",
      "Custo Após 380 iterações é 0.6735736573191051\n",
      "Custo Após 390 iterações é 0.6732125028644672\n",
      "Custo Após 400 iterações é 0.672828140093676\n",
      "Custo Após 410 iterações é 0.6724096764115449\n",
      "Custo Após 420 iterações é 0.6719404712782016\n",
      "Custo Após 430 iterações é 0.6713984640742493\n",
      "Custo Após 440 iterações é 0.6707510994133624\n",
      "Custo Após 450 iterações é 0.6699476024591552\n",
      "Custo Após 460 iterações é 0.6689053101537494\n",
      "Custo Após 470 iterações é 0.6674857608577643\n",
      "Custo Após 480 iterações é 0.6654504348949871\n",
      "Custo Após 490 iterações é 0.6623759590576249\n",
      "Custo Após 500 iterações é 0.6575247601030684\n",
      "Custo Após 510 iterações é 0.6498209430175033\n",
      "Custo Após 520 iterações é 0.6388279346062102\n",
      "Custo Após 530 iterações é 0.6277681275959691\n",
      "Custo Após 540 iterações é 0.62126353304914\n",
      "Custo Após 550 iterações é 0.6177999760453831\n",
      "Custo Após 560 iterações é 0.6149536835009678\n",
      "Custo Após 570 iterações é 0.6121474587352363\n",
      "Custo Após 580 iterações é 0.6093103718199089\n",
      "Custo Após 590 iterações é 0.6064283216978293\n",
      "Custo Após 600 iterações é 0.6034893790853574\n",
      "Custo Após 610 iterações é 0.6004808767181665\n",
      "Custo Após 620 iterações é 0.5973862186683593\n",
      "Custo Após 630 iterações é 0.594184417093014\n",
      "Custo Após 640 iterações é 0.5908487048280714\n",
      "Custo Após 650 iterações é 0.5873431226198899\n",
      "Custo Após 660 iterações é 0.5836199406455057\n",
      "Custo Após 670 iterações é 0.5796150962514385\n",
      "Custo Após 680 iterações é 0.5752382116486051\n",
      "Custo Após 690 iterações é 0.5703623028538124\n",
      "Custo Após 700 iterações é 0.5648093373682341\n",
      "Custo Após 710 iterações é 0.558334681778827\n",
      "Custo Após 720 iterações é 0.5505768630808857\n",
      "Custo Após 730 iterações é 0.5411111498621324\n",
      "Custo Após 740 iterações é 0.5293392569874841\n",
      "Custo Após 750 iterações é 0.5144724777698716\n",
      "Custo Após 760 iterações é 0.4961794512607283\n",
      "Custo Após 770 iterações é 0.4753015086572067\n",
      "Custo Após 780 iterações é 0.455148279589808\n",
      "Custo Após 790 iterações é 0.5058708571884043\n",
      "Custo Após 800 iterações é 0.4828032390682115\n",
      "Custo Após 810 iterações é 0.4739673567823382\n",
      "Custo Após 820 iterações é 0.4700822925604421\n",
      "Custo Após 830 iterações é 0.4643985145750689\n",
      "Custo Após 840 iterações é 0.4593816043805484\n",
      "Custo Após 850 iterações é 0.4562763702059425\n",
      "Custo Após 860 iterações é 0.45511742265159694\n",
      "Custo Após 870 iterações é 0.44925124294620705\n",
      "Custo Após 880 iterações é 0.4440283611056004\n",
      "Custo Após 890 iterações é 0.43700025668272013\n",
      "Custo Após 900 iterações é 0.43159982206545533\n",
      "Custo Após 910 iterações é 0.4262726192208638\n",
      "Custo Após 920 iterações é 0.4208508988291163\n",
      "Custo Após 930 iterações é 0.4152864322824262\n",
      "Custo Após 940 iterações é 0.4065378234892272\n",
      "Custo Após 950 iterações é 0.40784636067545527\n",
      "Custo Após 960 iterações é 0.40136540014646394\n",
      "Custo Após 970 iterações é 0.3977872723433507\n",
      "Custo Após 980 iterações é 0.3947968761342231\n",
      "Custo Após 990 iterações é 0.39090689706610743\n",
      "Custo Após 1000 iterações é 0.38827371556760765\n",
      "Custo Após 1010 iterações é 0.38546807763221025\n",
      "Custo Após 1020 iterações é 0.38269895417055494\n",
      "Custo Após 1030 iterações é 0.37715749948374244\n",
      "Custo Após 1040 iterações é 0.36987038549031526\n",
      "Custo Após 1050 iterações é 0.3675151429264397\n",
      "Custo Após 1060 iterações é 0.36550012365975204\n",
      "Custo Após 1070 iterações é 0.36254909772323934\n",
      "Custo Após 1080 iterações é 0.3600102383034729\n",
      "Custo Após 1090 iterações é 0.36063100902886147\n",
      "Custo Após 1100 iterações é 0.35787622996619256\n",
      "Custo Após 1110 iterações é 0.3529335683359317\n",
      "Custo Após 1120 iterações é 0.3548418989707241\n",
      "Custo Após 1130 iterações é 0.3496718090103022\n",
      "Custo Após 1140 iterações é 0.3502365738642191\n",
      "Custo Após 1150 iterações é 0.3480665309159312\n",
      "Custo Após 1160 iterações é 0.34649017848774266\n",
      "Custo Após 1170 iterações é 0.34319503521182665\n",
      "Custo Após 1180 iterações é 0.3461824609140058\n",
      "Custo Após 1190 iterações é 0.34268897821873406\n",
      "Custo Após 1200 iterações é 0.34057164449800914\n",
      "Custo Após 1210 iterações é 0.34378650021220974\n",
      "Custo Após 1220 iterações é 0.3369274620701085\n",
      "Custo Após 1230 iterações é 0.33458060970016584\n",
      "Custo Após 1240 iterações é 0.33684203811092994\n",
      "Custo Após 1250 iterações é 0.33301006922645937\n",
      "Custo Após 1260 iterações é 0.3311025981264585\n",
      "Custo Após 1270 iterações é 0.3271221231426262\n",
      "Custo Após 1280 iterações é 0.32665919868358845\n",
      "Custo Após 1290 iterações é 0.32789201173690424\n",
      "Custo Após 1300 iterações é 0.32457833576728246\n",
      "Custo Após 1310 iterações é 0.32243225378061713\n",
      "Custo Após 1320 iterações é 0.3207713312825073\n",
      "Custo Após 1330 iterações é 0.31997591732104286\n",
      "Custo Após 1340 iterações é 0.321208665496844\n",
      "Custo Após 1350 iterações é 0.3161750013045231\n",
      "Custo Após 1360 iterações é 0.3154773295250589\n",
      "Custo Após 1370 iterações é 0.31524530715775306\n",
      "Custo Após 1380 iterações é 0.31378771673441486\n",
      "Custo Após 1390 iterações é 0.31165916788441766\n",
      "Custo Após 1400 iterações é 0.31205200537509814\n",
      "Custo Após 1410 iterações é 0.3115734895072816\n",
      "Custo Após 1420 iterações é 0.3102482798785085\n",
      "Custo Após 1430 iterações é 0.30986755718391645\n",
      "Custo Após 1440 iterações é 0.30803317687506804\n",
      "Custo Após 1450 iterações é 0.3089696979683744\n",
      "Custo Após 1460 iterações é 0.30166409238746017\n",
      "Custo Após 1470 iterações é 0.29046774481643356\n",
      "Custo Após 1480 iterações é 0.29066955145040846\n",
      "Custo Após 1490 iterações é 0.2897315011791\n",
      "Custo Após 1500 iterações é 0.2896047647178019\n",
      "Custo Após 1510 iterações é 0.28846742900996647\n",
      "Custo Após 1520 iterações é 0.286685912680938\n",
      "Custo Após 1530 iterações é 0.28654985074579087\n",
      "Custo Após 1540 iterações é 0.2853568470040024\n",
      "Custo Após 1550 iterações é 0.2838367181190674\n",
      "Custo Após 1560 iterações é 0.2855319362227379\n",
      "Custo Após 1570 iterações é 0.2819852531800511\n",
      "Custo Após 1580 iterações é 0.28533748486711774\n",
      "Custo Após 1590 iterações é 0.28523365952871355\n",
      "Custo Após 1600 iterações é 0.28362603914870305\n",
      "Custo Após 1610 iterações é 0.28354743269968996\n",
      "Custo Após 1620 iterações é 0.2791856543830741\n",
      "Custo Após 1630 iterações é 0.28185898415615074\n",
      "Custo Após 1640 iterações é 0.2829021826223135\n",
      "Custo Após 1650 iterações é 0.28338617491732615\n",
      "Custo Após 1660 iterações é 0.2789989830839926\n",
      "Custo Após 1670 iterações é 0.2754609072389148\n",
      "Custo Após 1680 iterações é 0.27492941696573336\n",
      "Custo Após 1690 iterações é 0.27443954002727894\n",
      "Custo Após 1700 iterações é 0.27473418049335824\n",
      "Custo Após 1710 iterações é 0.2799566569768974\n",
      "Custo Após 1720 iterações é 0.27962925521371546\n",
      "Custo Após 1730 iterações é 0.2762806354472542\n",
      "Custo Após 1740 iterações é 0.2703365840817482\n",
      "Custo Após 1750 iterações é 0.2690397986273428\n",
      "Custo Após 1760 iterações é 0.2688950541735302\n",
      "Custo Após 1770 iterações é 0.2691451133513388\n",
      "Custo Após 1780 iterações é 0.2682572404486806\n",
      "Custo Após 1790 iterações é 0.26740805460598993\n",
      "Custo Após 1800 iterações é 0.268137075215994\n",
      "Custo Após 1810 iterações é 0.2663201735047197\n",
      "Custo Após 1820 iterações é 0.26621947659226597\n",
      "Custo Após 1830 iterações é 0.265785612168838\n",
      "Custo Após 1840 iterações é 0.26982410204539053\n",
      "Custo Após 1850 iterações é 0.26379826877210916\n",
      "Custo Após 1860 iterações é 0.26384920505669346\n",
      "Custo Após 1870 iterações é 0.26615479957059873\n",
      "Custo Após 1880 iterações é 0.2620191521728214\n"
     ]
    },
    {
     "name": "stdout",
     "output_type": "stream",
     "text": [
      "Custo Após 1890 iterações é 0.2625577104742941\n",
      "Custo Após 1900 iterações é 0.2701805295069555\n",
      "Custo Após 1910 iterações é 0.2633498322152799\n",
      "Custo Após 1920 iterações é 0.2623229623876971\n",
      "Custo Após 1930 iterações é 0.2670210322734892\n",
      "Custo Após 1940 iterações é 0.26858875771350654\n",
      "Custo Após 1950 iterações é 0.25895008679216214\n",
      "Custo Após 1960 iterações é 0.25901887031475584\n",
      "Custo Após 1970 iterações é 0.25496383144528384\n",
      "Custo Após 1980 iterações é 0.26008858017681513\n",
      "Custo Após 1990 iterações é 0.2654760756346525\n",
      "Custo Após 2000 iterações é 0.26230051063824317\n",
      "Custo Após 2010 iterações é 0.2617308176835388\n",
      "Custo Após 2020 iterações é 0.2610403023117509\n",
      "Custo Após 2030 iterações é 0.2617974364055864\n",
      "Custo Após 2040 iterações é 0.25778982109937504\n",
      "Custo Após 2050 iterações é 0.2502108752258729\n",
      "Custo Após 2060 iterações é 0.2521990151254497\n",
      "Custo Após 2070 iterações é 0.2512262739517509\n",
      "Custo Após 2080 iterações é 0.2510881272404266\n",
      "Custo Após 2090 iterações é 0.2520308717658459\n",
      "Custo Após 2100 iterações é 0.25044331078334886\n",
      "Custo Após 2110 iterações é 0.2501841381574899\n",
      "Custo Após 2120 iterações é 0.24866279231090557\n",
      "Custo Após 2130 iterações é 0.2522569021749332\n",
      "Custo Após 2140 iterações é 0.24874706413751144\n",
      "Custo Após 2150 iterações é 0.24897657475120127\n",
      "Custo Após 2160 iterações é 0.24868120360978893\n",
      "Custo Após 2170 iterações é 0.24897388183148148\n",
      "Custo Após 2180 iterações é 0.2444939117401252\n",
      "Custo Após 2190 iterações é 0.246044290411154\n",
      "Custo Após 2200 iterações é 0.25685002487753245\n",
      "Custo Após 2210 iterações é 0.26119638715218313\n",
      "Custo Após 2220 iterações é 0.25953252507060787\n",
      "Custo Após 2230 iterações é 0.25285961801129925\n",
      "Custo Após 2240 iterações é 0.2524082513579358\n",
      "Custo Após 2250 iterações é 0.2517759889582961\n",
      "Custo Após 2260 iterações é 0.24800720906572513\n",
      "Custo Após 2270 iterações é 0.23963603283687715\n",
      "Custo Após 2280 iterações é 0.24226701297498476\n",
      "Custo Após 2290 iterações é 0.24561580854725484\n",
      "Custo Após 2300 iterações é 0.2405190223256035\n",
      "Custo Após 2310 iterações é 0.23915702534844338\n",
      "Custo Após 2320 iterações é 0.2455766639058733\n",
      "Custo Após 2330 iterações é 0.24104724692333376\n",
      "Custo Após 2340 iterações é 0.23739413013628663\n",
      "Custo Após 2350 iterações é 0.24100316891235138\n",
      "Custo Após 2360 iterações é 0.2531770169629887\n",
      "Custo Após 2370 iterações é 0.25057074431635357\n",
      "Custo Após 2380 iterações é 0.2476050134055741\n",
      "Custo Após 2390 iterações é 0.2501970801235945\n",
      "Custo Após 2400 iterações é 0.24558034222723207\n",
      "Custo Após 2410 iterações é 0.23694724309596074\n",
      "Custo Após 2420 iterações é 0.236251775141579\n",
      "Custo Após 2430 iterações é 0.2360314428357213\n",
      "Custo Após 2440 iterações é 0.2352902235716201\n",
      "Custo Após 2450 iterações é 0.23580540017252385\n",
      "Custo Após 2460 iterações é 0.23640615683014118\n",
      "Custo Após 2470 iterações é 0.243101884835286\n",
      "Custo Após 2480 iterações é 0.2516551962605213\n",
      "Custo Após 2490 iterações é 0.24414419009389027\n",
      "Custo Após 2500 iterações é 0.24524851855569488\n",
      "Custo Após 2510 iterações é 0.24051209592210027\n",
      "Custo Após 2520 iterações é 0.23806267561135247\n",
      "Custo Após 2530 iterações é 0.2321185566955024\n",
      "Custo Após 2540 iterações é 0.23433952008096606\n",
      "Custo Após 2550 iterações é 0.24125194686645252\n",
      "Custo Após 2560 iterações é 0.24733725534078418\n",
      "Custo Após 2570 iterações é 0.23817040816621818\n",
      "Custo Após 2580 iterações é 0.23575993462228562\n",
      "Custo Após 2590 iterações é 0.22962293519564567\n",
      "Custo Após 2600 iterações é 0.229677779989311\n",
      "Custo Após 2610 iterações é 0.23949462630268212\n",
      "Custo Após 2620 iterações é 0.24337098754675324\n",
      "Custo Após 2630 iterações é 0.24003943004290368\n",
      "Custo Após 2640 iterações é 0.2368130963147757\n",
      "Custo Após 2650 iterações é 0.23978208183102614\n",
      "Custo Após 2660 iterações é 0.24098512351489013\n",
      "Custo Após 2670 iterações é 0.2326995623741276\n",
      "Custo Após 2680 iterações é 0.22948287696764344\n",
      "Custo Após 2690 iterações é 0.22640464917303257\n",
      "Custo Após 2700 iterações é 0.22619724615379203\n",
      "Custo Após 2710 iterações é 0.2266721094031055\n",
      "Custo Após 2720 iterações é 0.22590838948725991\n",
      "Custo Após 2730 iterações é 0.22720293497713817\n",
      "Custo Após 2740 iterações é 0.22624751000701485\n",
      "Custo Após 2750 iterações é 0.2342748955048427\n",
      "Custo Após 2760 iterações é 0.257307530029167\n",
      "Custo Após 2770 iterações é 0.24916395678703698\n",
      "Custo Após 2780 iterações é 0.23599577385602188\n",
      "Custo Após 2790 iterações é 0.23767695893842083\n",
      "Custo Após 2800 iterações é 0.24233574678492142\n",
      "Custo Após 2810 iterações é 0.2332394688768158\n",
      "Custo Após 2820 iterações é 0.23042312530421108\n",
      "Custo Após 2830 iterações é 0.23040366734453555\n",
      "Custo Após 2840 iterações é 0.23098582837098797\n",
      "Custo Após 2850 iterações é 0.2300504183590443\n",
      "Custo Após 2860 iterações é 0.23177371582493378\n",
      "Custo Após 2870 iterações é 0.22767074355266273\n",
      "Custo Após 2880 iterações é 0.23074125096935044\n",
      "Custo Após 2890 iterações é 0.22686952273145358\n",
      "Custo Após 2900 iterações é 0.2302031123957952\n",
      "Custo Após 2910 iterações é 0.22763612956903082\n",
      "Custo Após 2920 iterações é 0.22930765223306188\n",
      "Custo Após 2930 iterações é 0.23597378532382562\n",
      "Custo Após 2940 iterações é 0.23420725841415785\n",
      "Custo Após 2950 iterações é 0.22540091502437645\n",
      "Custo Após 2960 iterações é 0.22113976696893345\n",
      "Custo Após 2970 iterações é 0.21930679155775798\n",
      "Custo Após 2980 iterações é 0.21756908039026715\n",
      "Custo Após 2990 iterações é 0.22005252482979423\n",
      "\n",
      "Treinamento Concluído.\n",
      "\n"
     ]
    }
   ],
   "source": [
    "# Treinamento do modelo\n",
    "\n",
    "print(\"\\nIniciando o Treinamento.\\n\")\n",
    "\n",
    "parametros, custo = modeloNN(X = X_treino, \n",
    "                             Y = y_treino, \n",
    "                             dims_camada_entrada = dims_camada_entrada, \n",
    "                             num_iterations = 3000, \n",
    "                             learning_rate = 0.0075)\n",
    "\n",
    "print(\"\\nTreinamento Concluído.\\n\")"
   ]
  },
  {
   "cell_type": "code",
   "execution_count": 49,
   "metadata": {},
   "outputs": [
    {
     "data": {
      "text/plain": [
       "[<matplotlib.lines.Line2D at 0x7fd40c18bdf0>]"
      ]
     },
     "execution_count": 49,
     "metadata": {},
     "output_type": "execute_result"
    },
    {
     "data": {
      "image/png": "[encoded data removed]",
      "text/plain": [
       "<Figure size 432x288 with 1 Axes>"
      ]
     },
     "metadata": {
      "needs_background": "light"
     },
     "output_type": "display_data"
    }
   ],
   "source": [
    "# Plot do erro durante o treinamento\n",
    "plt.plot(custo)"
   ]
  },
  {
   "cell_type": "code",
   "execution_count": 50,
   "metadata": {},
   "outputs": [],
   "source": [
    "# Previsões com os dados de treino\n",
    "y_pred_treino = predict(X_treino, parametros)"
   ]
  },
  {
   "cell_type": "code",
   "execution_count": 51,
   "metadata": {},
   "outputs": [
    {
     "data": {
      "text/plain": [
       "array([[8.81010384e-01, 8.54271739e-01, 8.48114436e-05, 7.75581923e-04,\n",
       "        3.15824486e-02, 8.81010384e-01, 5.77898961e-01, 4.58876184e-04,\n",
       "        8.47463707e-15, 8.81010384e-01, 8.33077056e-01, 3.92991031e-26,\n",
       "        9.23766673e-05, 8.81010384e-01, 8.81010384e-01, 8.81010339e-01,\n",
       "        8.81010384e-01, 8.52476402e-03, 8.81010384e-01, 2.80568388e-15,\n",
       "        7.95691733e-01, 8.22613236e-01, 8.81010384e-01, 8.80609442e-01,\n",
       "        4.35097750e-01, 2.67425940e-06, 8.59983160e-05, 6.59389187e-10,\n",
       "        8.81010384e-01, 8.81010384e-01, 6.35213831e-02, 8.81010379e-01,\n",
       "        1.19394160e-04, 7.42879759e-01, 8.75370529e-01, 5.21526702e-16,\n",
       "        7.57104581e-01, 1.12229716e-03, 8.81010384e-01, 7.65083185e-01,\n",
       "        8.81010384e-01, 6.43014718e-01, 2.06109701e-02, 6.49801622e-04,\n",
       "        2.16990650e-01, 8.81010363e-01, 6.67259532e-04, 5.30992713e-01,\n",
       "        8.81010384e-01, 8.81010384e-01, 8.81010384e-01, 8.81010296e-01,\n",
       "        8.23139090e-07, 2.99090162e-03, 8.77084362e-01, 8.81010384e-01,\n",
       "        3.56780628e-03, 2.02817192e-06, 8.47728947e-01, 4.07692173e-12,\n",
       "        8.81010354e-01, 4.01289163e-01, 8.78109670e-14, 8.81010384e-01,\n",
       "        8.46931676e-01, 4.28153532e-08, 8.81010384e-01, 8.81010384e-01,\n",
       "        8.81010384e-01, 5.33145761e-03, 1.06482191e-04, 4.12418236e-04,\n",
       "        1.22751047e-04, 1.48831297e-01, 8.81010384e-01, 1.97212702e-04,\n",
       "        7.70966370e-07, 6.17457967e-05, 8.81010336e-01, 2.78089388e-02,\n",
       "        8.81010384e-01, 3.24942953e-01, 8.81010384e-01, 8.81010384e-01,\n",
       "        8.81010384e-01, 3.87744765e-01, 7.52521162e-01, 8.81010360e-01,\n",
       "        1.58803061e-05, 8.19875283e-01, 8.81010384e-01, 8.81010384e-01,\n",
       "        8.81010384e-01, 3.26256168e-07, 7.00727250e-01, 8.73773040e-01,\n",
       "        7.57881847e-01, 3.85532436e-01, 3.74914337e-04, 8.81010384e-01,\n",
       "        1.84788389e-02, 8.81010384e-01, 8.81010384e-01, 8.81010384e-01,\n",
       "        8.81010384e-01, 7.98567968e-01, 8.81010384e-01, 7.66784276e-02,\n",
       "        3.44471252e-08, 8.81010384e-01, 1.04205172e-01, 8.81010384e-01,\n",
       "        8.81010366e-01, 3.24553149e-05, 7.70875802e-01, 8.81010384e-01,\n",
       "        8.81010384e-01, 7.80089152e-01, 8.81010384e-01, 3.69905189e-03,\n",
       "        8.73369636e-01, 8.81010384e-01, 8.81010384e-01, 1.48463618e-05,\n",
       "        5.34767655e-05, 8.40995066e-01, 8.81010384e-01, 7.53755930e-10,\n",
       "        8.81010384e-01, 8.42226027e-01, 4.57021859e-01, 3.02118671e-06,\n",
       "        8.81010384e-01, 5.82618761e-02, 7.53783650e-01, 2.40159387e-03,\n",
       "        2.24733047e-03, 8.81010384e-01, 8.81010384e-01, 8.77908089e-07,\n",
       "        8.81010384e-01, 8.81010291e-01, 4.84661365e-01, 3.55732872e-02,\n",
       "        1.52584357e-01, 8.81010384e-01, 8.81010384e-01, 5.05691376e-03,\n",
       "        1.42889783e-01, 8.77654147e-01, 8.81010384e-01, 4.41217108e-01,\n",
       "        5.53802290e-01, 8.81010384e-01, 1.48047374e-01, 8.81010384e-01,\n",
       "        8.81010384e-01, 8.81010384e-01, 7.18512705e-03, 8.81010384e-01,\n",
       "        8.81010384e-01, 8.80248921e-01, 8.81010300e-01, 3.97002467e-01,\n",
       "        8.66001010e-01, 2.51865009e-21, 8.80828984e-01, 8.81010384e-01,\n",
       "        8.81010384e-01, 4.10884840e-04, 8.13334566e-01, 8.93566695e-03,\n",
       "        8.17647454e-01, 8.81010357e-01, 1.09181312e-06, 1.74169321e-04,\n",
       "        9.68113896e-03, 8.81010384e-01, 8.81010384e-01, 8.38673658e-01,\n",
       "        8.79695308e-01, 5.10655258e-07, 8.81010384e-01, 1.85617182e-15,\n",
       "        8.81010384e-01, 8.81010277e-01, 8.81010362e-01, 8.81010384e-01,\n",
       "        8.81010384e-01, 6.40770710e-01, 8.81010384e-01, 8.81010384e-01,\n",
       "        8.81010380e-01, 8.23225119e-03, 8.74373769e-01, 2.15575999e-04,\n",
       "        8.50194898e-01, 8.62081188e-01, 6.48000579e-01, 8.34602638e-01,\n",
       "        8.70266156e-01, 8.81010261e-01, 8.81010384e-01, 4.94615788e-04,\n",
       "        9.78109103e-02, 8.81010384e-01, 8.43414278e-02, 8.81010384e-01,\n",
       "        8.63087626e-01, 8.65876356e-01, 2.79493620e-01, 8.81010326e-01,\n",
       "        8.81010291e-01, 6.19542293e-02, 8.81010344e-01, 8.81010384e-01,\n",
       "        8.81010384e-01, 5.17715838e-01, 8.81010375e-01, 8.81010384e-01,\n",
       "        8.81010384e-01, 7.80173382e-04, 8.81010313e-01, 8.81010384e-01,\n",
       "        8.79473323e-01, 8.38780903e-01, 8.75974649e-01, 8.81010384e-01,\n",
       "        8.81010369e-01, 1.40013433e-03, 4.63537752e-05, 1.56687615e-02,\n",
       "        4.07237850e-01, 1.26587299e-26, 8.67571289e-01, 8.81010340e-01,\n",
       "        1.73468927e-01, 8.18595994e-01, 8.46693526e-01, 2.34379090e-02,\n",
       "        8.67233705e-01, 8.81010384e-01, 8.46489730e-01, 8.81010384e-01,\n",
       "        3.52427581e-03, 1.21225442e-04, 1.41306253e-05, 1.41900986e-02,\n",
       "        7.96842365e-01, 8.81010384e-01, 8.81010384e-01, 8.71812356e-01,\n",
       "        8.81010286e-01, 8.81010384e-01, 8.81010289e-01, 8.81010322e-01,\n",
       "        8.81010384e-01, 7.93314624e-01, 7.74336304e-01, 8.81010384e-01,\n",
       "        8.81010384e-01, 8.81010277e-01, 1.58034869e-07, 2.22317463e-07,\n",
       "        4.35627200e-05, 8.64260937e-14, 7.99134825e-01, 8.81010384e-01,\n",
       "        8.52543356e-01, 8.81010384e-01, 8.81010384e-01, 8.81010384e-01,\n",
       "        8.70236653e-01, 8.81010384e-01, 8.81010384e-01, 8.81010384e-01,\n",
       "        8.81010288e-01, 8.81010258e-01, 8.81010384e-01, 4.04638655e-05,\n",
       "        5.16639306e-03, 8.81010384e-01, 1.08626880e-02, 8.81010384e-01,\n",
       "        1.18664265e-11, 8.81010229e-01, 8.81010384e-01, 8.73150794e-01,\n",
       "        1.60830805e-01, 8.81010384e-01, 8.81010384e-01, 3.54492228e-02,\n",
       "        8.81010339e-01, 7.42906785e-01, 8.52954701e-01, 8.81010384e-01,\n",
       "        8.81010384e-01, 6.43025267e-05, 8.81010384e-01, 8.81010384e-01,\n",
       "        8.69265846e-01, 8.62800750e-01, 8.81010370e-01, 8.38075572e-01,\n",
       "        6.62610959e-04, 7.46218069e-12, 8.18321900e-01, 8.81010330e-01,\n",
       "        8.81010264e-01, 8.81010384e-01, 8.81010384e-01, 8.81010384e-01,\n",
       "        8.81010256e-01, 8.81010384e-01, 8.81010384e-01, 8.65813803e-01,\n",
       "        8.81010384e-01, 8.81010384e-01, 2.51469311e-08, 1.79600416e-01,\n",
       "        8.81010384e-01, 8.81010384e-01, 8.81010384e-01, 8.81010384e-01,\n",
       "        8.81010384e-01, 8.19900863e-01, 8.81010384e-01, 8.81010384e-01,\n",
       "        8.80694078e-01, 8.81010384e-01, 8.78273154e-01, 9.37283898e-09,\n",
       "        8.15885507e-01, 8.81010384e-01, 1.22758937e-10, 3.68218356e-02,\n",
       "        8.81010384e-01, 2.28674490e-01, 4.53441609e-12, 8.81010384e-01,\n",
       "        8.81010384e-01, 8.81010384e-01, 6.38677582e-01, 2.06721748e-07,\n",
       "        2.64001100e-01, 8.80753352e-01, 8.81010384e-01, 8.77152171e-01,\n",
       "        7.90044656e-01, 8.81010384e-01, 8.81010331e-01, 7.79858346e-01,\n",
       "        8.81010384e-01, 8.04665055e-01, 8.44804005e-01, 6.16986635e-04,\n",
       "        8.81010351e-01, 8.49107036e-01, 8.47142467e-01, 4.95884094e-04,\n",
       "        7.61679588e-02, 8.72758514e-01, 8.81010384e-01, 8.81010384e-01,\n",
       "        1.94348369e-01, 8.57373869e-01, 8.81010384e-01, 5.45256749e-09,\n",
       "        8.81010384e-01, 3.29534544e-02, 7.90325557e-03, 8.68790091e-01,\n",
       "        2.06366361e-01, 8.81010384e-01, 2.26027880e-09, 1.09703714e-01,\n",
       "        1.60139012e-02, 8.81010384e-01, 5.74911880e-02, 8.81010246e-01,\n",
       "        7.56220935e-01, 7.76228882e-01, 8.53299878e-01, 1.96965542e-05,\n",
       "        8.81010384e-01, 8.81010384e-01, 2.16649576e-04, 8.81010384e-01,\n",
       "        8.81010384e-01, 8.81010384e-01, 3.65396056e-01, 8.81010384e-01,\n",
       "        4.36967032e-16, 8.50500962e-01, 6.79308917e-01, 2.53651206e-01,\n",
       "        8.81010384e-01, 3.90699411e-01, 8.81010381e-01, 2.69336429e-05,\n",
       "        8.81010384e-01, 1.10452269e-02, 8.81010384e-01, 2.05882676e-04,\n",
       "        1.87998302e-03, 3.66967083e-08, 8.81010384e-01, 4.23102163e-02,\n",
       "        8.78713863e-01, 8.75494065e-01, 8.03951173e-01, 3.72066226e-05,\n",
       "        8.76900290e-01, 1.33568088e-04, 8.81010384e-01, 4.57144608e-01,\n",
       "        7.40815643e-01, 3.34176002e-01, 5.52192633e-01, 1.23765664e-03,\n",
       "        3.18389963e-02, 3.03150544e-02, 3.83209608e-04, 8.81010379e-01,\n",
       "        8.81010384e-01, 8.81010384e-01, 8.81010384e-01, 1.51716963e-01,\n",
       "        8.81010384e-01, 8.81010204e-01, 1.38260033e-01, 6.10712101e-01,\n",
       "        9.56837839e-08, 8.81010384e-01, 8.81010384e-01, 8.81010384e-01,\n",
       "        1.02607940e-04, 1.51114092e-01, 6.15590512e-01, 8.81010384e-01,\n",
       "        5.14382427e-01, 7.91168505e-02, 8.81010384e-01, 8.81010384e-01,\n",
       "        8.81010384e-01, 7.02351752e-01, 8.81010384e-01, 8.81010384e-01,\n",
       "        1.03926925e-02, 8.75244135e-01, 8.40537356e-01, 1.06585681e-14,\n",
       "        1.63911221e-05, 1.84860203e-08, 7.99498344e-01, 8.81010384e-01,\n",
       "        8.81010384e-01, 8.32535311e-01, 8.81010152e-01, 8.56601491e-01,\n",
       "        8.81010221e-01, 1.12200957e-01, 8.81010384e-01, 8.81010384e-01,\n",
       "        8.81010384e-01, 8.81010384e-01, 8.81010384e-01, 8.81010384e-01,\n",
       "        2.03215384e-04, 1.21383154e-01, 8.81010384e-01, 8.81010327e-01,\n",
       "        8.81010304e-01, 8.30858332e-12, 8.81010384e-01, 7.70157255e-01,\n",
       "        4.68696635e-01, 8.81010384e-01, 8.80714817e-01, 8.81010384e-01,\n",
       "        2.26426989e-03, 8.81010384e-01, 8.00479178e-01]])"
      ]
     },
     "execution_count": 51,
     "metadata": {},
     "output_type": "execute_result"
    }
   ],
   "source": [
    "# Visualiza as previsões\n",
    "y_pred_treino"
   ]
  },
  {
   "cell_type": "code",
   "execution_count": 52,
   "metadata": {},
   "outputs": [],
   "source": [
    "# Ajustamos o shape em treino\n",
    "y_pred_treino = y_pred_treino.reshape(-1)\n",
    "y_treino = y_treino.reshape(-1)"
   ]
  },
  {
   "cell_type": "code",
   "execution_count": 53,
   "metadata": {},
   "outputs": [
    {
     "data": {
      "text/plain": [
       "array([ True,  True, False, False, False,  True,  True, False, False,\n",
       "        True,  True, False, False,  True,  True,  True,  True, False,\n",
       "        True, False,  True,  True,  True,  True, False, False, False,\n",
       "       False,  True,  True, False,  True, False,  True,  True, False,\n",
       "        True, False,  True,  True,  True,  True, False, False, False,\n",
       "        True, False,  True,  True,  True,  True,  True, False, False,\n",
       "        True,  True, False, False,  True, False,  True, False, False,\n",
       "        True,  True, False,  True,  True,  True, False, False, False,\n",
       "       False, False,  True, False, False, False,  True, False,  True,\n",
       "       False,  True,  True,  True, False,  True,  True, False,  True,\n",
       "        True,  True,  True, False,  True,  True,  True, False, False,\n",
       "        True, False,  True,  True,  True,  True,  True,  True, False,\n",
       "       False,  True, False,  True,  True, False,  True,  True,  True,\n",
       "        True,  True, False,  True,  True,  True, False, False,  True,\n",
       "        True, False,  True,  True, False, False,  True, False,  True,\n",
       "       False, False,  True,  True, False,  True,  True, False, False,\n",
       "       False,  True,  True, False, False,  True,  True, False,  True,\n",
       "        True, False,  True,  True,  True, False,  True,  True,  True,\n",
       "        True, False,  True, False,  True,  True,  True, False,  True,\n",
       "       False,  True,  True, False, False, False,  True,  True,  True,\n",
       "        True, False,  True, False,  True,  True,  True,  True,  True,\n",
       "        True,  True,  True,  True, False,  True, False,  True,  True,\n",
       "        True,  True,  True,  True,  True, False, False,  True, False,\n",
       "        True,  True,  True, False,  True,  True, False,  True,  True,\n",
       "        True,  True,  True,  True,  True, False,  True,  True,  True,\n",
       "        True,  True,  True,  True, False, False, False, False, False,\n",
       "        True,  True, False,  True,  True, False,  True,  True,  True,\n",
       "        True, False, False, False, False,  True,  True,  True,  True,\n",
       "        True,  True,  True,  True,  True,  True,  True,  True,  True,\n",
       "        True, False, False, False, False,  True,  True,  True,  True,\n",
       "        True,  True,  True,  True,  True,  True,  True,  True,  True,\n",
       "       False, False,  True, False,  True, False,  True,  True,  True,\n",
       "       False,  True,  True, False,  True,  True,  True,  True,  True,\n",
       "       False,  True,  True,  True,  True,  True,  True, False, False,\n",
       "        True,  True,  True,  True,  True,  True,  True,  True,  True,\n",
       "        True,  True,  True, False, False,  True,  True,  True,  True,\n",
       "        True,  True,  True,  True,  True,  True,  True, False,  True,\n",
       "        True, False, False,  True, False, False,  True,  True,  True,\n",
       "        True, False, False,  True,  True,  True,  True,  True,  True,\n",
       "        True,  True,  True,  True, False,  True,  True,  True, False,\n",
       "       False,  True,  True,  True, False,  True,  True, False,  True,\n",
       "       False, False,  True, False,  True, False, False, False,  True,\n",
       "       False,  True,  True,  True,  True, False,  True,  True, False,\n",
       "        True,  True,  True, False,  True, False,  True,  True, False,\n",
       "        True, False,  True, False,  True, False,  True, False, False,\n",
       "       False,  True, False,  True,  True,  True, False,  True, False,\n",
       "        True, False,  True, False,  True, False, False, False, False,\n",
       "        True,  True,  True,  True, False,  True,  True, False,  True,\n",
       "       False,  True,  True,  True, False, False,  True,  True,  True,\n",
       "       False,  True,  True,  True,  True,  True,  True, False,  True,\n",
       "        True, False, False, False,  True,  True,  True,  True,  True,\n",
       "        True,  True, False,  True,  True,  True,  True,  True,  True,\n",
       "       False, False,  True,  True,  True, False,  True,  True, False,\n",
       "        True,  True,  True, False,  True,  True])"
      ]
     },
     "execution_count": 53,
     "metadata": {},
     "output_type": "execute_result"
    }
   ],
   "source": [
    "y_pred_treino > 0.5"
   ]
  },
  {
   "cell_type": "code",
   "execution_count": 54,
   "metadata": {},
   "outputs": [],
   "source": [
    "# Convertemos as previsões para o valor binário de classe \n",
    "# (0 ou 1, usando como threshold o valor de 0.5 da probabilidade)\n",
    "y_pred_treino = 1 * (y_pred_treino > 0.5)"
   ]
  },
  {
   "cell_type": "code",
   "execution_count": 55,
   "metadata": {},
   "outputs": [
    {
     "data": {
      "text/plain": [
       "array([1, 1, 0, 0, 0, 1, 1, 0, 0, 1, 1, 0, 0, 1, 1, 1, 1, 0, 1, 0, 1, 1,\n",
       "       1, 1, 0, 0, 0, 0, 1, 1, 0, 1, 0, 1, 1, 0, 1, 0, 1, 1, 1, 1, 0, 0,\n",
       "       0, 1, 0, 1, 1, 1, 1, 1, 0, 0, 1, 1, 0, 0, 1, 0, 1, 0, 0, 1, 1, 0,\n",
       "       1, 1, 1, 0, 0, 0, 0, 0, 1, 0, 0, 0, 1, 0, 1, 0, 1, 1, 1, 0, 1, 1,\n",
       "       0, 1, 1, 1, 1, 0, 1, 1, 1, 0, 0, 1, 0, 1, 1, 1, 1, 1, 1, 0, 0, 1,\n",
       "       0, 1, 1, 0, 1, 1, 1, 1, 1, 0, 1, 1, 1, 0, 0, 1, 1, 0, 1, 1, 0, 0,\n",
       "       1, 0, 1, 0, 0, 1, 1, 0, 1, 1, 0, 0, 0, 1, 1, 0, 0, 1, 1, 0, 1, 1,\n",
       "       0, 1, 1, 1, 0, 1, 1, 1, 1, 0, 1, 0, 1, 1, 1, 0, 1, 0, 1, 1, 0, 0,\n",
       "       0, 1, 1, 1, 1, 0, 1, 0, 1, 1, 1, 1, 1, 1, 1, 1, 1, 0, 1, 0, 1, 1,\n",
       "       1, 1, 1, 1, 1, 0, 0, 1, 0, 1, 1, 1, 0, 1, 1, 0, 1, 1, 1, 1, 1, 1,\n",
       "       1, 0, 1, 1, 1, 1, 1, 1, 1, 0, 0, 0, 0, 0, 1, 1, 0, 1, 1, 0, 1, 1,\n",
       "       1, 1, 0, 0, 0, 0, 1, 1, 1, 1, 1, 1, 1, 1, 1, 1, 1, 1, 1, 1, 0, 0,\n",
       "       0, 0, 1, 1, 1, 1, 1, 1, 1, 1, 1, 1, 1, 1, 1, 0, 0, 1, 0, 1, 0, 1,\n",
       "       1, 1, 0, 1, 1, 0, 1, 1, 1, 1, 1, 0, 1, 1, 1, 1, 1, 1, 0, 0, 1, 1,\n",
       "       1, 1, 1, 1, 1, 1, 1, 1, 1, 1, 0, 0, 1, 1, 1, 1, 1, 1, 1, 1, 1, 1,\n",
       "       1, 0, 1, 1, 0, 0, 1, 0, 0, 1, 1, 1, 1, 0, 0, 1, 1, 1, 1, 1, 1, 1,\n",
       "       1, 1, 1, 0, 1, 1, 1, 0, 0, 1, 1, 1, 0, 1, 1, 0, 1, 0, 0, 1, 0, 1,\n",
       "       0, 0, 0, 1, 0, 1, 1, 1, 1, 0, 1, 1, 0, 1, 1, 1, 0, 1, 0, 1, 1, 0,\n",
       "       1, 0, 1, 0, 1, 0, 1, 0, 0, 0, 1, 0, 1, 1, 1, 0, 1, 0, 1, 0, 1, 0,\n",
       "       1, 0, 0, 0, 0, 1, 1, 1, 1, 0, 1, 1, 0, 1, 0, 1, 1, 1, 0, 0, 1, 1,\n",
       "       1, 0, 1, 1, 1, 1, 1, 1, 0, 1, 1, 0, 0, 0, 1, 1, 1, 1, 1, 1, 1, 0,\n",
       "       1, 1, 1, 1, 1, 1, 0, 0, 1, 1, 1, 0, 1, 1, 0, 1, 1, 1, 0, 1, 1])"
      ]
     },
     "execution_count": 55,
     "metadata": {},
     "output_type": "execute_result"
    }
   ],
   "source": [
    "y_pred_treino"
   ]
  },
  {
   "cell_type": "code",
   "execution_count": 56,
   "metadata": {},
   "outputs": [],
   "source": [
    "# Calculamos a acurácia comparando valor real com valor previsto\n",
    "acc_treino = sum(1 * (y_pred_treino == y_treino)) / len(y_pred_treino) * 100"
   ]
  },
  {
   "cell_type": "code",
   "execution_count": 57,
   "metadata": {},
   "outputs": [
    {
     "name": "stdout",
     "output_type": "stream",
     "text": [
      "Acurácia nos dados de treino: 92.7536231884058\n"
     ]
    }
   ],
   "source": [
    "print(\"Acurácia nos dados de treino: \" + str(acc_treino))"
   ]
  },
  {
   "cell_type": "code",
   "execution_count": 58,
   "metadata": {},
   "outputs": [
    {
     "name": "stdout",
     "output_type": "stream",
     "text": [
      "              precision    recall  f1-score   support\n",
      "\n",
      "     Maligno       0.96      0.85      0.90       188\n",
      "     Benigno       0.91      0.98      0.94       295\n",
      "\n",
      "    accuracy                           0.93       483\n",
      "   macro avg       0.94      0.91      0.92       483\n",
      "weighted avg       0.93      0.93      0.93       483\n",
      "\n"
     ]
    }
   ],
   "source": [
    "print(classification_report(y_treino, y_pred_treino, target_names = ['Maligno', 'Benigno']))"
   ]
  },
  {
   "cell_type": "code",
   "execution_count": 59,
   "metadata": {},
   "outputs": [],
   "source": [
    "# Previsões com o modelo usando dados de teste\n",
    "y_pred_teste = predict(X_teste, parametros)"
   ]
  },
  {
   "cell_type": "code",
   "execution_count": 60,
   "metadata": {},
   "outputs": [
    {
     "data": {
      "text/plain": [
       "array([[8.26445705e-01, 8.81010384e-01, 8.81010384e-01, 8.81010384e-01,\n",
       "        8.81010384e-01, 8.81010340e-01, 8.81010384e-01, 2.89858134e-02,\n",
       "        8.81010384e-01, 8.01913659e-01, 2.96162289e-05, 8.81010384e-01,\n",
       "        8.81010384e-01, 8.81010282e-01, 5.46335273e-01, 8.19992351e-06,\n",
       "        5.59567897e-01, 8.81010384e-01, 9.05736974e-03, 8.81010384e-01,\n",
       "        8.81010384e-01, 8.47935479e-01, 6.50886419e-01, 8.81010324e-01,\n",
       "        8.81010384e-01, 8.81010384e-01, 2.42291544e-02, 1.44464392e-01,\n",
       "        3.82507801e-08, 8.81010384e-01, 8.81010353e-01, 8.81010384e-01,\n",
       "        6.45678385e-01, 8.47594748e-01, 7.85800017e-05, 8.81010384e-01,\n",
       "        8.67810189e-01, 6.80491113e-01, 8.81010384e-01, 8.81010384e-01,\n",
       "        8.45316824e-01, 8.81010293e-01, 5.07082561e-06, 8.81010358e-01,\n",
       "        8.81010384e-01, 1.13677445e-04, 8.81010355e-01, 8.81010384e-01,\n",
       "        8.81010384e-01, 8.81010384e-01, 8.81010384e-01, 4.18706606e-01,\n",
       "        8.56191410e-01, 8.38707263e-01, 8.81010384e-01, 8.81010384e-01,\n",
       "        2.04477116e-05, 8.81010375e-01, 8.81010384e-01, 8.81010384e-01,\n",
       "        8.81010384e-01, 5.34477215e-09, 7.97446616e-01, 8.81010384e-01,\n",
       "        8.81010384e-01, 8.81010384e-01, 4.63908215e-01, 8.81010384e-01,\n",
       "        8.81010384e-01, 8.81010384e-01, 1.07323736e-03, 8.81010384e-01,\n",
       "        8.81010384e-01, 8.81010316e-01, 1.59412429e-01, 8.81010384e-01,\n",
       "        8.81010384e-01, 6.83472021e-01, 8.81010384e-01, 8.81010384e-01,\n",
       "        8.81010384e-01, 7.08260838e-06, 8.77320601e-04, 3.97465458e-08,\n",
       "        8.81010384e-01, 7.42862861e-01]])"
      ]
     },
     "execution_count": 60,
     "metadata": {},
     "output_type": "execute_result"
    }
   ],
   "source": [
    "# Visualiza os dados\n",
    "y_pred_teste"
   ]
  },
  {
   "cell_type": "code",
   "execution_count": 61,
   "metadata": {},
   "outputs": [],
   "source": [
    "# Ajustamos os shapes\n",
    "y_pred_teste = y_pred_teste.reshape(-1)\n",
    "y_teste = y_teste.reshape(-1)"
   ]
  },
  {
   "cell_type": "code",
   "execution_count": 62,
   "metadata": {},
   "outputs": [],
   "source": [
    "# Convertemos as previsões para o valor binário de classe\n",
    "y_pred_teste = 1 * (y_pred_teste > 0.5)"
   ]
  },
  {
   "cell_type": "code",
   "execution_count": 63,
   "metadata": {},
   "outputs": [
    {
     "data": {
      "text/plain": [
       "array([1, 1, 1, 1, 1, 1, 1, 0, 1, 1, 0, 1, 1, 1, 1, 0, 1, 1, 0, 1, 1, 1,\n",
       "       1, 1, 1, 1, 0, 0, 0, 1, 1, 1, 1, 1, 0, 1, 1, 1, 1, 1, 1, 1, 0, 1,\n",
       "       1, 0, 1, 1, 1, 1, 1, 0, 1, 1, 1, 1, 0, 1, 1, 1, 1, 0, 1, 1, 1, 1,\n",
       "       0, 1, 1, 1, 0, 1, 1, 1, 0, 1, 1, 1, 1, 1, 1, 0, 0, 0, 1, 1])"
      ]
     },
     "execution_count": 63,
     "metadata": {},
     "output_type": "execute_result"
    }
   ],
   "source": [
    "# Visualizamos as previsões\n",
    "y_pred_teste"
   ]
  },
  {
   "cell_type": "code",
   "execution_count": 64,
   "metadata": {},
   "outputs": [],
   "source": [
    "# Calculamos a acurácia\n",
    "acuracia = sum(1 * (y_pred_teste == y_teste)) / len(y_pred_teste) * 100"
   ]
  },
  {
   "cell_type": "code",
   "execution_count": 65,
   "metadata": {},
   "outputs": [
    {
     "name": "stdout",
     "output_type": "stream",
     "text": [
      "Acurácia nos dados de teste: 94.18604651162791\n"
     ]
    }
   ],
   "source": [
    "print(\"Acurácia nos dados de teste: \" + str(acuracia))"
   ]
  },
  {
   "cell_type": "code",
   "execution_count": 66,
   "metadata": {},
   "outputs": [
    {
     "name": "stdout",
     "output_type": "stream",
     "text": [
      "              precision    recall  f1-score   support\n",
      "\n",
      "     Maligno       1.00      0.79      0.88        24\n",
      "     Benigno       0.93      1.00      0.96        62\n",
      "\n",
      "    accuracy                           0.94        86\n",
      "   macro avg       0.96      0.90      0.92        86\n",
      "weighted avg       0.95      0.94      0.94        86\n",
      "\n"
     ]
    }
   ],
   "source": [
    "print(classification_report(y_teste, y_pred_teste, target_names = ['Maligno', 'Benigno']))"
   ]
  },
  {
   "cell_type": "markdown",
   "metadata": {},
   "source": [
    "# Fim"
   ]
  }
 ],
 "metadata": {
  "kernelspec": {
   "display_name": "Python 3 (ipykernel)",
   "language": "python",
   "name": "python3"
  },
  "language_info": {
   "codemirror_mode": {
    "name": "ipython",
    "version": 3
   },
   "file_extension": ".py",
   "mimetype": "text/x-python",
   "name": "python",
   "nbconvert_exporter": "python",
   "pygments_lexer": "ipython3",
   "version": "3.8.2"
  }
 },
 "nbformat": 4,
 "nbformat_minor": 4
}
