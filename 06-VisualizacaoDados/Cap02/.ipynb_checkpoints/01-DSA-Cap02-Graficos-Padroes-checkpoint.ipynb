{
 "cells": [
  {
   "cell_type": "markdown",
   "metadata": {
    "papermill": {
     "duration": 0.029268,
     "end_time": "2020-08-15T05:42:33.215422",
     "exception": false,
     "start_time": "2020-08-15T05:42:33.186154",
     "status": "completed"
    },
    "tags": []
   },
   "source": [
    "# <font color='blue'>Data Science Academy</font>\n",
    "# <font color='blue'>Visualização de Dados e Design de Dashboards</font>\n",
    "## <font color='blue'>Capítulo 2 - Métodos de Visualização</font>"
   ]
  },
  {
   "cell_type": "markdown",
   "metadata": {},
   "source": [
    "## Exemplos de Gráficos Padrões\n",
    "\n",
    "Aqui você encontra exemplos de alguns dos gráficos padrões estudados no Capítulo 2."
   ]
  },
  {
   "cell_type": "markdown",
   "metadata": {},
   "source": [
    "![title](imagens/cap02.png)"
   ]
  },
  {
   "cell_type": "markdown",
   "metadata": {
    "papermill": {
     "duration": 0.028236,
     "end_time": "2020-08-15T05:42:33.272312",
     "exception": false,
     "start_time": "2020-08-15T05:42:33.244076",
     "status": "completed"
    },
    "tags": []
   },
   "source": [
    "## Pacotes Python Para Manipulação de Dados e Visualização\n",
    "\n",
    "Certifique-se de usar os pacotes nas mesmas versões mostradas abaixo."
   ]
  },
  {
   "cell_type": "code",
   "execution_count": 1,
   "metadata": {},
   "outputs": [
    {
     "name": "stdout",
     "output_type": "stream",
     "text": [
      "Collecting plotly\n",
      "  Downloading plotly-5.2.2-py2.py3-none-any.whl (21.8 MB)\n",
      "\u001b[K     |████████████████████████████████| 21.8 MB 4.5 MB/s eta 0:00:01\n",
      "\u001b[?25hRequirement already satisfied: six in /home/carlos-vitorino/anaconda3/lib/python3.8/site-packages (from plotly) (1.16.0)\n",
      "Collecting tenacity>=6.2.0\n",
      "  Downloading tenacity-8.0.1-py3-none-any.whl (24 kB)\n",
      "Installing collected packages: tenacity, plotly\n",
      "Successfully installed plotly-5.2.2 tenacity-8.0.1\n"
     ]
    }
   ],
   "source": [
    "# Para atualizar um pacote, execute o comando abaixo no terminal ou prompt de comando:\n",
    "# pip install -U nome_pacote\n",
    "\n",
    "# Para instalar a versão exata de um pacote, execute o comando abaixo no terminal ou prompt de comando:\n",
    "# !pip install nome_pacote==versão_desejada\n",
    "\n",
    "# Depois de instalar ou atualizar o pacote, reinicie o jupyter notebook.\n",
    "\n",
    "# Instala o pacote watermark. \n",
    "# Esse pacote é usado para gravar as versões de outros pacotes usados neste jupyter notebook.\n",
    "!pip install -q -U watermark\n",
    "\n",
    "!pip install plotly"
   ]
  },
  {
   "cell_type": "code",
   "execution_count": 2,
   "metadata": {
    "execution": {
     "iopub.execute_input": "2020-08-15T05:42:33.335573Z",
     "iopub.status.busy": "2020-08-15T05:42:33.334762Z",
     "iopub.status.idle": "2020-08-15T05:42:35.988244Z",
     "shell.execute_reply": "2020-08-15T05:42:35.987118Z"
    },
    "papermill": {
     "duration": 2.687594,
     "end_time": "2020-08-15T05:42:35.988384",
     "exception": false,
     "start_time": "2020-08-15T05:42:33.300790",
     "status": "completed"
    },
    "tags": []
   },
   "outputs": [],
   "source": [
    "# Manipulação de Dados\n",
    "import numpy as np\n",
    "import pandas as pd\n",
    "\n",
    "# Visualização com Plotly\n",
    "import plotly.express as px\n",
    "import plotly.graph_objects as go\n",
    "import plotly.figure_factory as ff\n",
    "from plotly.colors import n_colors\n",
    "from plotly.subplots import make_subplots"
   ]
  },
  {
   "cell_type": "code",
   "execution_count": 3,
   "metadata": {},
   "outputs": [
    {
     "name": "stdout",
     "output_type": "stream",
     "text": [
      "Author: Data Science Academy\n",
      "\n",
      "pandas: 1.2.5\n",
      "numpy : 1.20.3\n",
      "plotly: 5.2.2\n",
      "\n"
     ]
    }
   ],
   "source": [
    "# Versões dos pacotes usados neste jupyter notebook\n",
    "%reload_ext watermark\n",
    "%watermark -a \"Data Science Academy\" --iversions"
   ]
  },
  {
   "cell_type": "markdown",
   "metadata": {
    "papermill": {
     "duration": 0.028051,
     "end_time": "2020-08-15T05:42:36.045004",
     "exception": false,
     "start_time": "2020-08-15T05:42:36.016953",
     "status": "completed"
    },
    "tags": []
   },
   "source": [
    "## Carregando os Dados\n",
    "\n",
    "Consulte as fontes dos dados no manual em pdf **Gráficos Padrões com Plotly** no Capítulo 2."
   ]
  },
  {
   "cell_type": "code",
   "execution_count": null,
   "metadata": {},
   "outputs": [],
   "source": [
    "titanic = pd.read_csv('dados/titanic-train.csv')\n",
    "titanic.head(3)"
   ]
  },
  {
   "cell_type": "code",
   "execution_count": null,
   "metadata": {},
   "outputs": [],
   "source": [
    "netflix = pd.read_csv(\"dados/netflix-shows-netflix_titles.csv\")\n",
    "netflix.head(3)"
   ]
  },
  {
   "cell_type": "code",
   "execution_count": null,
   "metadata": {},
   "outputs": [],
   "source": [
    "world = pd.read_csv('dados/world-university-rankings-cwurData.csv')\n",
    "world.head(3)"
   ]
  },
  {
   "cell_type": "code",
   "execution_count": null,
   "metadata": {},
   "outputs": [],
   "source": [
    "google = pd.read_csv(\"dados/google-play-store-apps-googleplaystore.csv\")\n",
    "google.head(3)"
   ]
  },
  {
   "cell_type": "code",
   "execution_count": null,
   "metadata": {},
   "outputs": [],
   "source": [
    "covid = pd.read_csv('dados/novel-corona-virus-2019-dataset-covid_19_data.csv')\n",
    "covid.head(3)"
   ]
  },
  {
   "cell_type": "code",
   "execution_count": null,
   "metadata": {},
   "outputs": [],
   "source": [
    "covid_line = pd.read_csv('dados/novel-corona-virus-2019-dataset-COVID19_line_list_data.csv')\n",
    "covid_line.head(3)"
   ]
  },
  {
   "cell_type": "markdown",
   "metadata": {
    "papermill": {
     "duration": 0.032744,
     "end_time": "2020-08-15T05:42:55.535612",
     "exception": false,
     "start_time": "2020-08-15T05:42:55.502868",
     "status": "completed"
    },
    "tags": []
   },
   "source": [
    "### Gráfico de Barras Simples"
   ]
  },
  {
   "cell_type": "markdown",
   "metadata": {
    "papermill": {
     "duration": 0.03273,
     "end_time": "2020-08-15T05:42:55.601548",
     "exception": false,
     "start_time": "2020-08-15T05:42:55.568818",
     "status": "completed"
    },
    "tags": []
   },
   "source": [
    "**Objetivo**: Exibe a representação quantitativa de uma variável.\n",
    "\n",
    "Quais países tem universidades com pontuação superior a 70?"
   ]
  },
  {
   "cell_type": "code",
   "execution_count": null,
   "metadata": {
    "_kg_hide-input": true,
    "execution": {
     "iopub.execute_input": "2020-08-15T05:42:55.677566Z",
     "iopub.status.busy": "2020-08-15T05:42:55.676927Z",
     "iopub.status.idle": "2020-08-15T05:42:55.679923Z",
     "shell.execute_reply": "2020-08-15T05:42:55.679368Z"
    },
    "papermill": {
     "duration": 0.045322,
     "end_time": "2020-08-15T05:42:55.680039",
     "exception": false,
     "start_time": "2020-08-15T05:42:55.634717",
     "status": "completed"
    },
    "tags": []
   },
   "outputs": [],
   "source": [
    "# Prepara os dados\n",
    "top_countries = world[world['score'] > 70]['country'].value_counts().reset_index().rename(columns = {'index':'country','country':'count'})"
   ]
  },
  {
   "cell_type": "code",
   "execution_count": null,
   "metadata": {
    "execution": {
     "iopub.execute_input": "2020-08-15T05:42:55.752007Z",
     "iopub.status.busy": "2020-08-15T05:42:55.751120Z",
     "iopub.status.idle": "2020-08-15T05:42:55.763973Z",
     "shell.execute_reply": "2020-08-15T05:42:55.763357Z"
    },
    "papermill": {
     "duration": 0.051261,
     "end_time": "2020-08-15T05:42:55.764084",
     "exception": false,
     "start_time": "2020-08-15T05:42:55.712823",
     "status": "completed"
    },
    "tags": []
   },
   "outputs": [],
   "source": [
    "# Cria a figura\n",
    "fig = go.Figure(go.Bar(x = top_countries['country'], y = top_countries['count'],))\n",
    "\n",
    "# Configura o layout\n",
    "fig.update_layout(title_text = 'Países com Universidades com Pontuação Superior a 70',\n",
    "                  xaxis_title = \"País\",\n",
    "                  yaxis_title = \"Número de Universidades\")\n",
    "\n",
    "# Mostra o gráfico\n",
    "fig.show()"
   ]
  },
  {
   "cell_type": "markdown",
   "metadata": {
    "papermill": {
     "duration": 0.033164,
     "end_time": "2020-08-15T05:42:55.831017",
     "exception": false,
     "start_time": "2020-08-15T05:42:55.797853",
     "status": "completed"
    },
    "tags": []
   },
   "source": [
    "### Gráfico de Barras - Gradiente de Cores e Posicionamento de Texto"
   ]
  },
  {
   "cell_type": "markdown",
   "metadata": {
    "papermill": {
     "duration": 0.032888,
     "end_time": "2020-08-15T05:42:55.897317",
     "exception": false,
     "start_time": "2020-08-15T05:42:55.864429",
     "status": "completed"
    },
    "tags": []
   },
   "source": [
    "**Objetivo**: Exibe a representação quantitativa de uma variável destacando as contagens com gradiente de cor e posição do texto para todas as barras.\n",
    "\n",
    "Em que gênero se enquadra a maioria dos aplicativos da Google Play Store? "
   ]
  },
  {
   "cell_type": "code",
   "execution_count": null,
   "metadata": {
    "_kg_hide-input": true,
    "execution": {
     "iopub.execute_input": "2020-08-15T05:42:55.975279Z",
     "iopub.status.busy": "2020-08-15T05:42:55.974379Z",
     "iopub.status.idle": "2020-08-15T05:42:55.977554Z",
     "shell.execute_reply": "2020-08-15T05:42:55.977070Z"
    },
    "papermill": {
     "duration": 0.047118,
     "end_time": "2020-08-15T05:42:55.977690",
     "exception": false,
     "start_time": "2020-08-15T05:42:55.930572",
     "status": "completed"
    },
    "tags": []
   },
   "outputs": [],
   "source": [
    "# Prepara os dados\n",
    "apps = google['Genres'].value_counts()[:10].to_frame().reset_index().rename(columns = {'index':'Genres','Genres':'Count'})"
   ]
  },
  {
   "cell_type": "code",
   "execution_count": null,
   "metadata": {
    "execution": {
     "iopub.execute_input": "2020-08-15T05:42:56.051813Z",
     "iopub.status.busy": "2020-08-15T05:42:56.051115Z",
     "iopub.status.idle": "2020-08-15T05:42:56.068522Z",
     "shell.execute_reply": "2020-08-15T05:42:56.067921Z"
    },
    "papermill": {
     "duration": 0.057135,
     "end_time": "2020-08-15T05:42:56.068658",
     "exception": false,
     "start_time": "2020-08-15T05:42:56.011523",
     "status": "completed"
    },
    "tags": []
   },
   "outputs": [],
   "source": [
    "# Cria a figura e formata o gradiente de cores\n",
    "fig = go.Figure(go.Bar(x = apps['Genres'],\n",
    "                       y = apps['Count'], \n",
    "                       marker = {'color': apps['Count'], 'colorscale': 'Viridis'},  \n",
    "                       text = apps['Count'],\n",
    "                       textposition = \"outside\",))\n",
    "\n",
    "# Configura o layout\n",
    "fig.update_layout(title_text = 'Top Apps da Google Playstore',\n",
    "                  xaxis_title = \"Gêneros de Aplicativos\",\n",
    "                  yaxis_title = \"Número de Apps\")\n",
    "\n",
    "# Mostra o gráfico\n",
    "fig.show()"
   ]
  },
  {
   "cell_type": "markdown",
   "metadata": {
    "papermill": {
     "duration": 0.033284,
     "end_time": "2020-08-15T05:42:56.135790",
     "exception": false,
     "start_time": "2020-08-15T05:42:56.102506",
     "status": "completed"
    },
    "tags": []
   },
   "source": [
    "### Gráfico de Barras Empilhado"
   ]
  },
  {
   "cell_type": "markdown",
   "metadata": {
    "papermill": {
     "duration": 0.034102,
     "end_time": "2020-08-15T05:42:56.203901",
     "exception": false,
     "start_time": "2020-08-15T05:42:56.169799",
     "status": "completed"
    },
    "tags": []
   },
   "source": [
    "**Objetivo**: Exibe a representação quantitativa de uma variável agrupando / empilhando as barras.\n",
    "\n",
    "Quantos programas / filmes foram lançados na Netflix do Brasil e dos Estados Unidos entre 2015 e 2020?"
   ]
  },
  {
   "cell_type": "code",
   "execution_count": null,
   "metadata": {
    "_kg_hide-input": true,
    "execution": {
     "iopub.execute_input": "2020-08-15T05:42:56.282298Z",
     "iopub.status.busy": "2020-08-15T05:42:56.280620Z",
     "iopub.status.idle": "2020-08-15T05:42:56.296865Z",
     "shell.execute_reply": "2020-08-15T05:42:56.296214Z"
    },
    "papermill": {
     "duration": 0.058697,
     "end_time": "2020-08-15T05:42:56.296978",
     "exception": false,
     "start_time": "2020-08-15T05:42:56.238281",
     "status": "completed"
    },
    "tags": []
   },
   "outputs": [],
   "source": [
    "# Agrupamento dos dados\n",
    "top_release_brazil = netflix[(netflix['country']=='Brazil')&\n",
    "                    ((netflix['release_year']==2015)|(netflix['release_year']==2016)|(netflix['release_year']==2017)|(netflix['release_year']==2018)|\n",
    "                    (netflix['release_year']==2019)|(netflix['release_year']==2020))]['release_year'].value_counts().to_frame().reset_index().rename(columns={'index':'release_year','release_year':'count'})\n",
    "\n",
    "top_release_us = netflix[(netflix['country']=='United States')&\n",
    "                    ((netflix['release_year']==2015)|(netflix['release_year']==2016)|(netflix['release_year']==2017)|(netflix['release_year']==2018)|\n",
    "                    (netflix['release_year']==2019)|(netflix['release_year']==2020))]['release_year'].value_counts().to_frame().reset_index().rename(columns={'index':'release_year','release_year':'count'})"
   ]
  },
  {
   "cell_type": "code",
   "execution_count": null,
   "metadata": {
    "execution": {
     "iopub.execute_input": "2020-08-15T05:42:56.374124Z",
     "iopub.status.busy": "2020-08-15T05:42:56.373444Z",
     "iopub.status.idle": "2020-08-15T05:42:56.386364Z",
     "shell.execute_reply": "2020-08-15T05:42:56.386859Z"
    },
    "papermill": {
     "duration": 0.056038,
     "end_time": "2020-08-15T05:42:56.387010",
     "exception": false,
     "start_time": "2020-08-15T05:42:56.330972",
     "status": "completed"
    },
    "tags": []
   },
   "outputs": [],
   "source": [
    "# Cria a figura\n",
    "fig = go.Figure()\n",
    "\n",
    "# Formata as barras por agrupamento\n",
    "fig.add_trace(go.Bar(x = top_release_brazil['release_year'], \n",
    "                     y = top_release_brazil['count'],\n",
    "                     name = 'Brasil',\n",
    "                     marker_color = 'violet'))\n",
    "\n",
    "fig.add_trace(go.Bar(x = top_release_us['release_year'],\n",
    "                     y = top_release_us['count'],\n",
    "                     name = 'Estados Unidos',\n",
    "                     marker_color = 'blue'))\n",
    "\n",
    "# Formata o layout\n",
    "fig.update_layout(title_text = 'Filmes e Programas Lançados na Netflix do Brasil / EUA Entre 2015 e 2020',\n",
    "                  xaxis_title = \"Ano\",\n",
    "                  yaxis_title = \"Número de Filmes/Programas\",\n",
    "                  barmode = 'stack') \n",
    "\n",
    "# Mostra o gráfico\n",
    "fig.show()"
   ]
  },
  {
   "cell_type": "markdown",
   "metadata": {
    "papermill": {
     "duration": 0.033619,
     "end_time": "2020-08-15T05:42:56.455037",
     "exception": false,
     "start_time": "2020-08-15T05:42:56.421418",
     "status": "completed"
    },
    "tags": []
   },
   "source": [
    "### Gráfico de Barras Facetado"
   ]
  },
  {
   "cell_type": "markdown",
   "metadata": {
    "papermill": {
     "duration": 0.033367,
     "end_time": "2020-08-15T05:42:56.521933",
     "exception": false,
     "start_time": "2020-08-15T05:42:56.488566",
     "status": "completed"
    },
    "tags": []
   },
   "source": [
    "**Objetivo**: Exibe uma visão de diferentes características categóricas em relação a uma única variável numérica.\n",
    "\n",
    "Qual é a soma da tarifa (variável fare) por sexo dos passageiros em cada classe e seus embarcados no dataset Titanic? \n",
    "\n",
    "- Variáveis facetárias: Survived, Pclass\n",
    "- Barras agrupadas: Embarked\n",
    "- Numérico único (eixo Y) - Fare)"
   ]
  },
  {
   "cell_type": "code",
   "execution_count": null,
   "metadata": {
    "_kg_hide-input": true,
    "execution": {
     "iopub.execute_input": "2020-08-15T05:42:56.605687Z",
     "iopub.status.busy": "2020-08-15T05:42:56.604905Z",
     "iopub.status.idle": "2020-08-15T05:42:56.607653Z",
     "shell.execute_reply": "2020-08-15T05:42:56.607022Z"
    },
    "papermill": {
     "duration": 0.051928,
     "end_time": "2020-08-15T05:42:56.607767",
     "exception": false,
     "start_time": "2020-08-15T05:42:56.555839",
     "status": "completed"
    },
    "tags": []
   },
   "outputs": [],
   "source": [
    "# Prepara os dados\n",
    "facet_titanic = titanic[['Sex','Survived','Embarked','Pclass','Fare']].groupby(['Sex','Survived','Embarked','Pclass']).agg('sum').reset_index()"
   ]
  },
  {
   "cell_type": "code",
   "execution_count": null,
   "metadata": {
    "execution": {
     "iopub.execute_input": "2020-08-15T05:42:56.698243Z",
     "iopub.status.busy": "2020-08-15T05:42:56.697381Z",
     "iopub.status.idle": "2020-08-15T05:42:56.811483Z",
     "shell.execute_reply": "2020-08-15T05:42:56.810996Z"
    },
    "papermill": {
     "duration": 0.170208,
     "end_time": "2020-08-15T05:42:56.811597",
     "exception": false,
     "start_time": "2020-08-15T05:42:56.641389",
     "status": "completed"
    },
    "tags": []
   },
   "outputs": [],
   "source": [
    "# Cria o facet\n",
    "fig = px.bar(facet_titanic, \n",
    "             x = \"Sex\", \n",
    "             y = \"Fare\",\n",
    "             color = \"Embarked\",\n",
    "             barmode = \"group\",\n",
    "             facet_row = \"Survived\", \n",
    "             facet_col = \"Pclass\",)\n",
    "\n",
    "# Layout\n",
    "fig.update_layout(title_text = 'Vista Facetada da tarifa dos passageiros do Titanic em relação à idade, classe, embarque\\n')\n",
    "\n",
    "# Mostra o gráfico\n",
    "fig.show()"
   ]
  },
  {
   "cell_type": "markdown",
   "metadata": {
    "papermill": {
     "duration": 0.034348,
     "end_time": "2020-08-15T05:42:56.880714",
     "exception": false,
     "start_time": "2020-08-15T05:42:56.846366",
     "status": "completed"
    },
    "tags": []
   },
   "source": [
    "### Gráfico de Barras Horizontal"
   ]
  },
  {
   "cell_type": "markdown",
   "metadata": {
    "papermill": {
     "duration": 0.034119,
     "end_time": "2020-08-15T05:42:56.949401",
     "exception": false,
     "start_time": "2020-08-15T05:42:56.915282",
     "status": "completed"
    },
    "tags": []
   },
   "source": [
    "**Objetivo**: Exibe a representação quantitativa de uma variável de maneira horizontal.\n",
    "\n",
    "Quantos aplicativos da Playstore se enquadram em cada categoria?"
   ]
  },
  {
   "cell_type": "code",
   "execution_count": null,
   "metadata": {
    "_kg_hide-input": true,
    "execution": {
     "iopub.execute_input": "2020-08-15T05:42:57.161857Z",
     "iopub.status.busy": "2020-08-15T05:42:57.160934Z",
     "iopub.status.idle": "2020-08-15T05:42:57.164173Z",
     "shell.execute_reply": "2020-08-15T05:42:57.163540Z"
    },
    "papermill": {
     "duration": 0.048381,
     "end_time": "2020-08-15T05:42:57.164297",
     "exception": false,
     "start_time": "2020-08-15T05:42:57.115916",
     "status": "completed"
    },
    "tags": []
   },
   "outputs": [],
   "source": [
    "# Prepara os dados\n",
    "app_category = google['Category'].value_counts()[:15].reset_index().rename(columns = {'index':'Category','Category':'Count'}).sort_values('Count', ascending = \"False\")"
   ]
  },
  {
   "cell_type": "code",
   "execution_count": null,
   "metadata": {
    "execution": {
     "iopub.execute_input": "2020-08-15T05:42:57.245497Z",
     "iopub.status.busy": "2020-08-15T05:42:57.244662Z",
     "iopub.status.idle": "2020-08-15T05:42:57.249730Z",
     "shell.execute_reply": "2020-08-15T05:42:57.249181Z"
    },
    "papermill": {
     "duration": 0.050896,
     "end_time": "2020-08-15T05:42:57.249877",
     "exception": false,
     "start_time": "2020-08-15T05:42:57.198981",
     "status": "completed"
    },
    "tags": []
   },
   "outputs": [],
   "source": [
    "# Cria a figura com orientação horizontal\n",
    "fig = go.Figure(go.Bar(y = app_category['Category'], x = app_category['Count'], orientation = \"h\")) \n",
    "\n",
    "# Layout\n",
    "fig.update_layout(title_text = '15 Principais Categorias de Aplicativos da Google Playstore',\n",
    "                  xaxis_title = \"Total de Apps\", \n",
    "                  yaxis_title = \"Categoria\")\n",
    "\n",
    "# Mostra o gráfico\n",
    "fig.show()"
   ]
  },
  {
   "cell_type": "markdown",
   "metadata": {},
   "source": [
    "### Gráfico de Linhas"
   ]
  },
  {
   "cell_type": "markdown",
   "metadata": {},
   "source": [
    "**Objetivo**: Relação entre variáveis ao longo do tempo.\n",
    "\n",
    "Quantas mortes por COVID foram observadas ao longo do tempo?"
   ]
  },
  {
   "cell_type": "code",
   "execution_count": null,
   "metadata": {},
   "outputs": [],
   "source": [
    "# Prepara os dados\n",
    "total_confirmed = covid[['ObservationDate','Deaths']].groupby('ObservationDate').sum().reset_index()"
   ]
  },
  {
   "cell_type": "code",
   "execution_count": null,
   "metadata": {},
   "outputs": [],
   "source": [
    "# Cria a figura\n",
    "fig = go.Figure(data = go.Scatter(x = total_confirmed['ObservationDate'],\n",
    "                                  y = total_confirmed['Deaths'],\n",
    "                                  mode = 'lines'))\n",
    "\n",
    "# Layout\n",
    "fig.update_layout(title = 'Número de Mortes Por COVID ao Longo do Tempo',\n",
    "                  xaxis_title = \"Data\",\n",
    "                  yaxis_title = \"Número de Casos\")\n",
    "\n",
    "# Mostra o gráfico\n",
    "fig.show()"
   ]
  },
  {
   "cell_type": "markdown",
   "metadata": {},
   "source": [
    "## Gráfico de Pizza"
   ]
  },
  {
   "cell_type": "markdown",
   "metadata": {},
   "source": [
    "**Objetivo**: Exibe representação quantitativa (contagem) e proporcional de variáveis categóricas.\n",
    "\n",
    "Qual a proporção de tipos de programas da Netflix?"
   ]
  },
  {
   "cell_type": "code",
   "execution_count": null,
   "metadata": {},
   "outputs": [],
   "source": [
    "# Prepara os dados\n",
    "net_category = netflix['type'].value_counts().to_frame().reset_index().rename(columns = {'index':'type','type':'count'})"
   ]
  },
  {
   "cell_type": "code",
   "execution_count": null,
   "metadata": {},
   "outputs": [],
   "source": [
    "# Cria a figura\n",
    "fig = go.Figure([go.Pie(labels = net_category['type'], values = net_category['count'])])\n",
    "\n",
    "# Interatividade\n",
    "fig.update_traces(hoverinfo = 'label+percent', \n",
    "                  textinfo = 'value+percent', \n",
    "                  textfont_size = 15,\n",
    "                  insidetextorientation = 'radial')\n",
    "\n",
    "# Layout\n",
    "fig.update_layout(title = \"Tipos de Programas na Netflix\", title_x = 0.5)\n",
    "\n",
    "# Gráfico\n",
    "fig.show()"
   ]
  },
  {
   "cell_type": "markdown",
   "metadata": {},
   "source": [
    "### Gráfico de Pizza com Cores Customizadas"
   ]
  },
  {
   "cell_type": "markdown",
   "metadata": {},
   "source": [
    "**Objetivo**: Exibe representação quantitativa em pizza com cores personalizadas para os rótulos.\n",
    "\n",
    "Qual a proporção de passageiros do Titanic por faixa etária? "
   ]
  },
  {
   "cell_type": "code",
   "execution_count": null,
   "metadata": {},
   "outputs": [],
   "source": [
    "# Prepara os dados\n",
    "titanic = titanic.dropna()\n",
    "\n",
    "titanic['age_category'] = np.where((titanic['Age'] < 19), \"Abaixo de 19 Anos\",\n",
    "                                   np.where((titanic['Age'] > 18)&(titanic['Age'] <= 30), \"19-30 Anos\",\n",
    "                                    np.where((titanic['Age'] > 30)&(titanic['Age']<=50), \"31-50 Anos\",\n",
    "                                             np.where(titanic['Age'] > 50, \"Acima de 50 Anos\",\"NULL\"))))\n",
    "\n",
    "age = titanic['age_category'].value_counts().to_frame().reset_index().rename(columns = {'index':'age_category','age_category':'Count'})\n",
    "\n",
    "titanic_age = titanic['age_category'].value_counts().to_frame().reset_index().rename(columns={'index':'age_category','age_category':'count'})\n"
   ]
  },
  {
   "cell_type": "code",
   "execution_count": null,
   "metadata": {},
   "outputs": [],
   "source": [
    "# Lista de cores\n",
    "colors = ['green', 'violet', 'yellow', 'blue']"
   ]
  },
  {
   "cell_type": "code",
   "execution_count": null,
   "metadata": {},
   "outputs": [],
   "source": [
    "# Figura\n",
    "fig = go.Figure([go.Pie(labels = titanic_age['age_category'], values = titanic_age['count'])])\n",
    "\n",
    "# Interatividade\n",
    "fig.update_traces(hoverinfo = 'label+percent', \n",
    "                  textinfo = 'percent+label', \n",
    "                  textfont_size = 16,\n",
    "                  marker = dict(colors = colors, line = dict(color = '#000360', width = 2)))\n",
    "\n",
    "fig.update_layout(title = \"Passageiros do Titanic Por Faixa Etária\", title_x = 0.5)\n",
    "\n",
    "fig.show()"
   ]
  },
  {
   "cell_type": "markdown",
   "metadata": {},
   "source": [
    "### Gráfico de Rosca (Donut)"
   ]
  },
  {
   "cell_type": "markdown",
   "metadata": {},
   "source": [
    "**Objetivo**: Exibe representação quantitativa em formato de rosca.\n",
    "\n",
    "Qual é a contagem de distribuição da classificação de conteúdo de aplicativos do google playstore?"
   ]
  },
  {
   "cell_type": "code",
   "execution_count": null,
   "metadata": {},
   "outputs": [],
   "source": [
    "# Prepara os dados\n",
    "content = google['Content Rating'].value_counts().to_frame().reset_index().rename(columns = {'index':'Content Rating','Content Rating':'count'})"
   ]
  },
  {
   "cell_type": "code",
   "execution_count": null,
   "metadata": {},
   "outputs": [],
   "source": [
    "# Figura\n",
    "fig = go.Figure([go.Pie(labels = content['Content Rating'], values = content['count'], hole = 0.3)]) \n",
    "\n",
    "# Interatividade\n",
    "fig.update_traces(hoverinfo = 'label+percent', \n",
    "                  textinfo = 'percent', \n",
    "                  textfont_size = 12)\n",
    "\n",
    "# Layout\n",
    "fig.update_layout(title = \"Classificação de Conteúdo do Google Apps\", title_x = 0.5)\n",
    "\n",
    "# Gráfico\n",
    "fig.show()"
   ]
  },
  {
   "cell_type": "markdown",
   "metadata": {},
   "source": [
    "# Fim"
   ]
  }
 ],
 "metadata": {
  "kernelspec": {
   "display_name": "Python 3",
   "language": "python",
   "name": "python3"
  },
  "language_info": {
   "codemirror_mode": {
    "name": "ipython",
    "version": 3
   },
   "file_extension": ".py",
   "mimetype": "text/x-python",
   "name": "python",
   "nbconvert_exporter": "python",
   "pygments_lexer": "ipython3",
   "version": "3.8.10"
  },
  "papermill": {
   "duration": 53.693134,
   "end_time": "2020-08-15T05:43:15.958021",
   "environment_variables": {},
   "exception": null,
   "input_path": "__notebook__.ipynb",
   "output_path": "__notebook__.ipynb",
   "parameters": {},
   "start_time": "2020-08-15T05:42:22.264887",
   "version": "2.1.0"
  }
 },
 "nbformat": 4,
 "nbformat_minor": 4
}
