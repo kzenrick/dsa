{
 "cells": [
  {
   "cell_type": "markdown",
   "metadata": {
    "papermill": {
     "duration": 0.037348,
     "end_time": "2020-08-12T12:39:03.458369",
     "exception": false,
     "start_time": "2020-08-12T12:39:03.421021",
     "status": "completed"
    },
    "tags": []
   },
   "source": [
    "# <font color='blue'>Data Science Academy</font>\n",
    "# <font color='blue'>Visualização de Dados e Design de Dashboards</font>\n",
    "## <font color='blue'>Capítulo 2 - Métodos de Visualização</font>"
   ]
  },
  {
   "cell_type": "markdown",
   "metadata": {},
   "source": [
    "## Sunburst Diagram e Candlesticks com Plotly"
   ]
  },
  {
   "cell_type": "markdown",
   "metadata": {},
   "source": [
    "![title](imagens/cap02.png)"
   ]
  },
  {
   "cell_type": "markdown",
   "metadata": {
    "papermill": {
     "duration": 0.038414,
     "end_time": "2020-08-12T12:39:03.534364",
     "exception": false,
     "start_time": "2020-08-12T12:39:03.495950",
     "status": "completed"
    },
    "tags": []
   },
   "source": [
    "## Pacotes Python Para Manipulação de Dados e Visualização"
   ]
  },
  {
   "cell_type": "code",
   "execution_count": 1,
   "metadata": {},
   "outputs": [],
   "source": [
    "# Para atualizar um pacote, execute o comando abaixo no terminal ou prompt de comando:\n",
    "# pip install -U nome_pacote\n",
    "\n",
    "# Para instalar a versão exata de um pacote, execute o comando abaixo no terminal ou prompt de comando:\n",
    "# !pip install nome_pacote==versão_desejada\n",
    "\n",
    "# Depois de instalar ou atualizar o pacote, reinicie o jupyter notebook.\n",
    "\n",
    "# Instala o pacote watermark. \n",
    "# Esse pacote é usado para gravar as versões de outros pacotes usados neste jupyter notebook.\n",
    "!pip install -q -U watermark"
   ]
  },
  {
   "cell_type": "code",
   "execution_count": 2,
   "metadata": {
    "_cell_guid": "b1076dfc-b9ad-4769-8c92-a6c4dae69d19",
    "_kg_hide-input": true,
    "_uuid": "8f2839f25d086af736a60e9eeb907d3b93b6e0e5",
    "execution": {
     "iopub.execute_input": "2020-08-12T12:39:03.618578Z",
     "iopub.status.busy": "2020-08-12T12:39:03.617758Z",
     "iopub.status.idle": "2020-08-12T12:39:10.086345Z",
     "shell.execute_reply": "2020-08-12T12:39:10.085626Z"
    },
    "papermill": {
     "duration": 6.514564,
     "end_time": "2020-08-12T12:39:10.086503",
     "exception": false,
     "start_time": "2020-08-12T12:39:03.571939",
     "status": "completed"
    },
    "tags": []
   },
   "outputs": [],
   "source": [
    "# Manipulação de Dados\n",
    "import numpy as np\n",
    "import pandas as pd\n",
    "import datetime\n",
    "from datetime import date, timedelta\n",
    "\n",
    "# Plotly\n",
    "import plotly.express as px\n",
    "import plotly.graph_objects as go\n",
    "import plotly.figure_factory as ff\n",
    "from plotly.colors import n_colors\n",
    "from plotly.subplots import make_subplots"
   ]
  },
  {
   "cell_type": "code",
   "execution_count": 3,
   "metadata": {},
   "outputs": [
    {
     "name": "stdout",
     "output_type": "stream",
     "text": [
      "Author: Data Science Academy\n",
      "\n",
      "pandas: 1.2.5\n",
      "numpy : 1.20.3\n",
      "plotly: 5.2.2\n",
      "\n"
     ]
    }
   ],
   "source": [
    "# Versões dos pacotes usados neste jupyter notebook\n",
    "%reload_ext watermark\n",
    "%watermark -a \"Data Science Academy\" --iversions"
   ]
  },
  {
   "cell_type": "markdown",
   "metadata": {
    "papermill": {
     "duration": 0.037237,
     "end_time": "2020-08-12T12:39:10.161753",
     "exception": false,
     "start_time": "2020-08-12T12:39:10.124516",
     "status": "completed"
    },
    "tags": []
   },
   "source": [
    "## Carregando os Dados"
   ]
  },
  {
   "cell_type": "code",
   "execution_count": 4,
   "metadata": {},
   "outputs": [
    {
     "data": {
      "text/html": [
       "<div>\n",
       "<style scoped>\n",
       "    .dataframe tbody tr th:only-of-type {\n",
       "        vertical-align: middle;\n",
       "    }\n",
       "\n",
       "    .dataframe tbody tr th {\n",
       "        vertical-align: top;\n",
       "    }\n",
       "\n",
       "    .dataframe thead th {\n",
       "        text-align: right;\n",
       "    }\n",
       "</style>\n",
       "<table border=\"1\" class=\"dataframe\">\n",
       "  <thead>\n",
       "    <tr style=\"text-align: right;\">\n",
       "      <th></th>\n",
       "      <th>PassengerId</th>\n",
       "      <th>Survived</th>\n",
       "      <th>Pclass</th>\n",
       "      <th>Name</th>\n",
       "      <th>Sex</th>\n",
       "      <th>Age</th>\n",
       "      <th>SibSp</th>\n",
       "      <th>Parch</th>\n",
       "      <th>Ticket</th>\n",
       "      <th>Fare</th>\n",
       "      <th>Cabin</th>\n",
       "      <th>Embarked</th>\n",
       "    </tr>\n",
       "  </thead>\n",
       "  <tbody>\n",
       "    <tr>\n",
       "      <th>0</th>\n",
       "      <td>1</td>\n",
       "      <td>0</td>\n",
       "      <td>3</td>\n",
       "      <td>Braund, Mr. Owen Harris</td>\n",
       "      <td>male</td>\n",
       "      <td>22.0</td>\n",
       "      <td>1</td>\n",
       "      <td>0</td>\n",
       "      <td>A/5 21171</td>\n",
       "      <td>7.2500</td>\n",
       "      <td>NaN</td>\n",
       "      <td>S</td>\n",
       "    </tr>\n",
       "    <tr>\n",
       "      <th>1</th>\n",
       "      <td>2</td>\n",
       "      <td>1</td>\n",
       "      <td>1</td>\n",
       "      <td>Cumings, Mrs. John Bradley (Florence Briggs Th...</td>\n",
       "      <td>female</td>\n",
       "      <td>38.0</td>\n",
       "      <td>1</td>\n",
       "      <td>0</td>\n",
       "      <td>PC 17599</td>\n",
       "      <td>71.2833</td>\n",
       "      <td>C85</td>\n",
       "      <td>C</td>\n",
       "    </tr>\n",
       "    <tr>\n",
       "      <th>2</th>\n",
       "      <td>3</td>\n",
       "      <td>1</td>\n",
       "      <td>3</td>\n",
       "      <td>Heikkinen, Miss. Laina</td>\n",
       "      <td>female</td>\n",
       "      <td>26.0</td>\n",
       "      <td>0</td>\n",
       "      <td>0</td>\n",
       "      <td>STON/O2. 3101282</td>\n",
       "      <td>7.9250</td>\n",
       "      <td>NaN</td>\n",
       "      <td>S</td>\n",
       "    </tr>\n",
       "    <tr>\n",
       "      <th>3</th>\n",
       "      <td>4</td>\n",
       "      <td>1</td>\n",
       "      <td>1</td>\n",
       "      <td>Futrelle, Mrs. Jacques Heath (Lily May Peel)</td>\n",
       "      <td>female</td>\n",
       "      <td>35.0</td>\n",
       "      <td>1</td>\n",
       "      <td>0</td>\n",
       "      <td>113803</td>\n",
       "      <td>53.1000</td>\n",
       "      <td>C123</td>\n",
       "      <td>S</td>\n",
       "    </tr>\n",
       "    <tr>\n",
       "      <th>4</th>\n",
       "      <td>5</td>\n",
       "      <td>0</td>\n",
       "      <td>3</td>\n",
       "      <td>Allen, Mr. William Henry</td>\n",
       "      <td>male</td>\n",
       "      <td>35.0</td>\n",
       "      <td>0</td>\n",
       "      <td>0</td>\n",
       "      <td>373450</td>\n",
       "      <td>8.0500</td>\n",
       "      <td>NaN</td>\n",
       "      <td>S</td>\n",
       "    </tr>\n",
       "    <tr>\n",
       "      <th>...</th>\n",
       "      <td>...</td>\n",
       "      <td>...</td>\n",
       "      <td>...</td>\n",
       "      <td>...</td>\n",
       "      <td>...</td>\n",
       "      <td>...</td>\n",
       "      <td>...</td>\n",
       "      <td>...</td>\n",
       "      <td>...</td>\n",
       "      <td>...</td>\n",
       "      <td>...</td>\n",
       "      <td>...</td>\n",
       "    </tr>\n",
       "    <tr>\n",
       "      <th>886</th>\n",
       "      <td>887</td>\n",
       "      <td>0</td>\n",
       "      <td>2</td>\n",
       "      <td>Montvila, Rev. Juozas</td>\n",
       "      <td>male</td>\n",
       "      <td>27.0</td>\n",
       "      <td>0</td>\n",
       "      <td>0</td>\n",
       "      <td>211536</td>\n",
       "      <td>13.0000</td>\n",
       "      <td>NaN</td>\n",
       "      <td>S</td>\n",
       "    </tr>\n",
       "    <tr>\n",
       "      <th>887</th>\n",
       "      <td>888</td>\n",
       "      <td>1</td>\n",
       "      <td>1</td>\n",
       "      <td>Graham, Miss. Margaret Edith</td>\n",
       "      <td>female</td>\n",
       "      <td>19.0</td>\n",
       "      <td>0</td>\n",
       "      <td>0</td>\n",
       "      <td>112053</td>\n",
       "      <td>30.0000</td>\n",
       "      <td>B42</td>\n",
       "      <td>S</td>\n",
       "    </tr>\n",
       "    <tr>\n",
       "      <th>888</th>\n",
       "      <td>889</td>\n",
       "      <td>0</td>\n",
       "      <td>3</td>\n",
       "      <td>Johnston, Miss. Catherine Helen \"Carrie\"</td>\n",
       "      <td>female</td>\n",
       "      <td>NaN</td>\n",
       "      <td>1</td>\n",
       "      <td>2</td>\n",
       "      <td>W./C. 6607</td>\n",
       "      <td>23.4500</td>\n",
       "      <td>NaN</td>\n",
       "      <td>S</td>\n",
       "    </tr>\n",
       "    <tr>\n",
       "      <th>889</th>\n",
       "      <td>890</td>\n",
       "      <td>1</td>\n",
       "      <td>1</td>\n",
       "      <td>Behr, Mr. Karl Howell</td>\n",
       "      <td>male</td>\n",
       "      <td>26.0</td>\n",
       "      <td>0</td>\n",
       "      <td>0</td>\n",
       "      <td>111369</td>\n",
       "      <td>30.0000</td>\n",
       "      <td>C148</td>\n",
       "      <td>C</td>\n",
       "    </tr>\n",
       "    <tr>\n",
       "      <th>890</th>\n",
       "      <td>891</td>\n",
       "      <td>0</td>\n",
       "      <td>3</td>\n",
       "      <td>Dooley, Mr. Patrick</td>\n",
       "      <td>male</td>\n",
       "      <td>32.0</td>\n",
       "      <td>0</td>\n",
       "      <td>0</td>\n",
       "      <td>370376</td>\n",
       "      <td>7.7500</td>\n",
       "      <td>NaN</td>\n",
       "      <td>Q</td>\n",
       "    </tr>\n",
       "  </tbody>\n",
       "</table>\n",
       "<p>891 rows × 12 columns</p>\n",
       "</div>"
      ],
      "text/plain": [
       "     PassengerId  Survived  Pclass  \\\n",
       "0              1         0       3   \n",
       "1              2         1       1   \n",
       "2              3         1       3   \n",
       "3              4         1       1   \n",
       "4              5         0       3   \n",
       "..           ...       ...     ...   \n",
       "886          887         0       2   \n",
       "887          888         1       1   \n",
       "888          889         0       3   \n",
       "889          890         1       1   \n",
       "890          891         0       3   \n",
       "\n",
       "                                                  Name     Sex   Age  SibSp  \\\n",
       "0                              Braund, Mr. Owen Harris    male  22.0      1   \n",
       "1    Cumings, Mrs. John Bradley (Florence Briggs Th...  female  38.0      1   \n",
       "2                               Heikkinen, Miss. Laina  female  26.0      0   \n",
       "3         Futrelle, Mrs. Jacques Heath (Lily May Peel)  female  35.0      1   \n",
       "4                             Allen, Mr. William Henry    male  35.0      0   \n",
       "..                                                 ...     ...   ...    ...   \n",
       "886                              Montvila, Rev. Juozas    male  27.0      0   \n",
       "887                       Graham, Miss. Margaret Edith  female  19.0      0   \n",
       "888           Johnston, Miss. Catherine Helen \"Carrie\"  female   NaN      1   \n",
       "889                              Behr, Mr. Karl Howell    male  26.0      0   \n",
       "890                                Dooley, Mr. Patrick    male  32.0      0   \n",
       "\n",
       "     Parch            Ticket     Fare Cabin Embarked  \n",
       "0        0         A/5 21171   7.2500   NaN        S  \n",
       "1        0          PC 17599  71.2833   C85        C  \n",
       "2        0  STON/O2. 3101282   7.9250   NaN        S  \n",
       "3        0            113803  53.1000  C123        S  \n",
       "4        0            373450   8.0500   NaN        S  \n",
       "..     ...               ...      ...   ...      ...  \n",
       "886      0            211536  13.0000   NaN        S  \n",
       "887      0            112053  30.0000   B42        S  \n",
       "888      2        W./C. 6607  23.4500   NaN        S  \n",
       "889      0            111369  30.0000  C148        C  \n",
       "890      0            370376   7.7500   NaN        Q  \n",
       "\n",
       "[891 rows x 12 columns]"
      ]
     },
     "execution_count": 4,
     "metadata": {},
     "output_type": "execute_result"
    }
   ],
   "source": [
    "# Carrega os dados\n",
    "titanic = pd.read_csv('dados/titanic-train.csv')\n",
    "titanic"
   ]
  },
  {
   "cell_type": "code",
   "execution_count": 5,
   "metadata": {
    "_kg_hide-input": true,
    "_kg_hide-output": true,
    "execution": {
     "iopub.execute_input": "2020-08-12T12:39:10.252763Z",
     "iopub.status.busy": "2020-08-12T12:39:10.251955Z",
     "iopub.status.idle": "2020-08-12T12:39:43.869018Z",
     "shell.execute_reply": "2020-08-12T12:39:43.868171Z"
    },
    "papermill": {
     "duration": 33.669854,
     "end_time": "2020-08-12T12:39:43.869155",
     "exception": false,
     "start_time": "2020-08-12T12:39:10.199301",
     "status": "completed"
    },
    "tags": []
   },
   "outputs": [
    {
     "data": {
      "text/html": [
       "<div>\n",
       "<style scoped>\n",
       "    .dataframe tbody tr th:only-of-type {\n",
       "        vertical-align: middle;\n",
       "    }\n",
       "\n",
       "    .dataframe tbody tr th {\n",
       "        vertical-align: top;\n",
       "    }\n",
       "\n",
       "    .dataframe thead th {\n",
       "        text-align: right;\n",
       "    }\n",
       "</style>\n",
       "<table border=\"1\" class=\"dataframe\">\n",
       "  <thead>\n",
       "    <tr style=\"text-align: right;\">\n",
       "      <th></th>\n",
       "      <th>Date</th>\n",
       "      <th>Symbol</th>\n",
       "      <th>Series</th>\n",
       "      <th>Prev Close</th>\n",
       "      <th>Open</th>\n",
       "      <th>High</th>\n",
       "      <th>Low</th>\n",
       "      <th>Last</th>\n",
       "      <th>Close</th>\n",
       "      <th>VWAP</th>\n",
       "      <th>Volume</th>\n",
       "      <th>Turnover</th>\n",
       "      <th>Trades</th>\n",
       "      <th>Deliverable Volume</th>\n",
       "      <th>%Deliverble</th>\n",
       "    </tr>\n",
       "  </thead>\n",
       "  <tbody>\n",
       "    <tr>\n",
       "      <th>0</th>\n",
       "      <td>2008-05-26</td>\n",
       "      <td>BAJAJFINSV</td>\n",
       "      <td>EQ</td>\n",
       "      <td>2101.05</td>\n",
       "      <td>600.00</td>\n",
       "      <td>619.00</td>\n",
       "      <td>501.0</td>\n",
       "      <td>505.1</td>\n",
       "      <td>509.10</td>\n",
       "      <td>548.85</td>\n",
       "      <td>3145446</td>\n",
       "      <td>1.726368e+14</td>\n",
       "      <td>NaN</td>\n",
       "      <td>908264</td>\n",
       "      <td>0.2888</td>\n",
       "    </tr>\n",
       "    <tr>\n",
       "      <th>1</th>\n",
       "      <td>2008-05-27</td>\n",
       "      <td>BAJAJFINSV</td>\n",
       "      <td>EQ</td>\n",
       "      <td>509.10</td>\n",
       "      <td>505.00</td>\n",
       "      <td>610.95</td>\n",
       "      <td>491.1</td>\n",
       "      <td>564.0</td>\n",
       "      <td>554.65</td>\n",
       "      <td>572.15</td>\n",
       "      <td>4349144</td>\n",
       "      <td>2.488370e+14</td>\n",
       "      <td>NaN</td>\n",
       "      <td>677627</td>\n",
       "      <td>0.1558</td>\n",
       "    </tr>\n",
       "    <tr>\n",
       "      <th>2</th>\n",
       "      <td>2008-05-28</td>\n",
       "      <td>BAJAJFINSV</td>\n",
       "      <td>EQ</td>\n",
       "      <td>554.65</td>\n",
       "      <td>564.00</td>\n",
       "      <td>665.60</td>\n",
       "      <td>564.0</td>\n",
       "      <td>643.0</td>\n",
       "      <td>640.95</td>\n",
       "      <td>618.37</td>\n",
       "      <td>4588759</td>\n",
       "      <td>2.837530e+14</td>\n",
       "      <td>NaN</td>\n",
       "      <td>774895</td>\n",
       "      <td>0.1689</td>\n",
       "    </tr>\n",
       "    <tr>\n",
       "      <th>3</th>\n",
       "      <td>2008-05-29</td>\n",
       "      <td>BAJAJFINSV</td>\n",
       "      <td>EQ</td>\n",
       "      <td>640.95</td>\n",
       "      <td>656.65</td>\n",
       "      <td>703.00</td>\n",
       "      <td>608.0</td>\n",
       "      <td>634.5</td>\n",
       "      <td>632.40</td>\n",
       "      <td>659.60</td>\n",
       "      <td>4522302</td>\n",
       "      <td>2.982921e+14</td>\n",
       "      <td>NaN</td>\n",
       "      <td>1006161</td>\n",
       "      <td>0.2225</td>\n",
       "    </tr>\n",
       "    <tr>\n",
       "      <th>4</th>\n",
       "      <td>2008-05-30</td>\n",
       "      <td>BAJAJFINSV</td>\n",
       "      <td>EQ</td>\n",
       "      <td>632.40</td>\n",
       "      <td>642.40</td>\n",
       "      <td>668.00</td>\n",
       "      <td>588.3</td>\n",
       "      <td>647.0</td>\n",
       "      <td>644.00</td>\n",
       "      <td>636.41</td>\n",
       "      <td>3057669</td>\n",
       "      <td>1.945929e+14</td>\n",
       "      <td>NaN</td>\n",
       "      <td>462832</td>\n",
       "      <td>0.1514</td>\n",
       "    </tr>\n",
       "  </tbody>\n",
       "</table>\n",
       "</div>"
      ],
      "text/plain": [
       "         Date      Symbol Series  Prev Close    Open    High    Low   Last  \\\n",
       "0  2008-05-26  BAJAJFINSV     EQ     2101.05  600.00  619.00  501.0  505.1   \n",
       "1  2008-05-27  BAJAJFINSV     EQ      509.10  505.00  610.95  491.1  564.0   \n",
       "2  2008-05-28  BAJAJFINSV     EQ      554.65  564.00  665.60  564.0  643.0   \n",
       "3  2008-05-29  BAJAJFINSV     EQ      640.95  656.65  703.00  608.0  634.5   \n",
       "4  2008-05-30  BAJAJFINSV     EQ      632.40  642.40  668.00  588.3  647.0   \n",
       "\n",
       "    Close    VWAP   Volume      Turnover  Trades  Deliverable Volume  \\\n",
       "0  509.10  548.85  3145446  1.726368e+14     NaN              908264   \n",
       "1  554.65  572.15  4349144  2.488370e+14     NaN              677627   \n",
       "2  640.95  618.37  4588759  2.837530e+14     NaN              774895   \n",
       "3  632.40  659.60  4522302  2.982921e+14     NaN             1006161   \n",
       "4  644.00  636.41  3057669  1.945929e+14     NaN              462832   \n",
       "\n",
       "   %Deliverble  \n",
       "0       0.2888  \n",
       "1       0.1558  \n",
       "2       0.1689  \n",
       "3       0.2225  \n",
       "4       0.1514  "
      ]
     },
     "execution_count": 5,
     "metadata": {},
     "output_type": "execute_result"
    }
   ],
   "source": [
    "# Carrega os dados\n",
    "bajaj = pd.read_csv('dados/nifty50-stock-market-data-BAJAJFINSV.csv')\n",
    "bajaj.head()"
   ]
  },
  {
   "cell_type": "markdown",
   "metadata": {},
   "source": [
    "### Sunburst"
   ]
  },
  {
   "cell_type": "markdown",
   "metadata": {},
   "source": [
    "**Objetivo**: Exibir a representação quantitativa de muitas variáveis categóricas por distribuição de tamanho.\n",
    "\n",
    "Descreva a distribuição entre as categorias de idade, sexo e pessoas sobreviventes no que diz respeito à tarifa (fare) no Titanic."
   ]
  },
  {
   "cell_type": "code",
   "execution_count": null,
   "metadata": {},
   "outputs": [],
   "source": [
    "# Prepara os dados\n",
    "titanic = titanic.dropna()\n",
    "titanic['age_category'] = np.where((titanic['Age'] < 19), \"Abaixo de 19 Anos\",\n",
    "                                 np.where((titanic['Age'] > 18) & (titanic['Age'] <= 30), \"19-30\",\n",
    "                                    np.where((titanic['Age'] > 30) & (titanic['Age'] <= 50), \"31-50\",\n",
    "                                                np.where(titanic['Age'] > 50, \"Acima de 50 Anos\", \"NULL\"))))\n",
    "\n",
    "age = titanic['age_category'].value_counts().to_frame().reset_index().rename(columns = {'index':'age_category','age_category':'Count'})\n",
    "\n",
    "titanic['survived_or_not'] = np.where(titanic['Survived']==1,\"Survived\", np.where(titanic['Survived']==0,\"Died\",\"null\")) \n",
    "\n",
    "sun_df = titanic[['Sex','survived_or_not','Embarked','age_category','Cabin','Fare']].groupby(['Sex','survived_or_not','age_category','Embarked','Cabin']).agg('sum').reset_index()"
   ]
  },
  {
   "cell_type": "code",
   "execution_count": null,
   "metadata": {},
   "outputs": [],
   "source": [
    "# Figura\n",
    "fig = px.sunburst(sun_df, path = ['Sex','survived_or_not','age_category'], values = 'Fare')\n",
    "\n",
    "# Layout\n",
    "fig.update_layout(title = \"Distribuição de Passageiros Por Faixa Etária, Sexo e Sobrevivência, Por Tarifa\", \n",
    "                  title_x = 0.5)\n",
    "\n",
    "# Gráfico\n",
    "fig.show()"
   ]
  },
  {
   "cell_type": "markdown",
   "metadata": {},
   "source": [
    "### Sunburst Color\n",
    "\n",
    "Mesmo gráfico anterior com diferente organização de cores por sobrevivente/não sobrevivente."
   ]
  },
  {
   "cell_type": "code",
   "execution_count": null,
   "metadata": {},
   "outputs": [],
   "source": [
    "# Figura\n",
    "fig = px.sunburst(sun_df, path = ['Sex','survived_or_not','age_category'], \n",
    "                  values = 'Fare', \n",
    "                  color = 'survived_or_not',\n",
    "                  color_discrete_map = {'(?)':'black', 'Died':'red', 'Survived':'darkblue'})\n",
    "\n",
    "# Layout\n",
    "fig.update_layout(title = \"Distribuição de Passageiros Por Faixa Etária, Sexo e Sobrevivência, Por Tarifa\",\n",
    "                  title_x = 0.5)\n",
    "\n",
    "# Gráfico\n",
    "fig.show()"
   ]
  },
  {
   "cell_type": "markdown",
   "metadata": {
    "papermill": {
     "duration": 0.06984,
     "end_time": "2020-08-12T12:39:57.047248",
     "exception": false,
     "start_time": "2020-08-12T12:39:56.977408",
     "status": "completed"
    },
    "tags": []
   },
   "source": [
    "### Candlestick"
   ]
  },
  {
   "cell_type": "markdown",
   "metadata": {
    "papermill": {
     "duration": 0.069783,
     "end_time": "2020-08-12T12:39:57.188209",
     "exception": false,
     "start_time": "2020-08-12T12:39:57.118426",
     "status": "completed"
    },
    "tags": []
   },
   "source": [
    "**Objetivo**: Mostrar séries com pontos de alta, baixa, abertura e fechamento (usado para visualizar preços de ações).\n",
    "\n",
    "Como o preço das ações da empresa Bajaj Finserv flutuou ao longo do tempo? Exiba com pontos de alta, baixa, abertura e fechamento."
   ]
  },
  {
   "cell_type": "code",
   "execution_count": null,
   "metadata": {
    "execution": {
     "iopub.execute_input": "2020-08-12T12:39:57.338435Z",
     "iopub.status.busy": "2020-08-12T12:39:57.337652Z",
     "iopub.status.idle": "2020-08-12T12:39:57.397661Z",
     "shell.execute_reply": "2020-08-12T12:39:57.398262Z"
    },
    "papermill": {
     "duration": 0.139227,
     "end_time": "2020-08-12T12:39:57.398450",
     "exception": false,
     "start_time": "2020-08-12T12:39:57.259223",
     "status": "completed"
    },
    "tags": []
   },
   "outputs": [],
   "source": [
    "# Figura\n",
    "fig = go.Figure(data = [go.Candlestick(x = bajaj['Date'],\n",
    "                                       open = bajaj['Open'],\n",
    "                                       high = bajaj['High'],\n",
    "                                       low = bajaj['Low'],\n",
    "                                       close = bajaj['Close'])])\n",
    "\n",
    "# Layout\n",
    "fig.update_layout(title = \"Candlestick Series do Preço de Ações da Empresa Bajaj Finsv\")\n",
    "\n",
    "# Gráfico\n",
    "fig.show()"
   ]
  },
  {
   "cell_type": "markdown",
   "metadata": {
    "papermill": {
     "duration": 0.069793,
     "end_time": "2020-08-12T12:39:57.539760",
     "exception": false,
     "start_time": "2020-08-12T12:39:57.469967",
     "status": "completed"
    },
    "tags": []
   },
   "source": [
    "## Candlestick com Ponto Específico\n",
    "\n",
    "O mesmo gráfico anterior com uma linha vertical indicando uma data específica."
   ]
  },
  {
   "cell_type": "code",
   "execution_count": null,
   "metadata": {
    "execution": {
     "iopub.execute_input": "2020-08-12T12:39:57.855222Z",
     "iopub.status.busy": "2020-08-12T12:39:57.854144Z",
     "iopub.status.idle": "2020-08-12T12:39:57.919770Z",
     "shell.execute_reply": "2020-08-12T12:39:57.920381Z"
    },
    "papermill": {
     "duration": 0.164719,
     "end_time": "2020-08-12T12:39:57.920550",
     "exception": false,
     "start_time": "2020-08-12T12:39:57.755831",
     "status": "completed"
    },
    "tags": []
   },
   "outputs": [],
   "source": [
    "# Figura\n",
    "fig = go.Figure(data = [go.Candlestick(x = bajaj['Date'],\n",
    "                                       open = bajaj['Open'],\n",
    "                                       high = bajaj['High'],\n",
    "                                       low = bajaj['Low'],\n",
    "                                       close = bajaj['Close'])])\n",
    "\n",
    "# Layout com linha específica\n",
    "fig.update_layout(title = \"Candlestick Series do Preço de Ações da Empresa Bajaj Finsv\",\n",
    "                  xaxis_rangeslider_visible = False,  \n",
    "                  shapes = [dict(x0 = '2017-01-07', \n",
    "                                 x1 = '2017-01-07', \n",
    "                                 y0 = 0, \n",
    "                                 y1 = 1, \n",
    "                                 xref = 'x', \n",
    "                                 yref = 'paper',\n",
    "                                 line_width = 2)],\n",
    "                  annotations = [dict(x = '2017-01-07', \n",
    "                                      y = 0.05, \n",
    "                                      xref = 'x', \n",
    "                                      yref = 'paper',\n",
    "                                      showarrow = False, \n",
    "                                      xanchor = 'left', \n",
    "                                      text = 'Fusão com Empresas Aquiridas')])\n",
    "\n",
    "# Gráfico\n",
    "fig.show()"
   ]
  },
  {
   "cell_type": "markdown",
   "metadata": {},
   "source": [
    "# Fim"
   ]
  }
 ],
 "metadata": {
  "kernelspec": {
   "display_name": "Python 3",
   "language": "python",
   "name": "python3"
  },
  "language_info": {
   "codemirror_mode": {
    "name": "ipython",
    "version": 3
   },
   "file_extension": ".py",
   "mimetype": "text/x-python",
   "name": "python",
   "nbconvert_exporter": "python",
   "pygments_lexer": "ipython3",
   "version": "3.8.10"
  },
  "papermill": {
   "duration": 146.651939,
   "end_time": "2020-08-12T12:41:24.296019",
   "environment_variables": {},
   "exception": null,
   "input_path": "__notebook__.ipynb",
   "output_path": "__notebook__.ipynb",
   "parameters": {},
   "start_time": "2020-08-12T12:38:57.644080",
   "version": "2.1.0"
  }
 },
 "nbformat": 4,
 "nbformat_minor": 4
}
