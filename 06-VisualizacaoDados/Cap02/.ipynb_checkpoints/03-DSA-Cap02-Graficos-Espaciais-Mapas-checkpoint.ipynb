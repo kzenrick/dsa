{
 "cells": [
  {
   "cell_type": "markdown",
   "metadata": {
    "papermill": {
     "duration": 0.029268,
     "end_time": "2020-08-15T05:42:33.215422",
     "exception": false,
     "start_time": "2020-08-15T05:42:33.186154",
     "status": "completed"
    },
    "tags": []
   },
   "source": [
    "# <font color='blue'>Data Science Academy</font>\n",
    "# <font color='blue'>Visualização de Dados e Design de Dashboards</font>\n",
    "## <font color='blue'>Capítulo 2 - Métodos de Visualização</font>"
   ]
  },
  {
   "cell_type": "markdown",
   "metadata": {},
   "source": [
    "## Exemplos de Gráficos Espaciais e Mapas"
   ]
  },
  {
   "cell_type": "markdown",
   "metadata": {},
   "source": [
    "![title](imagens/cap02.png)"
   ]
  },
  {
   "cell_type": "markdown",
   "metadata": {
    "papermill": {
     "duration": 0.028236,
     "end_time": "2020-08-15T05:42:33.272312",
     "exception": false,
     "start_time": "2020-08-15T05:42:33.244076",
     "status": "completed"
    },
    "tags": []
   },
   "source": [
    "## Pacotes Python Para Manipulação de Dados e Visualização"
   ]
  },
  {
   "cell_type": "code",
   "execution_count": 1,
   "metadata": {},
   "outputs": [],
   "source": [
    "# Para atualizar um pacote, execute o comando abaixo no terminal ou prompt de comando:\n",
    "# pip install -U nome_pacote\n",
    "\n",
    "# Para instalar a versão exata de um pacote, execute o comando abaixo no terminal ou prompt de comando:\n",
    "# !pip install nome_pacote==versão_desejada\n",
    "\n",
    "# Depois de instalar ou atualizar o pacote, reinicie o jupyter notebook.\n",
    "\n",
    "# Instala o pacote watermark. \n",
    "# Esse pacote é usado para gravar as versões de outros pacotes usados neste jupyter notebook.\n",
    "# !pip install -q -U watermark"
   ]
  },
  {
   "cell_type": "code",
   "execution_count": 2,
   "metadata": {
    "execution": {
     "iopub.execute_input": "2020-08-15T05:42:33.335573Z",
     "iopub.status.busy": "2020-08-15T05:42:33.334762Z",
     "iopub.status.idle": "2020-08-15T05:42:35.988244Z",
     "shell.execute_reply": "2020-08-15T05:42:35.987118Z"
    },
    "papermill": {
     "duration": 2.687594,
     "end_time": "2020-08-15T05:42:35.988384",
     "exception": false,
     "start_time": "2020-08-15T05:42:33.300790",
     "status": "completed"
    },
    "tags": []
   },
   "outputs": [],
   "source": [
    "# Manipulação de Dados\n",
    "import numpy as np\n",
    "import pandas as pd\n",
    "\n",
    "# Plotly\n",
    "import plotly.express as px\n",
    "import plotly.graph_objects as go\n",
    "import plotly.figure_factory as ff\n",
    "from plotly.colors import n_colors\n",
    "from plotly.subplots import make_subplots\n",
    "\n",
    "# Supress warnings\n",
    "import sys\n",
    "import warnings\n",
    "\n",
    "if not sys.warnoptions:\n",
    "    warnings.simplefilter(\"ignore\")"
   ]
  },
  {
   "cell_type": "code",
   "execution_count": 3,
   "metadata": {},
   "outputs": [
    {
     "name": "stdout",
     "output_type": "stream",
     "text": [
      "Author: Data Science Academy\n",
      "\n",
      "numpy : 1.20.3\n",
      "pandas: 1.2.5\n",
      "sys   : 3.8.10 (default, Jun  4 2021, 15:09:15) \n",
      "[GCC 7.5.0]\n",
      "plotly: 5.2.2\n",
      "\n"
     ]
    }
   ],
   "source": [
    "# Versões dos pacotes usados neste jupyter notebook\n",
    "%reload_ext watermark\n",
    "%watermark -a \"Data Science Academy\" --iversions"
   ]
  },
  {
   "cell_type": "markdown",
   "metadata": {
    "papermill": {
     "duration": 0.028051,
     "end_time": "2020-08-15T05:42:36.045004",
     "exception": false,
     "start_time": "2020-08-15T05:42:36.016953",
     "status": "completed"
    },
    "tags": []
   },
   "source": [
    "## Carregando os Dados"
   ]
  },
  {
   "cell_type": "code",
   "execution_count": null,
   "metadata": {
    "_kg_hide-input": true,
    "execution": {
     "iopub.execute_input": "2020-08-15T05:42:36.114224Z",
     "iopub.status.busy": "2020-08-15T05:42:36.113535Z",
     "iopub.status.idle": "2020-08-15T05:42:51.918074Z",
     "shell.execute_reply": "2020-08-15T05:42:51.917351Z"
    },
    "papermill": {
     "duration": 15.844891,
     "end_time": "2020-08-15T05:42:51.918192",
     "exception": false,
     "start_time": "2020-08-15T05:42:36.073301",
     "status": "completed"
    },
    "tags": []
   },
   "outputs": [],
   "source": [
    "# Carrega os dados\n",
    "shoot = pd.read_csv('dados/police-violence-in-the-us-shootings_wash_post.csv')\n",
    "shoot.head()"
   ]
  },
  {
   "cell_type": "code",
   "execution_count": null,
   "metadata": {},
   "outputs": [],
   "source": [
    "# Carrega os dados\n",
    "terror = pd.read_csv('dados/globalterrorismdb_0718dist.csv', encoding = 'ISO-8859-1')\n",
    "terror.head()"
   ]
  },
  {
   "cell_type": "code",
   "execution_count": null,
   "metadata": {},
   "outputs": [],
   "source": [
    "# Carrega os dados\n",
    "brazil = pd.read_csv('dados/brazilian-ecommerce-olist_geolocation_dataset.csv')\n",
    "brazil.head()"
   ]
  },
  {
   "cell_type": "markdown",
   "metadata": {},
   "source": [
    "## Choropleth Maps"
   ]
  },
  {
   "cell_type": "markdown",
   "metadata": {},
   "source": [
    "**Objetivo**: Exibir mapa de calor por contagem.\n",
    "\n",
    "Qual o volume de mortes de pessoas negras em todos os estados dos EUA?"
   ]
  },
  {
   "cell_type": "code",
   "execution_count": null,
   "metadata": {},
   "outputs": [],
   "source": [
    "# Prepara os dados\n",
    "black_state = shoot[shoot['race']=='B']['state'].value_counts().to_frame().reset_index().rename(columns = {'index':'state','state':'count'})"
   ]
  },
  {
   "cell_type": "code",
   "execution_count": null,
   "metadata": {},
   "outputs": [],
   "source": [
    "# Figura\n",
    "fig = go.Figure(go.Choropleth(locations = black_state['state'],\n",
    "                              z = black_state['count'].astype(float),\n",
    "                              locationmode = 'USA-states',\n",
    "                              colorscale = 'Reds',\n",
    "                              autocolorscale = False,\n",
    "                              text = black_state['state'], \n",
    "                              marker_line_color = 'white', \n",
    "                              colorbar_title = \"Milhões USD\",\n",
    "                              showscale = False,))\n",
    "\n",
    "# Layout\n",
    "fig.update_layout(title_text = 'Mortes de Negros Por Estado (2015-2020)',\n",
    "                  title_x = 0.5,\n",
    "                  geo = dict(scope = 'usa',\n",
    "                             projection = go.layout.geo.Projection(type = 'albers usa'),\n",
    "                             showlakes = True, \n",
    "                             lakecolor = 'rgb(255, 255, 255)'))\n",
    "\n",
    "# Template de cores\n",
    "fig.update_layout(template = \"plotly_dark\")\n",
    "\n",
    "# Gráfico\n",
    "fig.show()"
   ]
  },
  {
   "cell_type": "markdown",
   "metadata": {},
   "source": [
    "### Mapbox com Linhas"
   ]
  },
  {
   "cell_type": "markdown",
   "metadata": {},
   "source": [
    "**Objetivo**: Exibir limites e densidade por linhas usando latitude e longitude.\n",
    "\n",
    "Como as fronteiras do comércio eletrônico são estendidas para três estados do Brasil - AC, MA e AP?"
   ]
  },
  {
   "cell_type": "code",
   "execution_count": null,
   "metadata": {},
   "outputs": [],
   "source": [
    "# Prepara os dados\n",
    "states = brazil[(brazil['geolocation_state']=='AC')|(brazil['geolocation_state']=='MA')|(brazil['geolocation_state']=='AP')]"
   ]
  },
  {
   "cell_type": "code",
   "execution_count": null,
   "metadata": {},
   "outputs": [],
   "source": [
    "# Figura\n",
    "fig = px.line_mapbox(states, \n",
    "                     lat = \"geolocation_lat\", \n",
    "                     lon = \"geolocation_lng\", \n",
    "                     color = \"geolocation_state\", \n",
    "                     zoom = 3, \n",
    "                     height = 300)\n",
    "\n",
    "# Layout\n",
    "fig.update_layout(mapbox_style = \"stamen-terrain\", \n",
    "                  mapbox_zoom = 2,\n",
    "                  mapbox_center_lat = -11,\n",
    "                  margin = {\"r\":0,\"t\":0,\"l\":0,\"b\":0})\n",
    "\n",
    "# Gráfico\n",
    "fig.show()"
   ]
  },
  {
   "cell_type": "markdown",
   "metadata": {},
   "source": [
    "### Bubble Maps"
   ]
  },
  {
   "cell_type": "markdown",
   "metadata": {},
   "source": [
    "**Objetivo**: Exibir densidade de valores com bolhas sobre latitude e longitude.\n",
    "\n",
    "Quantas pessoas foram mortas em ataques terroristas em cada estado dos EUA?"
   ]
  },
  {
   "cell_type": "code",
   "execution_count": null,
   "metadata": {},
   "outputs": [],
   "source": [
    "# Prepara os dados\n",
    "us_terror = terror.loc[(terror['country_txt']=='United States') & (terror['provstate']!='Unknown')][['provstate','latitude','longitude','nkill']]\n",
    "map_terror = us_terror.groupby(['provstate']).agg({'nkill':'sum', 'latitude':'mean','longitude':'mean'}).reset_index()"
   ]
  },
  {
   "cell_type": "code",
   "execution_count": null,
   "metadata": {},
   "outputs": [],
   "source": [
    "# Parâmetros para os gráficos\n",
    "limits = [(0,5), (6,15), (16,3000)]\n",
    "colors = [\"royalblue\", \"crimson\", \"lightseagreen\"]\n",
    "cities = []\n",
    "scale = 1"
   ]
  },
  {
   "cell_type": "code",
   "execution_count": null,
   "metadata": {},
   "outputs": [],
   "source": [
    "# Figura\n",
    "fig = go.Figure()\n",
    "\n",
    "# Loop para configuração dos parâmetros associados aos dados\n",
    "for i in range(len(limits)):\n",
    "    lim = limits[i]\n",
    "    df_sub = map_terror[lim[0]:lim[1]]\n",
    "    fig.add_trace(go.Scattergeo(locationmode = 'USA-states',\n",
    "                                lon = df_sub['longitude'],\n",
    "                                lat = df_sub['latitude'],\n",
    "                                marker = dict(size = df_sub['nkill'] / scale,\n",
    "                                              color = colors[i],\n",
    "                                              line_color = 'rgb(40,40,40)',\n",
    "                                              line_width = 0.5,\n",
    "                                              sizemode = 'area'),\n",
    "        name = '{0} - {1}'.format(lim[0],lim[1])))\n",
    "\n",
    "fig.update_layout(title_text = 'Ataques Terroristas nos EUA',\n",
    "                  title_x = 0.5,\n",
    "                  showlegend = True,\n",
    "                  geo = dict(scope = 'usa',\n",
    "                             landcolor = 'rgb(217, 217, 217)'))\n",
    "\n",
    "# Gráfico\n",
    "fig.show()"
   ]
  },
  {
   "cell_type": "markdown",
   "metadata": {},
   "source": [
    "### Mapbox Density"
   ]
  },
  {
   "cell_type": "markdown",
   "metadata": {},
   "source": [
    "**Objetivo**: Exibir densidade de valores com mapa de calor sobre latitude e longitude.\n",
    "\n",
    "Quantas pessoas foram mortas em ataques terroristas em todo o mundo?"
   ]
  },
  {
   "cell_type": "code",
   "execution_count": null,
   "metadata": {},
   "outputs": [],
   "source": [
    "# Prepara os dados\n",
    "all_terror = terror[['city','latitude','longitude','nkill']]\n",
    "map_all_terror  =all_terror.groupby(['latitude','longitude']).agg({'nkill':'sum'}).reset_index()"
   ]
  },
  {
   "cell_type": "code",
   "execution_count": null,
   "metadata": {},
   "outputs": [],
   "source": [
    "# Mapbox\n",
    "fig = px.density_mapbox(map_all_terror, \n",
    "                        lat = 'latitude', \n",
    "                        lon = 'longitude', \n",
    "                        z = 'nkill', \n",
    "                        radius = 10,\n",
    "                        center = dict(lat = 31, lon = 36), zoom = 1, mapbox_style = \"stamen-terrain\")\n",
    "\n",
    "# Layout\n",
    "fig.update_layout(title_text = 'Pessoas Mortas em Ataques Terroristas ao Redor do Mundo',\n",
    "                  title_x = 0.5, \n",
    "                  showlegend = True)\n",
    "\n",
    "# Gráfico\n",
    "fig.show()"
   ]
  },
  {
   "cell_type": "markdown",
   "metadata": {},
   "source": [
    "### Mapbox Layers"
   ]
  },
  {
   "cell_type": "markdown",
   "metadata": {},
   "source": [
    "**Objetivo**: Exibir pontos de latitude e longitude.\n",
    "\n",
    "Qual o total de lojas nos estados RO, AM, AC, AP, RR no Brasil?"
   ]
  },
  {
   "cell_type": "code",
   "execution_count": null,
   "metadata": {},
   "outputs": [],
   "source": [
    "# Prepara os dados\n",
    "brazil_5 = brazil[(brazil['geolocation_state']=='RO')|(brazil['geolocation_state']=='AM')|(brazil['geolocation_state']=='AC')|(brazil['geolocation_state']=='AP')|(brazil['geolocation_state']=='RR')]"
   ]
  },
  {
   "cell_type": "code",
   "execution_count": null,
   "metadata": {},
   "outputs": [],
   "source": [
    "# Figura\n",
    "fig = px.scatter_mapbox(brazil_5, \n",
    "                        lat = \"geolocation_lat\", \n",
    "                        lon = \"geolocation_lng\", \n",
    "                        hover_name = \"geolocation_city\", \n",
    "                        hover_data = [\"geolocation_state\"],\n",
    "                        color_discrete_sequence = [\"fuchsia\"], \n",
    "                        zoom = 2, \n",
    "                        center = dict(lat = -18, lon = -52), \n",
    "                        height = 300)\n",
    "\n",
    "# Layout\n",
    "fig.update_layout(mapbox_style = \"open-street-map\")\n",
    "fig.update_layout(margin = {\"r\":0,\"t\":0,\"l\":0,\"b\":0})\n",
    "\n",
    "# Gráfico\n",
    "fig.show()"
   ]
  },
  {
   "cell_type": "markdown",
   "metadata": {},
   "source": [
    "# Fim"
   ]
  }
 ],
 "metadata": {
  "kernelspec": {
   "display_name": "Python 3",
   "language": "python",
   "name": "python3"
  },
  "language_info": {
   "codemirror_mode": {
    "name": "ipython",
    "version": 3
   },
   "file_extension": ".py",
   "mimetype": "text/x-python",
   "name": "python",
   "nbconvert_exporter": "python",
   "pygments_lexer": "ipython3",
   "version": "3.8.10"
  },
  "papermill": {
   "duration": 53.693134,
   "end_time": "2020-08-15T05:43:15.958021",
   "environment_variables": {},
   "exception": null,
   "input_path": "__notebook__.ipynb",
   "output_path": "__notebook__.ipynb",
   "parameters": {},
   "start_time": "2020-08-15T05:42:22.264887",
   "version": "2.1.0"
  }
 },
 "nbformat": 4,
 "nbformat_minor": 4
}
