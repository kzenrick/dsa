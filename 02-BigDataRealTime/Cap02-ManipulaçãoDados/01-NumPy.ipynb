{
 "cells": [
  {
   "cell_type": "markdown",
   "id": "1aed817b",
   "metadata": {},
   "source": [
    "# Computação com Numpy"
   ]
  },
  {
   "cell_type": "code",
   "execution_count": 1,
   "id": "03bc3ebf",
   "metadata": {},
   "outputs": [],
   "source": [
    "# importando o módulo numpy\n",
    "import numpy as np"
   ]
  },
  {
   "cell_type": "markdown",
   "id": "3cf34cd3",
   "metadata": {},
   "source": [
    "# Criando Estruturas de Dados com NumPy"
   ]
  },
  {
   "cell_type": "code",
   "execution_count": 2,
   "id": "7b579209",
   "metadata": {},
   "outputs": [],
   "source": [
    "# Criando array unidimensional\n",
    "array1 = np.array([10,20,30,40])"
   ]
  },
  {
   "cell_type": "code",
   "execution_count": 3,
   "id": "8f7da471",
   "metadata": {},
   "outputs": [],
   "source": [
    "# Criando array bi-dimensional\n",
    "array2 = np.array([[100,83,15], [42,78,0]])"
   ]
  },
  {
   "cell_type": "code",
   "execution_count": 4,
   "id": "65d40f04",
   "metadata": {},
   "outputs": [
    {
     "data": {
      "text/plain": [
       "array([10, 20, 30, 40])"
      ]
     },
     "execution_count": 4,
     "metadata": {},
     "output_type": "execute_result"
    }
   ],
   "source": [
    "array1"
   ]
  },
  {
   "cell_type": "code",
   "execution_count": 5,
   "id": "b3143221",
   "metadata": {},
   "outputs": [
    {
     "data": {
      "text/plain": [
       "array([[100,  83,  15],\n",
       "       [ 42,  78,   0]])"
      ]
     },
     "execution_count": 5,
     "metadata": {},
     "output_type": "execute_result"
    }
   ],
   "source": [
    "array2"
   ]
  },
  {
   "cell_type": "code",
   "execution_count": 6,
   "id": "2c5fa66c",
   "metadata": {},
   "outputs": [
    {
     "data": {
      "text/plain": [
       "(4,)"
      ]
     },
     "execution_count": 6,
     "metadata": {},
     "output_type": "execute_result"
    }
   ],
   "source": [
    "# Verificando o formato (shape) do array\n",
    "array1.shape"
   ]
  },
  {
   "cell_type": "code",
   "execution_count": 7,
   "id": "d9ba0e61",
   "metadata": {},
   "outputs": [
    {
     "data": {
      "text/plain": [
       "(2, 3)"
      ]
     },
     "execution_count": 7,
     "metadata": {},
     "output_type": "execute_result"
    }
   ],
   "source": [
    "# Verificando o formato (shape) do array\n",
    "array2.shape"
   ]
  },
  {
   "cell_type": "code",
   "execution_count": 8,
   "id": "02749b07",
   "metadata": {},
   "outputs": [
    {
     "data": {
      "text/plain": [
       "2"
      ]
     },
     "execution_count": 8,
     "metadata": {},
     "output_type": "execute_result"
    }
   ],
   "source": [
    "# Verificando o número de dimensões\n",
    "array2.ndim"
   ]
  },
  {
   "cell_type": "markdown",
   "id": "df7b16b0",
   "metadata": {},
   "source": [
    "# Em Python TUDO é objeto, com métodos e atributos\n",
    "\n",
    "### Método - realiza ação no objeto\n",
    "\n",
    "### Atributo - característica do objeto"
   ]
  },
  {
   "cell_type": "code",
   "execution_count": 9,
   "id": "61b58b09",
   "metadata": {},
   "outputs": [
    {
     "data": {
      "text/plain": [
       "100"
      ]
     },
     "execution_count": 9,
     "metadata": {},
     "output_type": "execute_result"
    }
   ],
   "source": [
    "# Método\n",
    "array2.max()"
   ]
  },
  {
   "cell_type": "code",
   "execution_count": 10,
   "id": "1a9a3448",
   "metadata": {},
   "outputs": [
    {
     "data": {
      "text/plain": [
       "2"
      ]
     },
     "execution_count": 10,
     "metadata": {},
     "output_type": "execute_result"
    }
   ],
   "source": [
    "# Atributo\n",
    "array2.ndim"
   ]
  },
  {
   "cell_type": "markdown",
   "id": "a128aa57",
   "metadata": {},
   "source": [
    "# Criando estruturas de dados arange"
   ]
  },
  {
   "cell_type": "code",
   "execution_count": 11,
   "id": "ce55ecba",
   "metadata": {},
   "outputs": [],
   "source": [
    "array3 = np.arange(15)"
   ]
  },
  {
   "cell_type": "code",
   "execution_count": 12,
   "id": "fac6352d",
   "metadata": {},
   "outputs": [
    {
     "data": {
      "text/plain": [
       "array([ 0,  1,  2,  3,  4,  5,  6,  7,  8,  9, 10, 11, 12, 13, 14])"
      ]
     },
     "execution_count": 12,
     "metadata": {},
     "output_type": "execute_result"
    }
   ],
   "source": [
    "array3"
   ]
  },
  {
   "cell_type": "code",
   "execution_count": 13,
   "id": "2394833d",
   "metadata": {},
   "outputs": [],
   "source": [
    "# Usando start/end exclusive\n",
    "array4 = np.arange(0, 15, 5)"
   ]
  },
  {
   "cell_type": "code",
   "execution_count": 14,
   "id": "1dc523b4",
   "metadata": {},
   "outputs": [
    {
     "data": {
      "text/plain": [
       "array([ 0,  5, 10])"
      ]
     },
     "execution_count": 14,
     "metadata": {},
     "output_type": "execute_result"
    }
   ],
   "source": [
    "array4"
   ]
  },
  {
   "cell_type": "markdown",
   "id": "986b3649",
   "metadata": {},
   "source": [
    "# Criando estruturas de dados com linspace"
   ]
  },
  {
   "cell_type": "code",
   "execution_count": 15,
   "id": "bde07b75",
   "metadata": {},
   "outputs": [
    {
     "data": {
      "text/plain": [
       "array([0., 1., 2., 3.])"
      ]
     },
     "execution_count": 15,
     "metadata": {},
     "output_type": "execute_result"
    }
   ],
   "source": [
    "# Argumentos: (start, end, number of elements)\n",
    "array5 = np.linspace(0, 3, 4); array5"
   ]
  },
  {
   "cell_type": "markdown",
   "id": "a9a5312a",
   "metadata": {},
   "source": [
    "# Criando estruturas de dados com outras funções\n",
    "\n",
    "### numpy.zeros\n",
    "    "
   ]
  },
  {
   "cell_type": "code",
   "execution_count": 16,
   "id": "5e249218",
   "metadata": {},
   "outputs": [
    {
     "data": {
      "text/plain": [
       "array([[0., 0., 0., 0., 0., 0., 0., 0.],\n",
       "       [0., 0., 0., 0., 0., 0., 0., 0.],\n",
       "       [0., 0., 0., 0., 0., 0., 0., 0.],\n",
       "       [0., 0., 0., 0., 0., 0., 0., 0.],\n",
       "       [0., 0., 0., 0., 0., 0., 0., 0.],\n",
       "       [0., 0., 0., 0., 0., 0., 0., 0.],\n",
       "       [0., 0., 0., 0., 0., 0., 0., 0.],\n",
       "       [0., 0., 0., 0., 0., 0., 0., 0.],\n",
       "       [0., 0., 0., 0., 0., 0., 0., 0.],\n",
       "       [0., 0., 0., 0., 0., 0., 0., 0.]])"
      ]
     },
     "execution_count": 16,
     "metadata": {},
     "output_type": "execute_result"
    }
   ],
   "source": [
    "# Array 10x8 de zeros\n",
    "array6 = np.zeros((10,8)); array6"
   ]
  },
  {
   "cell_type": "markdown",
   "id": "616e3ae7",
   "metadata": {},
   "source": [
    "### numpy.ones"
   ]
  },
  {
   "cell_type": "code",
   "execution_count": 17,
   "id": "85a0f075",
   "metadata": {},
   "outputs": [
    {
     "data": {
      "text/plain": [
       "array([[[1., 1.],\n",
       "        [1., 1.],\n",
       "        [1., 1.]],\n",
       "\n",
       "       [[1., 1.],\n",
       "        [1., 1.],\n",
       "        [1., 1.]]])"
      ]
     },
     "execution_count": 17,
     "metadata": {},
     "output_type": "execute_result"
    }
   ],
   "source": [
    "# Array 2x3x2 de 1's\n",
    "array7 = np.ones((2,3,2));array7"
   ]
  },
  {
   "cell_type": "markdown",
   "id": "a1d95ec8",
   "metadata": {},
   "source": [
    "### numpy.eye"
   ]
  },
  {
   "cell_type": "code",
   "execution_count": 18,
   "id": "466d27f0",
   "metadata": {},
   "outputs": [
    {
     "data": {
      "text/plain": [
       "array([[1., 0., 0.],\n",
       "       [0., 1., 0.],\n",
       "       [0., 0., 1.]])"
      ]
     },
     "execution_count": 18,
     "metadata": {},
     "output_type": "execute_result"
    }
   ],
   "source": [
    "# Produz uma matriz identidade\n",
    "array8 = np.eye(3); array8"
   ]
  },
  {
   "cell_type": "markdown",
   "id": "410fd6c6",
   "metadata": {},
   "source": [
    "### numpy.diag"
   ]
  },
  {
   "cell_type": "code",
   "execution_count": 19,
   "id": "02a9b6b6",
   "metadata": {},
   "outputs": [
    {
     "data": {
      "text/plain": [
       "array([[2, 0, 0, 0],\n",
       "       [0, 1, 0, 0],\n",
       "       [0, 0, 4, 0],\n",
       "       [0, 0, 0, 6]])"
      ]
     },
     "execution_count": 19,
     "metadata": {},
     "output_type": "execute_result"
    }
   ],
   "source": [
    "# Matriz Diagonal\n",
    "array9 = np.diag((2,1,4,6)); array9"
   ]
  },
  {
   "cell_type": "markdown",
   "id": "770d1492",
   "metadata": {},
   "source": [
    "### numpy.random.rand"
   ]
  },
  {
   "cell_type": "code",
   "execution_count": 20,
   "id": "313f3bfc",
   "metadata": {},
   "outputs": [
    {
     "data": {
      "text/plain": [
       "array([0.77132064, 0.02075195, 0.63364823, 0.74880388, 0.49850701])"
      ]
     },
     "execution_count": 20,
     "metadata": {},
     "output_type": "execute_result"
    }
   ],
   "source": [
    "# A função rand(n) produz uma sequencia de números uniformemente distribuídos com range de 0 a n\n",
    "np.random.seed(10) # set seed\n",
    "array10 = np.random.rand(5); array10"
   ]
  },
  {
   "cell_type": "code",
   "execution_count": 21,
   "id": "c93a9739",
   "metadata": {},
   "outputs": [
    {
     "data": {
      "text/plain": [
       "array([-0.66437971, -0.60555494, -0.65099088,  0.51256776,  0.26238882])"
      ]
     },
     "execution_count": 21,
     "metadata": {},
     "output_type": "execute_result"
    }
   ],
   "source": [
    "# A função randn(n) produz uma sequencia de números com distribuição normal (Gaussian)\n",
    "array11 = np.random.randn(5); array11"
   ]
  },
  {
   "cell_type": "markdown",
   "id": "21464b37",
   "metadata": {},
   "source": [
    "### numpy.empty"
   ]
  },
  {
   "cell_type": "code",
   "execution_count": 22,
   "id": "e59dbfee",
   "metadata": {},
   "outputs": [
    {
     "data": {
      "text/plain": [
       "array([[4.64776245e-310, 0.00000000e+000],\n",
       "       [0.00000000e+000, 0.00000000e+000],\n",
       "       [0.00000000e+000, 0.00000000e+000]])"
      ]
     },
     "execution_count": 22,
     "metadata": {},
     "output_type": "execute_result"
    }
   ],
   "source": [
    "array12  = np.empty((3,2)); array12"
   ]
  },
  {
   "cell_type": "markdown",
   "id": "f8f02487",
   "metadata": {},
   "source": [
    "### numpy.tile"
   ]
  },
  {
   "cell_type": "code",
   "execution_count": 23,
   "id": "65641e79",
   "metadata": {},
   "outputs": [
    {
     "data": {
      "text/plain": [
       "array([[9, 4],\n",
       "       [3, 7]])"
      ]
     },
     "execution_count": 23,
     "metadata": {},
     "output_type": "execute_result"
    }
   ],
   "source": [
    "np.array([[9,4], [3,7]])"
   ]
  },
  {
   "cell_type": "code",
   "execution_count": 24,
   "id": "e7739f7b",
   "metadata": {},
   "outputs": [
    {
     "data": {
      "text/plain": [
       "array([[9, 4, 9, 4, 9, 4, 9, 4],\n",
       "       [7, 7, 7, 7, 7, 7, 7, 7]])"
      ]
     },
     "execution_count": 24,
     "metadata": {},
     "output_type": "execute_result"
    }
   ],
   "source": [
    "np.tile(np.array([[9,4], [7,7]]), 4)"
   ]
  },
  {
   "cell_type": "code",
   "execution_count": 25,
   "id": "903d7cab",
   "metadata": {},
   "outputs": [
    {
     "data": {
      "text/plain": [
       "array([[9, 4, 9, 4],\n",
       "       [3, 7, 3, 7],\n",
       "       [9, 4, 9, 4],\n",
       "       [3, 7, 3, 7]])"
      ]
     },
     "execution_count": 25,
     "metadata": {},
     "output_type": "execute_result"
    }
   ],
   "source": [
    "np.tile(np.array([[9,4], [3,7]]), (2,2))"
   ]
  },
  {
   "cell_type": "markdown",
   "id": "e57485b2",
   "metadata": {},
   "source": [
    "### Tipos de Dados NumPy"
   ]
  },
  {
   "cell_type": "code",
   "execution_count": 26,
   "id": "6a1a1052",
   "metadata": {},
   "outputs": [],
   "source": [
    "array13 = np.array([8, -3, 5, 9], dtype = 'float')"
   ]
  },
  {
   "cell_type": "code",
   "execution_count": 27,
   "id": "d16bee6e",
   "metadata": {},
   "outputs": [
    {
     "data": {
      "text/plain": [
       "array([ 8., -3.,  5.,  9.])"
      ]
     },
     "execution_count": 27,
     "metadata": {},
     "output_type": "execute_result"
    }
   ],
   "source": [
    "array13"
   ]
  },
  {
   "cell_type": "code",
   "execution_count": 28,
   "id": "22a90642",
   "metadata": {},
   "outputs": [
    {
     "data": {
      "text/plain": [
       "dtype('float64')"
      ]
     },
     "execution_count": 28,
     "metadata": {},
     "output_type": "execute_result"
    }
   ],
   "source": [
    "array13.dtype"
   ]
  },
  {
   "cell_type": "code",
   "execution_count": 29,
   "id": "046ac88a",
   "metadata": {},
   "outputs": [],
   "source": [
    "array14 = np.array([2, 4, 6, 8])"
   ]
  },
  {
   "cell_type": "code",
   "execution_count": 30,
   "id": "eb85436b",
   "metadata": {},
   "outputs": [
    {
     "data": {
      "text/plain": [
       "array([2, 4, 6, 8])"
      ]
     },
     "execution_count": 30,
     "metadata": {},
     "output_type": "execute_result"
    }
   ],
   "source": [
    "array14"
   ]
  },
  {
   "cell_type": "code",
   "execution_count": 31,
   "id": "b7323be3",
   "metadata": {},
   "outputs": [
    {
     "data": {
      "text/plain": [
       "dtype('int64')"
      ]
     },
     "execution_count": 31,
     "metadata": {},
     "output_type": "execute_result"
    }
   ],
   "source": [
    "array14.dtype"
   ]
  },
  {
   "cell_type": "code",
   "execution_count": 32,
   "id": "81e71413",
   "metadata": {},
   "outputs": [],
   "source": [
    "array15 = np.array([2.0, 4, 6 ,8])"
   ]
  },
  {
   "cell_type": "code",
   "execution_count": 33,
   "id": "eff00fe3",
   "metadata": {},
   "outputs": [
    {
     "data": {
      "text/plain": [
       "dtype('float64')"
      ]
     },
     "execution_count": 33,
     "metadata": {},
     "output_type": "execute_result"
    }
   ],
   "source": [
    "array15.dtype"
   ]
  },
  {
   "cell_type": "code",
   "execution_count": 34,
   "id": "2147b8e6",
   "metadata": {},
   "outputs": [],
   "source": [
    "array16 = np.array(['Análise', 'de', 'Dado', 'com', 'python'])"
   ]
  },
  {
   "cell_type": "code",
   "execution_count": 35,
   "id": "3d46d2c9",
   "metadata": {},
   "outputs": [
    {
     "data": {
      "text/plain": [
       "dtype('<U7')"
      ]
     },
     "execution_count": 35,
     "metadata": {},
     "output_type": "execute_result"
    }
   ],
   "source": [
    "array16.dtype"
   ]
  },
  {
   "cell_type": "code",
   "execution_count": 36,
   "id": "2774d411",
   "metadata": {},
   "outputs": [],
   "source": [
    "array17 = np.array([True, False, True])"
   ]
  },
  {
   "cell_type": "code",
   "execution_count": 37,
   "id": "16cba58a",
   "metadata": {},
   "outputs": [
    {
     "data": {
      "text/plain": [
       "dtype('bool')"
      ]
     },
     "execution_count": 37,
     "metadata": {},
     "output_type": "execute_result"
    }
   ],
   "source": [
    "array17.dtype"
   ]
  },
  {
   "cell_type": "code",
   "execution_count": 38,
   "id": "925d39f2",
   "metadata": {},
   "outputs": [],
   "source": [
    "array18 = np.array([7, -3, 5.24])"
   ]
  },
  {
   "cell_type": "code",
   "execution_count": 39,
   "id": "4e2dd540",
   "metadata": {},
   "outputs": [
    {
     "data": {
      "text/plain": [
       "dtype('float64')"
      ]
     },
     "execution_count": 39,
     "metadata": {},
     "output_type": "execute_result"
    }
   ],
   "source": [
    "array18.dtype"
   ]
  },
  {
   "cell_type": "code",
   "execution_count": 40,
   "id": "8726f4cd",
   "metadata": {},
   "outputs": [
    {
     "data": {
      "text/plain": [
       "array([ 7, -3,  5])"
      ]
     },
     "execution_count": 40,
     "metadata": {},
     "output_type": "execute_result"
    }
   ],
   "source": [
    "array18.astype('int')"
   ]
  },
  {
   "cell_type": "markdown",
   "id": "53c93526",
   "metadata": {},
   "source": [
    "# Operações com Array"
   ]
  },
  {
   "cell_type": "code",
   "execution_count": 41,
   "id": "6f64373a",
   "metadata": {},
   "outputs": [],
   "source": [
    "# Array começando por 0, com 30 elementos e multiplicado por 5\n",
    "array19 = np.arange(0, 30) * 5"
   ]
  },
  {
   "cell_type": "code",
   "execution_count": 42,
   "id": "e763ba56",
   "metadata": {},
   "outputs": [
    {
     "data": {
      "text/plain": [
       "array([  0,   5,  10,  15,  20,  25,  30,  35,  40,  45,  50,  55,  60,\n",
       "        65,  70,  75,  80,  85,  90,  95, 100, 105, 110, 115, 120, 125,\n",
       "       130, 135, 140, 145])"
      ]
     },
     "execution_count": 42,
     "metadata": {},
     "output_type": "execute_result"
    }
   ],
   "source": [
    "array19"
   ]
  },
  {
   "cell_type": "code",
   "execution_count": 43,
   "id": "ceb935eb",
   "metadata": {},
   "outputs": [],
   "source": [
    "array19 = np.arange(0, 30)"
   ]
  },
  {
   "cell_type": "code",
   "execution_count": 44,
   "id": "e7680dfe",
   "metadata": {},
   "outputs": [
    {
     "data": {
      "text/plain": [
       "array([ 0,  1,  2,  3,  4,  5,  6,  7,  8,  9, 10, 11, 12, 13, 14, 15, 16,\n",
       "       17, 18, 19, 20, 21, 22, 23, 24, 25, 26, 27, 28, 29])"
      ]
     },
     "execution_count": 44,
     "metadata": {},
     "output_type": "execute_result"
    }
   ],
   "source": [
    "array19"
   ]
  },
  {
   "cell_type": "code",
   "execution_count": 45,
   "id": "9c22720b",
   "metadata": {},
   "outputs": [],
   "source": [
    "# Elevando um array a potência\n",
    "array20 = np.arange(5) ** 4"
   ]
  },
  {
   "cell_type": "code",
   "execution_count": 46,
   "id": "c8725216",
   "metadata": {},
   "outputs": [
    {
     "data": {
      "text/plain": [
       "array([  0,   1,  16,  81, 256])"
      ]
     },
     "execution_count": 46,
     "metadata": {},
     "output_type": "execute_result"
    }
   ],
   "source": [
    "array20"
   ]
  },
  {
   "cell_type": "code",
   "execution_count": 47,
   "id": "f7c96cd5",
   "metadata": {},
   "outputs": [],
   "source": [
    "# Somando um número a cada elemento do array\n",
    "array21 = np.arange(0,30) + 1"
   ]
  },
  {
   "cell_type": "code",
   "execution_count": 49,
   "id": "c43b8419",
   "metadata": {},
   "outputs": [
    {
     "data": {
      "text/plain": [
       "array([ 1,  2,  3,  4,  5,  6,  7,  8,  9, 10, 11, 12, 13, 14, 15, 16, 17,\n",
       "       18, 19, 20, 21, 22, 23, 24, 25, 26, 27, 28, 29, 30])"
      ]
     },
     "execution_count": 49,
     "metadata": {},
     "output_type": "execute_result"
    }
   ],
   "source": [
    "array21"
   ]
  },
  {
   "cell_type": "code",
   "execution_count": 50,
   "id": "43105a13",
   "metadata": {},
   "outputs": [],
   "source": [
    "array22 = np.arange(0, 30, 3) + 3\n",
    "array23 = np.arange(1,11)"
   ]
  },
  {
   "cell_type": "code",
   "execution_count": 51,
   "id": "bc976584",
   "metadata": {},
   "outputs": [
    {
     "data": {
      "text/plain": [
       "array([ 3,  6,  9, 12, 15, 18, 21, 24, 27, 30])"
      ]
     },
     "execution_count": 51,
     "metadata": {},
     "output_type": "execute_result"
    }
   ],
   "source": [
    "array22"
   ]
  },
  {
   "cell_type": "code",
   "execution_count": 52,
   "id": "8a12bdb2",
   "metadata": {},
   "outputs": [
    {
     "data": {
      "text/plain": [
       "array([ 1,  2,  3,  4,  5,  6,  7,  8,  9, 10])"
      ]
     },
     "execution_count": 52,
     "metadata": {},
     "output_type": "execute_result"
    }
   ],
   "source": [
    "array23"
   ]
  },
  {
   "cell_type": "code",
   "execution_count": 53,
   "id": "1253fb04",
   "metadata": {},
   "outputs": [
    {
     "data": {
      "text/plain": [
       "array([ 2,  4,  6,  8, 10, 12, 14, 16, 18, 20])"
      ]
     },
     "execution_count": 53,
     "metadata": {},
     "output_type": "execute_result"
    }
   ],
   "source": [
    "# Subtração\n",
    "array22 - array23"
   ]
  },
  {
   "cell_type": "code",
   "execution_count": 54,
   "id": "d4896084",
   "metadata": {},
   "outputs": [
    {
     "data": {
      "text/plain": [
       "array([ 4,  8, 12, 16, 20, 24, 28, 32, 36, 40])"
      ]
     },
     "execution_count": 54,
     "metadata": {},
     "output_type": "execute_result"
    }
   ],
   "source": [
    "# Soma\n",
    "array22 + array23"
   ]
  },
  {
   "cell_type": "code",
   "execution_count": 55,
   "id": "943aa27d",
   "metadata": {},
   "outputs": [
    {
     "data": {
      "text/plain": [
       "array([3., 3., 3., 3., 3., 3., 3., 3., 3., 3.])"
      ]
     },
     "execution_count": 55,
     "metadata": {},
     "output_type": "execute_result"
    }
   ],
   "source": [
    "# Divisão\n",
    "array22 / array23"
   ]
  },
  {
   "cell_type": "code",
   "execution_count": 56,
   "id": "b3730f27",
   "metadata": {},
   "outputs": [
    {
     "data": {
      "text/plain": [
       "array([  3,  12,  27,  48,  75, 108, 147, 192, 243, 300])"
      ]
     },
     "execution_count": 56,
     "metadata": {},
     "output_type": "execute_result"
    }
   ],
   "source": [
    "# Multiplicação\n",
    "array22 * array23"
   ]
  },
  {
   "cell_type": "code",
   "execution_count": 57,
   "id": "3abb1c21",
   "metadata": {},
   "outputs": [
    {
     "data": {
      "text/plain": [
       "array([ True,  True,  True,  True,  True,  True,  True,  True,  True,\n",
       "        True])"
      ]
     },
     "execution_count": 57,
     "metadata": {},
     "output_type": "execute_result"
    }
   ],
   "source": [
    "# Podemos ainda comparar arrays\n",
    "array22 > array23"
   ]
  },
  {
   "cell_type": "code",
   "execution_count": 58,
   "id": "ba900331",
   "metadata": {},
   "outputs": [
    {
     "data": {
      "text/plain": [
       "array([False, False,  True, False])"
      ]
     },
     "execution_count": 58,
     "metadata": {},
     "output_type": "execute_result"
    }
   ],
   "source": [
    "arr1 = np.array([True, False, True, False])\n",
    "arr2 = np.array([False, False, True, False])\n",
    "np.logical_and(arr1, arr2)"
   ]
  },
  {
   "cell_type": "code",
   "execution_count": 59,
   "id": "7203f511",
   "metadata": {},
   "outputs": [
    {
     "data": {
      "text/plain": [
       "array([ True, False,  True, False])"
      ]
     },
     "execution_count": 59,
     "metadata": {},
     "output_type": "execute_result"
    }
   ],
   "source": [
    "np.logical_or(arr1, arr2)"
   ]
  },
  {
   "cell_type": "markdown",
   "id": "8c1734e9",
   "metadata": {},
   "source": [
    "### Podemos criar array com Python, sem usar o módulo NumPy. Porém o NumPy é muito mais rápido"
   ]
  },
  {
   "cell_type": "code",
   "execution_count": 61,
   "id": "b599c09b",
   "metadata": {},
   "outputs": [
    {
     "name": "stdout",
     "output_type": "stream",
     "text": [
      "3.09 µs ± 52.1 ns per loop (mean ± std. dev. of 7 runs, 100000 loops each)\n"
     ]
    }
   ],
   "source": [
    "array_numpy = np.arange(1000)\n",
    "%timeit array_numpy ** 4"
   ]
  },
  {
   "cell_type": "code",
   "execution_count": 62,
   "id": "f01e79c7",
   "metadata": {},
   "outputs": [
    {
     "name": "stdout",
     "output_type": "stream",
     "text": [
      "410 µs ± 2.55 µs per loop (mean ± std. dev. of 7 runs, 1000 loops each)\n"
     ]
    }
   ],
   "source": [
    "array_python = range(1000)\n",
    "%timeit [array_python[i] ** 4 for i in array_python]"
   ]
  },
  {
   "cell_type": "markdown",
   "id": "c9a73857",
   "metadata": {},
   "source": [
    "# FIM"
   ]
  },
  {
   "cell_type": "code",
   "execution_count": null,
   "id": "e6fe535a",
   "metadata": {},
   "outputs": [],
   "source": []
  }
 ],
 "metadata": {
  "kernelspec": {
   "display_name": "Python 3",
   "language": "python",
   "name": "python3"
  },
  "language_info": {
   "codemirror_mode": {
    "name": "ipython",
    "version": 3
   },
   "file_extension": ".py",
   "mimetype": "text/x-python",
   "name": "python",
   "nbconvert_exporter": "python",
   "pygments_lexer": "ipython3",
   "version": "3.8.10"
  }
 },
 "nbformat": 4,
 "nbformat_minor": 5
}
