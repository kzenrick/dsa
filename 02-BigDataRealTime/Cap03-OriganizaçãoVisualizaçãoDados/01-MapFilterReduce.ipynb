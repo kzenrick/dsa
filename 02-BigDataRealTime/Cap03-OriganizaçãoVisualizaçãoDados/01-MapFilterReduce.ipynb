{
 "cells": [
  {
   "cell_type": "markdown",
   "id": "5c46c699",
   "metadata": {},
   "source": [
    "# Map\n",
    "\n",
    "A função map() faz basicamente o mapeamento de um valor para outro, quase como um objeto do tipo dicionário em Python. Este é um conceito de programação funcional, mas que pode ser útil em certas circunstâncias dentro do processo de análise de dados. Este é conceito fundamental de programação MapReduce, popular em tecnologias de processamento de Big Data, como Hadoop e Spark."
   ]
  },
  {
   "cell_type": "code",
   "execution_count": 1,
   "id": "b15ee4aa",
   "metadata": {},
   "outputs": [],
   "source": [
    "# Definindo um array com a função bulti-in range()\n",
    "array1 = range(0, 15)"
   ]
  },
  {
   "cell_type": "code",
   "execution_count": 2,
   "id": "4e125f0e",
   "metadata": {},
   "outputs": [
    {
     "name": "stdout",
     "output_type": "stream",
     "text": [
      "range(0, 15)\n"
     ]
    }
   ],
   "source": [
    "print(array1)"
   ]
  },
  {
   "cell_type": "code",
   "execution_count": 3,
   "id": "8a673116",
   "metadata": {},
   "outputs": [
    {
     "data": {
      "text/plain": [
       "range"
      ]
     },
     "execution_count": 3,
     "metadata": {},
     "output_type": "execute_result"
    }
   ],
   "source": [
    "type(array1)"
   ]
  },
  {
   "cell_type": "code",
   "execution_count": 4,
   "id": "2f17c1b3",
   "metadata": {},
   "outputs": [],
   "source": [
    "# Criando uma função para calcular o cubo de um número\n",
    "def calc_cubo(num):\n",
    "    return num ** 3"
   ]
  },
  {
   "cell_type": "code",
   "execution_count": 5,
   "id": "1b567077",
   "metadata": {},
   "outputs": [
    {
     "name": "stdout",
     "output_type": "stream",
     "text": [
      "0\n",
      "1\n",
      "8\n",
      "27\n",
      "64\n",
      "125\n",
      "216\n",
      "343\n",
      "512\n",
      "729\n",
      "1000\n",
      "1331\n",
      "1728\n",
      "2197\n",
      "2744\n"
     ]
    }
   ],
   "source": [
    "for elemento in array1:\n",
    "    print(calc_cubo(elemento))"
   ]
  },
  {
   "cell_type": "code",
   "execution_count": 6,
   "id": "9fdb82e7",
   "metadata": {},
   "outputs": [],
   "source": [
    "# Com a função map() aplicamos uma função a um conjunto de elementos\n",
    "lista_map_func = map(calc_cubo, array1)"
   ]
  },
  {
   "cell_type": "code",
   "execution_count": 7,
   "id": "be8edbaf",
   "metadata": {},
   "outputs": [
    {
     "name": "stdout",
     "output_type": "stream",
     "text": [
      "<map object at 0x7f04117e29a0>\n"
     ]
    }
   ],
   "source": [
    "# A função map retorna um objeto interable\n",
    "print(lista_map_func)"
   ]
  },
  {
   "cell_type": "code",
   "execution_count": 8,
   "id": "d3d65c46",
   "metadata": {},
   "outputs": [
    {
     "name": "stdout",
     "output_type": "stream",
     "text": [
      "[0, 1, 8, 27, 64, 125, 216, 343, 512, 729, 1000, 1331, 1728, 2197, 2744]\n"
     ]
    }
   ],
   "source": [
    "print(list(lista_map_func))"
   ]
  },
  {
   "cell_type": "code",
   "execution_count": 9,
   "id": "159d4e00",
   "metadata": {},
   "outputs": [],
   "source": [
    "# Com a função map() aplicamos uma função a um conjunto de elementos\n",
    "lista_map_func_2 = map(float, range(20))"
   ]
  },
  {
   "cell_type": "code",
   "execution_count": 10,
   "id": "818d8af7",
   "metadata": {},
   "outputs": [
    {
     "data": {
      "text/plain": [
       "<map at 0x7f04117e2a30>"
      ]
     },
     "execution_count": 10,
     "metadata": {},
     "output_type": "execute_result"
    }
   ],
   "source": [
    "lista_map_func_2"
   ]
  },
  {
   "cell_type": "code",
   "execution_count": 11,
   "id": "86ccec51",
   "metadata": {},
   "outputs": [
    {
     "name": "stdout",
     "output_type": "stream",
     "text": [
      "[0.0, 1.0, 2.0, 3.0, 4.0, 5.0, 6.0, 7.0, 8.0, 9.0, 10.0, 11.0, 12.0, 13.0, 14.0, 15.0, 16.0, 17.0, 18.0, 19.0]\n"
     ]
    }
   ],
   "source": [
    "print(list(lista_map_func_2))"
   ]
  },
  {
   "cell_type": "code",
   "execution_count": 12,
   "id": "81b96655",
   "metadata": {},
   "outputs": [],
   "source": [
    "from math import sqrt"
   ]
  },
  {
   "cell_type": "code",
   "execution_count": 13,
   "id": "32330609",
   "metadata": {},
   "outputs": [],
   "source": [
    "array2 = list(array1)"
   ]
  },
  {
   "cell_type": "code",
   "execution_count": 14,
   "id": "91bc5231",
   "metadata": {},
   "outputs": [
    {
     "data": {
      "text/plain": [
       "[0, 1, 2, 3, 4, 5, 6, 7, 8, 9, 10, 11, 12, 13, 14]"
      ]
     },
     "execution_count": 14,
     "metadata": {},
     "output_type": "execute_result"
    }
   ],
   "source": [
    "array2"
   ]
  },
  {
   "cell_type": "code",
   "execution_count": 15,
   "id": "0f4b8ac7",
   "metadata": {},
   "outputs": [
    {
     "name": "stdout",
     "output_type": "stream",
     "text": [
      "[0.0, 1.0, 1.4142135623730951, 1.7320508075688772, 2.0]\n"
     ]
    }
   ],
   "source": [
    "print(\n",
    "    list(\n",
    "        map(sqrt, array2[:5])\n",
    "    )\n",
    ")"
   ]
  },
  {
   "cell_type": "markdown",
   "id": "1eae3d77",
   "metadata": {},
   "source": [
    "# Filter\n",
    "\n",
    "A função filter() permite filtrar elementos de uma lista. Aplicamos uma função que retorna valores booleanos(True ou False). Retomamos os valores onde a expressão é True e filtramos os valores onde a expressão retorna False.\n"
   ]
  },
  {
   "cell_type": "code",
   "execution_count": 16,
   "id": "dbb1779c",
   "metadata": {},
   "outputs": [],
   "source": [
    "# Definindo um arra com a função bulti-in range()\n",
    "array1 = range(0, 15)"
   ]
  },
  {
   "cell_type": "code",
   "execution_count": 17,
   "id": "df735f05",
   "metadata": {},
   "outputs": [
    {
     "name": "stdout",
     "output_type": "stream",
     "text": [
      "range(0, 15)\n"
     ]
    }
   ],
   "source": [
    "print(array1)"
   ]
  },
  {
   "cell_type": "code",
   "execution_count": 18,
   "id": "45c1e5b8",
   "metadata": {},
   "outputs": [
    {
     "data": {
      "text/plain": [
       "range"
      ]
     },
     "execution_count": 18,
     "metadata": {},
     "output_type": "execute_result"
    }
   ],
   "source": [
    "type(array1)"
   ]
  },
  {
   "cell_type": "code",
   "execution_count": 19,
   "id": "b2ea7cda",
   "metadata": {},
   "outputs": [],
   "source": [
    "# Criando um função para verificar se um número é par\n",
    "def verificarPar(num):\n",
    "    return num % 2 == 0"
   ]
  },
  {
   "cell_type": "code",
   "execution_count": 20,
   "id": "0f308a96",
   "metadata": {},
   "outputs": [
    {
     "data": {
      "text/plain": [
       "True"
      ]
     },
     "execution_count": 20,
     "metadata": {},
     "output_type": "execute_result"
    }
   ],
   "source": [
    "verificarPar(190)"
   ]
  },
  {
   "cell_type": "code",
   "execution_count": 21,
   "id": "4906d0bf",
   "metadata": {},
   "outputs": [
    {
     "data": {
      "text/plain": [
       "False"
      ]
     },
     "execution_count": 21,
     "metadata": {},
     "output_type": "execute_result"
    }
   ],
   "source": [
    "verificarPar(191)"
   ]
  },
  {
   "cell_type": "code",
   "execution_count": 22,
   "id": "22cf4fd3",
   "metadata": {},
   "outputs": [
    {
     "data": {
      "text/plain": [
       "[True,\n",
       " False,\n",
       " True,\n",
       " False,\n",
       " True,\n",
       " False,\n",
       " True,\n",
       " False,\n",
       " True,\n",
       " False,\n",
       " True,\n",
       " False,\n",
       " True,\n",
       " False,\n",
       " True]"
      ]
     },
     "execution_count": 22,
     "metadata": {},
     "output_type": "execute_result"
    }
   ],
   "source": [
    "# Com a função map() aplicamos uma função a um conjunto de elementos\n",
    "list(map(verificarPar, array1))"
   ]
  },
  {
   "cell_type": "code",
   "execution_count": 27,
   "id": "33638359",
   "metadata": {},
   "outputs": [
    {
     "data": {
      "text/plain": [
       "<filter at 0x7f03fbb11880>"
      ]
     },
     "execution_count": 27,
     "metadata": {},
     "output_type": "execute_result"
    }
   ],
   "source": [
    "# A função filter() retorna apenas os valores onde a expressão é igual a True,\n",
    "# filtrando os valores onde a expressão retorna False\n",
    "filter(verificarPar, array1)"
   ]
  },
  {
   "cell_type": "code",
   "execution_count": 26,
   "id": "320b481b",
   "metadata": {},
   "outputs": [
    {
     "data": {
      "text/plain": [
       "[0, 2, 4, 6, 8, 10, 12, 14]"
      ]
     },
     "execution_count": 26,
     "metadata": {},
     "output_type": "execute_result"
    }
   ],
   "source": [
    "list(\n",
    "    filter(verificarPar, array1)\n",
    ")"
   ]
  },
  {
   "cell_type": "code",
   "execution_count": 28,
   "id": "326545fa",
   "metadata": {},
   "outputs": [],
   "source": [
    "# Lista de frases\n",
    "lista_frases = ['Big Data', \n",
    "                'Machine Learning em Big Data e Algoritmos em Big Data',\n",
    "                'Data Science e Big Data',\n",
    "                'Big Data e Internet das Coisas',\n",
    "                'Big Data está revolucionando o mundo']"
   ]
  },
  {
   "cell_type": "code",
   "execution_count": 29,
   "id": "4cc5f9b3",
   "metadata": {},
   "outputs": [],
   "source": [
    "# Criando uma função\n",
    "def testa_BigData(frase):\n",
    "    return frase.count('Big Data') >= 2"
   ]
  },
  {
   "cell_type": "code",
   "execution_count": 30,
   "id": "fb985702",
   "metadata": {},
   "outputs": [
    {
     "data": {
      "text/plain": [
       "['Machine Learning em Big Data e Algoritmos em Big Data']"
      ]
     },
     "execution_count": 30,
     "metadata": {},
     "output_type": "execute_result"
    }
   ],
   "source": [
    "# Aplicando a função filter\n",
    "list(filter(testa_BigData, lista_frases))"
   ]
  },
  {
   "cell_type": "code",
   "execution_count": 31,
   "id": "fc080a83",
   "metadata": {},
   "outputs": [
    {
     "data": {
      "text/plain": [
       "[False, True, False, False, False]"
      ]
     },
     "execution_count": 31,
     "metadata": {},
     "output_type": "execute_result"
    }
   ],
   "source": [
    "# Aplicando a função map\n",
    "list(map(testa_BigData, lista_frases))"
   ]
  },
  {
   "cell_type": "markdown",
   "id": "64d37216",
   "metadata": {},
   "source": [
    "# Reduce\n",
    "A função reduce() aplica uma função a uma sequência de elementos, até reduzir a sequência a um único elemento"
   ]
  },
  {
   "cell_type": "code",
   "execution_count": 32,
   "id": "e74afa54",
   "metadata": {},
   "outputs": [],
   "source": [
    "from functools import reduce"
   ]
  },
  {
   "cell_type": "code",
   "execution_count": 33,
   "id": "2fe9059d",
   "metadata": {},
   "outputs": [],
   "source": [
    "soma = reduce((lambda x, y: x + y), [1, 2, 3, 4])"
   ]
  },
  {
   "cell_type": "code",
   "execution_count": 34,
   "id": "66195d5e",
   "metadata": {},
   "outputs": [
    {
     "data": {
      "text/plain": [
       "10"
      ]
     },
     "execution_count": 34,
     "metadata": {},
     "output_type": "execute_result"
    }
   ],
   "source": [
    "soma"
   ]
  },
  {
   "cell_type": "markdown",
   "id": "bf4939b6",
   "metadata": {},
   "source": [
    "# Fim"
   ]
  },
  {
   "cell_type": "code",
   "execution_count": null,
   "id": "a3270910",
   "metadata": {},
   "outputs": [],
   "source": []
  }
 ],
 "metadata": {
  "kernelspec": {
   "display_name": "Python 3",
   "language": "python",
   "name": "python3"
  },
  "language_info": {
   "codemirror_mode": {
    "name": "ipython",
    "version": 3
   },
   "file_extension": ".py",
   "mimetype": "text/x-python",
   "name": "python",
   "nbconvert_exporter": "python",
   "pygments_lexer": "ipython3",
   "version": "3.8.10"
  }
 },
 "nbformat": 4,
 "nbformat_minor": 5
}
