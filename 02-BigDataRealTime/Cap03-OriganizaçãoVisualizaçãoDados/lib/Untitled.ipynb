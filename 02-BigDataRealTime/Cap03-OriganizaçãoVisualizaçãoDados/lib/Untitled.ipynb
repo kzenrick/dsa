{
 "cells": [
  {
   "cell_type": "code",
   "execution_count": 10,
   "id": "b416ec89",
   "metadata": {},
   "outputs": [],
   "source": [
    "lista = [1, 2, 3, 4]\n",
    "r = range(-1,3)\n"
   ]
  },
  {
   "cell_type": "code",
   "execution_count": 11,
   "id": "24e4d073",
   "metadata": {},
   "outputs": [],
   "source": [
    "lista2 = [''] * (r.stop - r.start - len(lista))"
   ]
  },
  {
   "cell_type": "code",
   "execution_count": 12,
   "id": "20e01155",
   "metadata": {},
   "outputs": [
    {
     "data": {
      "text/plain": [
       "4"
      ]
     },
     "execution_count": 12,
     "metadata": {},
     "output_type": "execute_result"
    }
   ],
   "source": [
    "len(lista2 + lista)"
   ]
  },
  {
   "cell_type": "code",
   "execution_count": 13,
   "id": "3b1e8644",
   "metadata": {},
   "outputs": [
    {
     "data": {
      "text/plain": [
       "[1, 2, 3, 4]"
      ]
     },
     "execution_count": 13,
     "metadata": {},
     "output_type": "execute_result"
    }
   ],
   "source": [
    "lista2 + lista"
   ]
  },
  {
   "cell_type": "code",
   "execution_count": 14,
   "id": "83969dd7",
   "metadata": {},
   "outputs": [
    {
     "data": {
      "text/plain": [
       "4"
      ]
     },
     "execution_count": 14,
     "metadata": {},
     "output_type": "execute_result"
    }
   ],
   "source": [
    "len(lista2 + lista)"
   ]
  },
  {
   "cell_type": "code",
   "execution_count": 15,
   "id": "b0b5fadc",
   "metadata": {},
   "outputs": [
    {
     "data": {
      "text/plain": [
       "[]"
      ]
     },
     "execution_count": 15,
     "metadata": {},
     "output_type": "execute_result"
    }
   ],
   "source": [
    "lista2"
   ]
  },
  {
   "cell_type": "code",
   "execution_count": null,
   "id": "588113d2",
   "metadata": {},
   "outputs": [],
   "source": []
  }
 ],
 "metadata": {
  "kernelspec": {
   "display_name": "Python 3",
   "language": "python",
   "name": "python3"
  },
  "language_info": {
   "codemirror_mode": {
    "name": "ipython",
    "version": 3
   },
   "file_extension": ".py",
   "mimetype": "text/x-python",
   "name": "python",
   "nbconvert_exporter": "python",
   "pygments_lexer": "ipython3",
   "version": "3.8.10"
  }
 },
 "nbformat": 4,
 "nbformat_minor": 5
}
