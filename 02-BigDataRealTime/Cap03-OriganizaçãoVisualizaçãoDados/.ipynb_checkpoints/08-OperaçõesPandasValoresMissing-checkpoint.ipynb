{
 "cells": [
  {
   "cell_type": "markdown",
   "id": "a6af3c2e",
   "metadata": {},
   "source": [
    "# Pandas - Series\n",
    "\n",
    "# valores NaN(Not a Number)"
   ]
  },
  {
   "cell_type": "code",
   "execution_count": 2,
   "id": "60d40fd6",
   "metadata": {},
   "outputs": [
    {
     "name": "stdout",
     "output_type": "stream",
     "text": [
      "3.8.10 (default, Jun  4 2021, 15:09:15) \n",
      "[GCC 7.5.0]\n"
     ]
    },
    {
     "data": {
      "text/plain": [
       "'1.2.4'"
      ]
     },
     "execution_count": 2,
     "metadata": {},
     "output_type": "execute_result"
    }
   ],
   "source": [
    "import sys\n",
    "import numpy as np\n",
    "import pandas as pd\n",
    "\n",
    "print(sys.version)\n",
    "\n",
    "pd.__version__"
   ]
  },
  {
   "cell_type": "code",
   "execution_count": 3,
   "id": "73a500b3",
   "metadata": {},
   "outputs": [],
   "source": [
    "# Usando NumPy\n",
    "array1 = np.array([1,2,3,np.nan])"
   ]
  },
  {
   "cell_type": "code",
   "execution_count": 4,
   "id": "a09be3f3",
   "metadata": {},
   "outputs": [
    {
     "data": {
      "text/plain": [
       "array([ 1.,  2.,  3., nan])"
      ]
     },
     "execution_count": 4,
     "metadata": {},
     "output_type": "execute_result"
    }
   ],
   "source": [
    "array1"
   ]
  },
  {
   "cell_type": "code",
   "execution_count": 5,
   "id": "d32aff9f",
   "metadata": {},
   "outputs": [
    {
     "data": {
      "text/plain": [
       "nan"
      ]
     },
     "execution_count": 5,
     "metadata": {},
     "output_type": "execute_result"
    }
   ],
   "source": [
    "array1.mean()"
   ]
  },
  {
   "cell_type": "code",
   "execution_count": 6,
   "id": "a0043a37",
   "metadata": {},
   "outputs": [],
   "source": [
    "# Usando Pandas\n",
    "serie2 = pd.Series([1,2,3,np.nan])"
   ]
  },
  {
   "cell_type": "code",
   "execution_count": 7,
   "id": "e07633e0",
   "metadata": {},
   "outputs": [
    {
     "data": {
      "text/plain": [
       "0    1.0\n",
       "1    2.0\n",
       "2    3.0\n",
       "3    NaN\n",
       "dtype: float64"
      ]
     },
     "execution_count": 7,
     "metadata": {},
     "output_type": "execute_result"
    }
   ],
   "source": [
    "serie2"
   ]
  },
  {
   "cell_type": "code",
   "execution_count": 8,
   "id": "438f522e",
   "metadata": {},
   "outputs": [
    {
     "data": {
      "text/plain": [
       "2.0"
      ]
     },
     "execution_count": 8,
     "metadata": {},
     "output_type": "execute_result"
    }
   ],
   "source": [
    "serie2.mean()"
   ]
  },
  {
   "cell_type": "markdown",
   "id": "3f90237e",
   "metadata": {},
   "source": [
    "# Concatenando as Séries"
   ]
  },
  {
   "cell_type": "code",
   "execution_count": 9,
   "id": "e6416d66",
   "metadata": {},
   "outputs": [],
   "source": [
    "np.random.seed(567)"
   ]
  },
  {
   "cell_type": "code",
   "execution_count": 10,
   "id": "918f7d66",
   "metadata": {},
   "outputs": [],
   "source": [
    "serie3 = pd.Series(np.random.rand(5))"
   ]
  },
  {
   "cell_type": "code",
   "execution_count": 11,
   "id": "6bdfb135",
   "metadata": {},
   "outputs": [
    {
     "data": {
      "text/plain": [
       "0    0.304782\n",
       "1    0.953033\n",
       "2    0.964709\n",
       "3    0.343762\n",
       "4    0.993886\n",
       "dtype: float64"
      ]
     },
     "execution_count": 11,
     "metadata": {},
     "output_type": "execute_result"
    }
   ],
   "source": [
    "serie3"
   ]
  },
  {
   "cell_type": "code",
   "execution_count": 12,
   "id": "064ba499",
   "metadata": {},
   "outputs": [],
   "source": [
    "serie4 = pd.Series(np.random.rand(5))"
   ]
  },
  {
   "cell_type": "code",
   "execution_count": 13,
   "id": "0749c636",
   "metadata": {},
   "outputs": [
    {
     "data": {
      "text/plain": [
       "0    0.302074\n",
       "1    0.876231\n",
       "2    0.705643\n",
       "3    0.681150\n",
       "4    0.548266\n",
       "dtype: float64"
      ]
     },
     "execution_count": 13,
     "metadata": {},
     "output_type": "execute_result"
    }
   ],
   "source": [
    "serie4"
   ]
  },
  {
   "cell_type": "code",
   "execution_count": 14,
   "id": "648b5b18",
   "metadata": {},
   "outputs": [],
   "source": [
    "combo = pd.concat([serie3, serie4])"
   ]
  },
  {
   "cell_type": "code",
   "execution_count": 15,
   "id": "fb5bb198",
   "metadata": {},
   "outputs": [
    {
     "data": {
      "text/plain": [
       "0    0.304782\n",
       "1    0.953033\n",
       "2    0.964709\n",
       "3    0.343762\n",
       "4    0.993886\n",
       "0    0.302074\n",
       "1    0.876231\n",
       "2    0.705643\n",
       "3    0.681150\n",
       "4    0.548266\n",
       "dtype: float64"
      ]
     },
     "execution_count": 15,
     "metadata": {},
     "output_type": "execute_result"
    }
   ],
   "source": [
    "combo"
   ]
  },
  {
   "cell_type": "code",
   "execution_count": 16,
   "id": "922e975e",
   "metadata": {},
   "outputs": [
    {
     "data": {
      "text/plain": [
       "0    0.304782\n",
       "0    0.302074\n",
       "dtype: float64"
      ]
     },
     "execution_count": 16,
     "metadata": {},
     "output_type": "execute_result"
    }
   ],
   "source": [
    "combo[0]"
   ]
  },
  {
   "cell_type": "code",
   "execution_count": 17,
   "id": "d6f39d63",
   "metadata": {},
   "outputs": [],
   "source": [
    "combo.index = range(combo.count())"
   ]
  },
  {
   "cell_type": "code",
   "execution_count": 18,
   "id": "4ea455ca",
   "metadata": {},
   "outputs": [
    {
     "data": {
      "text/plain": [
       "0    0.304782\n",
       "1    0.953033\n",
       "2    0.964709\n",
       "3    0.343762\n",
       "4    0.993886\n",
       "5    0.302074\n",
       "6    0.876231\n",
       "7    0.705643\n",
       "8    0.681150\n",
       "9    0.548266\n",
       "dtype: float64"
      ]
     },
     "execution_count": 18,
     "metadata": {},
     "output_type": "execute_result"
    }
   ],
   "source": [
    "combo"
   ]
  },
  {
   "cell_type": "code",
   "execution_count": 19,
   "id": "026535ee",
   "metadata": {},
   "outputs": [
    {
     "data": {
      "text/plain": [
       "pandas.core.series.Series"
      ]
     },
     "execution_count": 19,
     "metadata": {},
     "output_type": "execute_result"
    }
   ],
   "source": [
    "type(combo)"
   ]
  },
  {
   "cell_type": "code",
   "execution_count": 20,
   "id": "6e7abb56",
   "metadata": {},
   "outputs": [
    {
     "data": {
      "text/plain": [
       "0    0.304782\n",
       "1    0.953033\n",
       "2    0.964709\n",
       "3    0.343762\n",
       "4    0.993886\n",
       "5    0.302074\n",
       "6    0.876231\n",
       "7    0.705643\n",
       "8    0.681150\n",
       "9    0.548266\n",
       "dtype: float64"
      ]
     },
     "execution_count": 20,
     "metadata": {},
     "output_type": "execute_result"
    }
   ],
   "source": [
    "combo"
   ]
  },
  {
   "cell_type": "code",
   "execution_count": 21,
   "id": "166e8117",
   "metadata": {},
   "outputs": [
    {
     "data": {
      "text/plain": [
       "0     0.304782\n",
       "2     0.964709\n",
       "16         NaN\n",
       "21         NaN\n",
       "dtype: float64"
      ]
     },
     "execution_count": 21,
     "metadata": {},
     "output_type": "execute_result"
    }
   ],
   "source": [
    "combo.reindex([0, 2, 16, 21])"
   ]
  },
  {
   "cell_type": "code",
   "execution_count": 22,
   "id": "07e79f3d",
   "metadata": {},
   "outputs": [
    {
     "data": {
      "text/plain": [
       "0     0.304782\n",
       "2     0.964709\n",
       "16    0.000000\n",
       "21    0.000000\n",
       "dtype: float64"
      ]
     },
     "execution_count": 22,
     "metadata": {},
     "output_type": "execute_result"
    }
   ],
   "source": [
    "combo.reindex([0, 2, 16, 21], fill_value = 0)"
   ]
  },
  {
   "cell_type": "code",
   "execution_count": 23,
   "id": "f0fe9f79",
   "metadata": {},
   "outputs": [],
   "source": [
    "new_combo = combo.reindex([0,2,16,21])"
   ]
  },
  {
   "cell_type": "code",
   "execution_count": 24,
   "id": "f1acdc24",
   "metadata": {},
   "outputs": [
    {
     "data": {
      "text/plain": [
       "0     0.304782\n",
       "2     0.964709\n",
       "16         NaN\n",
       "21         NaN\n",
       "dtype: float64"
      ]
     },
     "execution_count": 24,
     "metadata": {},
     "output_type": "execute_result"
    }
   ],
   "source": [
    "new_combo"
   ]
  },
  {
   "cell_type": "code",
   "execution_count": 25,
   "id": "b3080713",
   "metadata": {},
   "outputs": [
    {
     "data": {
      "text/plain": [
       "0     0.304782\n",
       "2     0.964709\n",
       "16    0.964709\n",
       "21    0.964709\n",
       "dtype: float64"
      ]
     },
     "execution_count": 25,
     "metadata": {},
     "output_type": "execute_result"
    }
   ],
   "source": [
    "new_combo.ffill()"
   ]
  },
  {
   "cell_type": "code",
   "execution_count": 26,
   "id": "d1a468bd",
   "metadata": {},
   "outputs": [
    {
     "data": {
      "text/plain": [
       "0     0.304782\n",
       "2     0.964709\n",
       "16         NaN\n",
       "21         NaN\n",
       "dtype: float64"
      ]
     },
     "execution_count": 26,
     "metadata": {},
     "output_type": "execute_result"
    }
   ],
   "source": [
    "new_combo.bfill()"
   ]
  },
  {
   "cell_type": "code",
   "execution_count": 27,
   "id": "dc13a690",
   "metadata": {},
   "outputs": [
    {
     "data": {
      "text/plain": [
       "0      0.304782\n",
       "2      0.964709\n",
       "16    12.000000\n",
       "21    12.000000\n",
       "dtype: float64"
      ]
     },
     "execution_count": 27,
     "metadata": {},
     "output_type": "execute_result"
    }
   ],
   "source": [
    "new_combo.fillna(12)"
   ]
  },
  {
   "cell_type": "markdown",
   "id": "98058318",
   "metadata": {},
   "source": [
    "# Operações com Series - Índices Diferentes"
   ]
  },
  {
   "cell_type": "code",
   "execution_count": 28,
   "id": "0c219331",
   "metadata": {},
   "outputs": [
    {
     "data": {
      "text/plain": [
       "0    0.724774\n",
       "1    0.124588\n",
       "2    1.023399\n",
       "3    2.221557\n",
       "4    1.130909\n",
       "dtype: float64"
      ]
     },
     "execution_count": 28,
     "metadata": {},
     "output_type": "execute_result"
    }
   ],
   "source": [
    "s1 = pd.Series(np.random.randn(5)); s1"
   ]
  },
  {
   "cell_type": "code",
   "execution_count": 29,
   "id": "78f4e3d9",
   "metadata": {},
   "outputs": [
    {
     "data": {
      "text/plain": [
       "0   -0.651538\n",
       "1   -1.179986\n",
       "2    0.437101\n",
       "3   -0.607102\n",
       "4    1.310954\n",
       "dtype: float64"
      ]
     },
     "execution_count": 29,
     "metadata": {},
     "output_type": "execute_result"
    }
   ],
   "source": [
    "s2 = pd.Series(np.random.randn(5)); s2"
   ]
  },
  {
   "cell_type": "code",
   "execution_count": 30,
   "id": "d158231b",
   "metadata": {},
   "outputs": [
    {
     "data": {
      "text/plain": [
       "0    0.073236\n",
       "1   -1.055398\n",
       "2    1.460500\n",
       "3    1.614455\n",
       "4    2.441862\n",
       "dtype: float64"
      ]
     },
     "execution_count": 30,
     "metadata": {},
     "output_type": "execute_result"
    }
   ],
   "source": [
    "s1 + s2"
   ]
  },
  {
   "cell_type": "code",
   "execution_count": 31,
   "id": "fc2817e6",
   "metadata": {},
   "outputs": [
    {
     "data": {
      "text/plain": [
       "3   -0.651538\n",
       "4   -1.179986\n",
       "5    0.437101\n",
       "6   -0.607102\n",
       "7    1.310954\n",
       "dtype: float64"
      ]
     },
     "execution_count": 31,
     "metadata": {},
     "output_type": "execute_result"
    }
   ],
   "source": [
    "s2.index = list(range(3, 8)); s2"
   ]
  },
  {
   "cell_type": "code",
   "execution_count": 32,
   "id": "b1f03edd",
   "metadata": {},
   "outputs": [
    {
     "data": {
      "text/plain": [
       "0         NaN\n",
       "1         NaN\n",
       "2         NaN\n",
       "3    1.570019\n",
       "4   -0.049077\n",
       "5         NaN\n",
       "6         NaN\n",
       "7         NaN\n",
       "dtype: float64"
      ]
     },
     "execution_count": 32,
     "metadata": {},
     "output_type": "execute_result"
    }
   ],
   "source": [
    "s1 + s2"
   ]
  },
  {
   "cell_type": "code",
   "execution_count": 33,
   "id": "617dbd01",
   "metadata": {},
   "outputs": [
    {
     "data": {
      "text/plain": [
       "0    0.724774\n",
       "1    0.124588\n",
       "2    1.023399\n",
       "3    1.570019\n",
       "4   -0.049077\n",
       "5    0.437101\n",
       "6   -0.607102\n",
       "7    1.310954\n",
       "8    0.000000\n",
       "9    0.000000\n",
       "dtype: float64"
      ]
     },
     "execution_count": 33,
     "metadata": {},
     "output_type": "execute_result"
    }
   ],
   "source": [
    "s1.reindex(range(10), fill_value = 0) + s2.reindex(range(10), fill_value = 0)"
   ]
  },
  {
   "cell_type": "code",
   "execution_count": 34,
   "id": "56632719",
   "metadata": {},
   "outputs": [
    {
     "data": {
      "text/plain": [
       "a    1\n",
       "a    2\n",
       "c    3\n",
       "dtype: int64"
      ]
     },
     "execution_count": 34,
     "metadata": {},
     "output_type": "execute_result"
    }
   ],
   "source": [
    "s1 = pd.Series(range(1, 4), index = ['a', 'a', 'c']); s1"
   ]
  },
  {
   "cell_type": "code",
   "execution_count": 35,
   "id": "b03c50ba",
   "metadata": {},
   "outputs": [
    {
     "data": {
      "text/plain": [
       "a    1\n",
       "a    2\n",
       "b    3\n",
       "dtype: int64"
      ]
     },
     "execution_count": 35,
     "metadata": {},
     "output_type": "execute_result"
    }
   ],
   "source": [
    "s2 = pd.Series(range(1, 4), index = ['a', 'a', 'b']); s2"
   ]
  },
  {
   "cell_type": "code",
   "execution_count": 36,
   "id": "6ea22bdf",
   "metadata": {},
   "outputs": [
    {
     "data": {
      "text/plain": [
       "a    1.0\n",
       "a    2.0\n",
       "a    2.0\n",
       "a    4.0\n",
       "b    NaN\n",
       "c    NaN\n",
       "dtype: float64"
      ]
     },
     "execution_count": 36,
     "metadata": {},
     "output_type": "execute_result"
    }
   ],
   "source": [
    "s1 * s2"
   ]
  },
  {
   "cell_type": "code",
   "execution_count": 37,
   "id": "eb48cb8f",
   "metadata": {},
   "outputs": [
    {
     "data": {
      "text/plain": [
       "a    2.0\n",
       "a    3.0\n",
       "a    3.0\n",
       "a    4.0\n",
       "b    NaN\n",
       "c    NaN\n",
       "dtype: float64"
      ]
     },
     "execution_count": 37,
     "metadata": {},
     "output_type": "execute_result"
    }
   ],
   "source": [
    "s1 + s2"
   ]
  },
  {
   "cell_type": "markdown",
   "id": "b4edf266",
   "metadata": {},
   "source": [
    "# Copiando uma Serie\n"
   ]
  },
  {
   "cell_type": "code",
   "execution_count": 38,
   "id": "59bce6c9",
   "metadata": {},
   "outputs": [],
   "source": [
    "s1_copy = s1.copy()"
   ]
  },
  {
   "cell_type": "code",
   "execution_count": 39,
   "id": "20d02dc8",
   "metadata": {},
   "outputs": [
    {
     "data": {
      "text/plain": [
       "a    3\n",
       "a    3\n",
       "c    3\n",
       "dtype: int64"
      ]
     },
     "execution_count": 39,
     "metadata": {},
     "output_type": "execute_result"
    }
   ],
   "source": [
    "s1_copy['a'] = 3\n",
    "s1_copy"
   ]
  },
  {
   "cell_type": "code",
   "execution_count": 40,
   "id": "dc5c060a",
   "metadata": {},
   "outputs": [
    {
     "data": {
      "text/plain": [
       "a    1\n",
       "a    2\n",
       "c    3\n",
       "dtype: int64"
      ]
     },
     "execution_count": 40,
     "metadata": {},
     "output_type": "execute_result"
    }
   ],
   "source": [
    "s1"
   ]
  },
  {
   "cell_type": "markdown",
   "id": "462387eb",
   "metadata": {},
   "source": [
    "# Função map() do Pandas"
   ]
  },
  {
   "cell_type": "code",
   "execution_count": 41,
   "id": "f9c3facb",
   "metadata": {},
   "outputs": [
    {
     "data": {
      "text/plain": [
       "a    1\n",
       "a    4\n",
       "c    9\n",
       "dtype: int64"
      ]
     },
     "execution_count": 41,
     "metadata": {},
     "output_type": "execute_result"
    }
   ],
   "source": [
    "# Função map() - versão do Pandas\n",
    "s1.map(lambda x: x ** 2)"
   ]
  },
  {
   "cell_type": "code",
   "execution_count": 42,
   "id": "e9a68b81",
   "metadata": {},
   "outputs": [
    {
     "data": {
      "text/plain": [
       "a     2\n",
       "a     3\n",
       "c    12\n",
       "dtype: int64"
      ]
     },
     "execution_count": 42,
     "metadata": {},
     "output_type": "execute_result"
    }
   ],
   "source": [
    "s1.map({1:2, 2:3, 3:12})"
   ]
  },
  {
   "cell_type": "code",
   "execution_count": 43,
   "id": "050f053a",
   "metadata": {},
   "outputs": [
    {
     "data": {
      "text/plain": [
       "a     NaN\n",
       "a     3.0\n",
       "c    12.0\n",
       "dtype: float64"
      ]
     },
     "execution_count": 43,
     "metadata": {},
     "output_type": "execute_result"
    }
   ],
   "source": [
    "s1.map({2:3, 3:12})"
   ]
  },
  {
   "cell_type": "markdown",
   "id": "9f9d5e2f",
   "metadata": {},
   "source": [
    "# FIM"
   ]
  }
 ],
 "metadata": {
  "kernelspec": {
   "display_name": "Python 3",
   "language": "python",
   "name": "python3"
  },
  "language_info": {
   "codemirror_mode": {
    "name": "ipython",
    "version": 3
   },
   "file_extension": ".py",
   "mimetype": "text/x-python",
   "name": "python",
   "nbconvert_exporter": "python",
   "pygments_lexer": "ipython3",
   "version": "3.8.10"
  }
 },
 "nbformat": 4,
 "nbformat_minor": 5
}
