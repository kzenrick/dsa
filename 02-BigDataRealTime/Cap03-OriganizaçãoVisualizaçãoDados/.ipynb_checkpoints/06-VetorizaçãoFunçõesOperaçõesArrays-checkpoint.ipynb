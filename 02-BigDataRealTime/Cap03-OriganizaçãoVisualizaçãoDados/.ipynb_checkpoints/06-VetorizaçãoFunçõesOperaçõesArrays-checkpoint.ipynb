{
 "cells": [
  {
   "cell_type": "markdown",
   "id": "4c2d0914",
   "metadata": {},
   "source": [
    "# Vetorização\n",
    "\n",
    "Embora possamos usar list comprehension e função map em arrays numpy, este pode não ser o melhor método e a maneira mais eficiente de se obter o mesmo resultado seria através de vetorização.\n",
    "\n",
    "Vetorização nos permite aplicar uma função a um array inteiro, ao invés de aplicar a função elemento a elemento (similar ao que fazemos com as funções map() e filter())\n",
    "\n",
    "Ao trabalhar com objetos NumPy e Pandas, existem maneiras mais eficientes de se aplicar uma função a um conjunto de elementos, que serão mais velozes que a aplicação de loops for - Evite o LoopFor o quanto possível."
   ]
  },
  {
   "cell_type": "code",
   "execution_count": 1,
   "id": "61ea8baf",
   "metadata": {},
   "outputs": [
    {
     "name": "stdout",
     "output_type": "stream",
     "text": [
      "3.8.10 (default, Jun  4 2021, 15:09:15) \n",
      "[GCC 7.5.0]\n"
     ]
    },
    {
     "data": {
      "text/plain": [
       "'1.20.2'"
      ]
     },
     "execution_count": 1,
     "metadata": {},
     "output_type": "execute_result"
    }
   ],
   "source": [
    "import sys\n",
    "import numpy as np\n",
    "print(sys.version)\n",
    "np.__version__"
   ]
  },
  {
   "cell_type": "code",
   "execution_count": 2,
   "id": "62046165",
   "metadata": {},
   "outputs": [],
   "source": [
    "array1 = np.random.randint(0, 50, 20)"
   ]
  },
  {
   "cell_type": "code",
   "execution_count": 3,
   "id": "a0ba40bf",
   "metadata": {},
   "outputs": [
    {
     "data": {
      "text/plain": [
       "array([45, 31, 10, 47, 17, 42, 49, 41, 49, 22, 35, 16, 20, 15, 33, 16, 20,\n",
       "       16, 24, 27])"
      ]
     },
     "execution_count": 3,
     "metadata": {},
     "output_type": "execute_result"
    }
   ],
   "source": [
    "array1"
   ]
  },
  {
   "cell_type": "code",
   "execution_count": 4,
   "id": "3963d111",
   "metadata": {},
   "outputs": [],
   "source": [
    "# Criando uma função\n",
    "def calc_func(num):\n",
    "    if num < 10:\n",
    "        return num ** 3\n",
    "    else:\n",
    "        return num ** 2"
   ]
  },
  {
   "cell_type": "code",
   "execution_count": 5,
   "id": "f3eaf5be",
   "metadata": {},
   "outputs": [
    {
     "ename": "ValueError",
     "evalue": "The truth value of an array with more than one element is ambiguous. Use a.any() or a.all()",
     "output_type": "error",
     "traceback": [
      "\u001b[0;31m---------------------------------------------------------------------------\u001b[0m",
      "\u001b[0;31mValueError\u001b[0m                                Traceback (most recent call last)",
      "\u001b[0;32m<ipython-input-5-cf922d59dbb0>\u001b[0m in \u001b[0;36m<module>\u001b[0;34m\u001b[0m\n\u001b[1;32m      1\u001b[0m \u001b[0;31m# Para que a função funcione no onjeto array do NumPy, ela precisa ser vetorizada\u001b[0m\u001b[0;34m\u001b[0m\u001b[0;34m\u001b[0m\u001b[0;34m\u001b[0m\u001b[0m\n\u001b[0;32m----> 2\u001b[0;31m \u001b[0mcalc_func\u001b[0m\u001b[0;34m(\u001b[0m\u001b[0marray1\u001b[0m\u001b[0;34m)\u001b[0m\u001b[0;34m\u001b[0m\u001b[0;34m\u001b[0m\u001b[0m\n\u001b[0m",
      "\u001b[0;32m<ipython-input-4-ec006f1471ff>\u001b[0m in \u001b[0;36mcalc_func\u001b[0;34m(num)\u001b[0m\n\u001b[1;32m      1\u001b[0m \u001b[0;31m# Criando uma função\u001b[0m\u001b[0;34m\u001b[0m\u001b[0;34m\u001b[0m\u001b[0;34m\u001b[0m\u001b[0m\n\u001b[1;32m      2\u001b[0m \u001b[0;32mdef\u001b[0m \u001b[0mcalc_func\u001b[0m\u001b[0;34m(\u001b[0m\u001b[0mnum\u001b[0m\u001b[0;34m)\u001b[0m\u001b[0;34m:\u001b[0m\u001b[0;34m\u001b[0m\u001b[0;34m\u001b[0m\u001b[0m\n\u001b[0;32m----> 3\u001b[0;31m     \u001b[0;32mif\u001b[0m \u001b[0mnum\u001b[0m \u001b[0;34m<\u001b[0m \u001b[0;36m10\u001b[0m\u001b[0;34m:\u001b[0m\u001b[0;34m\u001b[0m\u001b[0;34m\u001b[0m\u001b[0m\n\u001b[0m\u001b[1;32m      4\u001b[0m         \u001b[0;32mreturn\u001b[0m \u001b[0mnum\u001b[0m \u001b[0;34m**\u001b[0m \u001b[0;36m3\u001b[0m\u001b[0;34m\u001b[0m\u001b[0;34m\u001b[0m\u001b[0m\n\u001b[1;32m      5\u001b[0m     \u001b[0;32melse\u001b[0m\u001b[0;34m:\u001b[0m\u001b[0;34m\u001b[0m\u001b[0;34m\u001b[0m\u001b[0m\n",
      "\u001b[0;31mValueError\u001b[0m: The truth value of an array with more than one element is ambiguous. Use a.any() or a.all()"
     ]
    }
   ],
   "source": [
    "# Para que a função funcione no objeto array do NumPy, ela precisa ser vetorizada\n",
    "calc_func(array1)"
   ]
  },
  {
   "cell_type": "code",
   "execution_count": 8,
   "id": "7f9f517f",
   "metadata": {},
   "outputs": [],
   "source": [
    "?np.vectorize"
   ]
  },
  {
   "cell_type": "code",
   "execution_count": 9,
   "id": "38b250e5",
   "metadata": {},
   "outputs": [],
   "source": [
    "v_calc_func = np.vectorize(calc_func)"
   ]
  },
  {
   "cell_type": "code",
   "execution_count": 10,
   "id": "3bfecaa9",
   "metadata": {},
   "outputs": [
    {
     "data": {
      "text/plain": [
       "numpy.vectorize"
      ]
     },
     "execution_count": 10,
     "metadata": {},
     "output_type": "execute_result"
    }
   ],
   "source": [
    "type(v_calc_func)"
   ]
  },
  {
   "cell_type": "code",
   "execution_count": 11,
   "id": "68aa3315",
   "metadata": {},
   "outputs": [
    {
     "data": {
      "text/plain": [
       "array([2025,  961,  100, 2209,  289, 1764, 2401, 1681, 2401,  484, 1225,\n",
       "        256,  400,  225, 1089,  256,  400,  256,  576,  729])"
      ]
     },
     "execution_count": 11,
     "metadata": {},
     "output_type": "execute_result"
    }
   ],
   "source": [
    "# Aplicando a função vetorizada ao array\n",
    "v_calc_func(array1)"
   ]
  },
  {
   "cell_type": "code",
   "execution_count": 12,
   "id": "ec8d466a",
   "metadata": {},
   "outputs": [
    {
     "data": {
      "text/plain": [
       "[2025,\n",
       " 961,\n",
       " 100,\n",
       " 2209,\n",
       " 289,\n",
       " 1764,\n",
       " 2401,\n",
       " 1681,\n",
       " 2401,\n",
       " 484,\n",
       " 1225,\n",
       " 256,\n",
       " 400,\n",
       " 225,\n",
       " 1089,\n",
       " 256,\n",
       " 400,\n",
       " 256,\n",
       " 576,\n",
       " 729]"
      ]
     },
     "execution_count": 12,
     "metadata": {},
     "output_type": "execute_result"
    }
   ],
   "source": [
    "# Uma alternativa - Map sem vetorização\n",
    "list(map(calc_func, array1))"
   ]
  },
  {
   "cell_type": "code",
   "execution_count": 13,
   "id": "a22a2512",
   "metadata": {},
   "outputs": [
    {
     "data": {
      "text/plain": [
       "[2025,\n",
       " 961,\n",
       " 100,\n",
       " 2209,\n",
       " 289,\n",
       " 1764,\n",
       " 2401,\n",
       " 1681,\n",
       " 2401,\n",
       " 484,\n",
       " 1225,\n",
       " 256,\n",
       " 400,\n",
       " 225,\n",
       " 1089,\n",
       " 256,\n",
       " 400,\n",
       " 256,\n",
       " 576,\n",
       " 729]"
      ]
     },
     "execution_count": 13,
     "metadata": {},
     "output_type": "execute_result"
    }
   ],
   "source": [
    "# Podemos usar list comprehension para obter o mesmo resultado, sem vetorizar a função\n",
    "[calc_func(x) for x in array1]"
   ]
  },
  {
   "cell_type": "markdown",
   "id": "6773d8eb",
   "metadata": {},
   "source": [
    "No Python 3, a list comprehension recebeu atualizações e ficou muito mais rápida e eficiente, uma vez que ela é amplamente utilizada em programação Python. Lembre-se sempre de checar a documentação antes de decidir como você irá manipular suas estruturas de dados."
   ]
  },
  {
   "cell_type": "code",
   "execution_count": 15,
   "id": "e46be36b",
   "metadata": {},
   "outputs": [
    {
     "name": "stdout",
     "output_type": "stream",
     "text": [
      "15.6 µs ± 185 ns per loop (mean ± std. dev. of 7 runs, 100000 loops each)\n",
      "6.63 µs ± 72.9 ns per loop (mean ± std. dev. of 7 runs, 100000 loops each)\n",
      "6.33 µs ± 77.7 ns per loop (mean ± std. dev. of 7 runs, 100000 loops each)\n"
     ]
    }
   ],
   "source": [
    "# Função vetorizada\n",
    "%timeit v_calc_func(array1)\n",
    "\n",
    "# List Comprehension\n",
    "%timeit [calc_func(x) for x in array1]\n",
    "\n",
    "# Função Map\n",
    "%timeit list(map(calc_func, array1))"
   ]
  },
  {
   "cell_type": "code",
   "execution_count": 16,
   "id": "568c8c5a",
   "metadata": {},
   "outputs": [],
   "source": [
    "# Criando Array com valores Maiores\n",
    "array2 = np.random.randint(0, 100, 20 * 10000)"
   ]
  },
  {
   "cell_type": "code",
   "execution_count": 17,
   "id": "558f2e19",
   "metadata": {},
   "outputs": [
    {
     "name": "stdout",
     "output_type": "stream",
     "text": [
      "17.2 µs ± 250 ns per loop (mean ± std. dev. of 7 runs, 100000 loops each)\n",
      "7.26 µs ± 77 ns per loop (mean ± std. dev. of 7 runs, 100000 loops each)\n",
      "6.97 µs ± 83.7 ns per loop (mean ± std. dev. of 7 runs, 100000 loops each)\n"
     ]
    }
   ],
   "source": [
    "# Função vetorizada\n",
    "%timeit v_calc_func(array1)\n",
    "\n",
    "# List Comprehension\n",
    "%timeit [calc_func(x) for x in array1]\n",
    "\n",
    "# Função Map\n",
    "%timeit list(map(calc_func, array1))"
   ]
  },
  {
   "cell_type": "markdown",
   "id": "57ea1eec",
   "metadata": {},
   "source": [
    "Utilizar as versões mais recentes de um software pode trazer problemas de compatibilidade com aplicações xistentes, mas é grande a possibilidade trazerem melhorias em performance e novas funcionalidades."
   ]
  },
  {
   "cell_type": "markdown",
   "id": "454aa25d",
   "metadata": {},
   "source": [
    "# FIM"
   ]
  }
 ],
 "metadata": {
  "kernelspec": {
   "display_name": "Python 3",
   "language": "python",
   "name": "python3"
  },
  "language_info": {
   "codemirror_mode": {
    "name": "ipython",
    "version": 3
   },
   "file_extension": ".py",
   "mimetype": "text/x-python",
   "name": "python",
   "nbconvert_exporter": "python",
   "pygments_lexer": "ipython3",
   "version": "3.8.10"
  }
 },
 "nbformat": 4,
 "nbformat_minor": 5
}
