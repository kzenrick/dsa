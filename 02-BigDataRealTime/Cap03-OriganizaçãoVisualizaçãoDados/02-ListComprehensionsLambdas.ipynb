{
 "cells": [
  {
   "cell_type": "markdown",
   "id": "49d2af5d",
   "metadata": {},
   "source": [
    "# List Comprehension\n",
    "\n",
    "A utilização de list comprehension em Python é muito comum. List comprehension é a forma que Python utiliza para realizar filtros e mapeamentos, semelhante ao que vims com as funções filter(0 e map()"
   ]
  },
  {
   "cell_type": "code",
   "execution_count": 1,
   "id": "acab33db",
   "metadata": {},
   "outputs": [],
   "source": [
    "# Defininfo um array com a função bulti-in range()\n",
    "array1 = range(0 ,15)"
   ]
  },
  {
   "cell_type": "code",
   "execution_count": 2,
   "id": "be4b4d81",
   "metadata": {},
   "outputs": [
    {
     "name": "stdout",
     "output_type": "stream",
     "text": [
      "range(0, 15)\n"
     ]
    }
   ],
   "source": [
    "print(array1)"
   ]
  },
  {
   "cell_type": "code",
   "execution_count": 3,
   "id": "9fa27aa1",
   "metadata": {},
   "outputs": [
    {
     "data": {
      "text/plain": [
       "range"
      ]
     },
     "execution_count": 3,
     "metadata": {},
     "output_type": "execute_result"
    }
   ],
   "source": [
    "type(array1)"
   ]
  },
  {
   "cell_type": "code",
   "execution_count": 4,
   "id": "0eb9c64f",
   "metadata": {},
   "outputs": [
    {
     "data": {
      "text/plain": [
       "[0, 1, 8, 27, 64, 125, 216, 343, 512, 729, 1000, 1331, 1728, 2197, 2744]"
      ]
     },
     "execution_count": 4,
     "metadata": {},
     "output_type": "execute_result"
    }
   ],
   "source": [
    "# Aplicando list comprehension\n",
    "[item ** 3 for item in array1]"
   ]
  },
  {
   "cell_type": "code",
   "execution_count": 5,
   "id": "d8c99e81",
   "metadata": {},
   "outputs": [
    {
     "data": {
      "text/plain": [
       "[0, 2, 4, 6, 8, 10, 12, 14]"
      ]
     },
     "execution_count": 5,
     "metadata": {},
     "output_type": "execute_result"
    }
   ],
   "source": [
    "[item for item in array1 if item % 2 == 0]"
   ]
  },
  {
   "cell_type": "code",
   "execution_count": 6,
   "id": "d3a9208c",
   "metadata": {},
   "outputs": [],
   "source": [
    "# Lista de frases\n",
    "lista_frases = ['Big Data', \n",
    "                'Machine Learning em Big Data e Algoritmos em Big Data',\n",
    "                'Data Science e Big Data',\n",
    "                'Big Data e Internet das Coisas',\n",
    "                'Big Data está revolucionando o mundo, pois Big Data é um grande volume de dados']"
   ]
  },
  {
   "cell_type": "code",
   "execution_count": 7,
   "id": "98bcf4cf",
   "metadata": {},
   "outputs": [
    {
     "data": {
      "text/plain": [
       "['Machine Learning em Big Data e Algoritmos em Big Data',\n",
       " 'Big Data está revolucionando o mundo, pois Big Data é um grande volume de dados']"
      ]
     },
     "execution_count": 7,
     "metadata": {},
     "output_type": "execute_result"
    }
   ],
   "source": [
    "[item for item in lista_frases if item.count('Big Data') >= 2]"
   ]
  },
  {
   "cell_type": "code",
   "execution_count": 8,
   "id": "8442993e",
   "metadata": {},
   "outputs": [
    {
     "data": {
      "text/plain": [
       "[0.0,\n",
       " 1.0,\n",
       " 2.0,\n",
       " 3.0,\n",
       " 4.0,\n",
       " 5.0,\n",
       " 6.0,\n",
       " 7.0,\n",
       " 8.0,\n",
       " 9.0,\n",
       " 10.0,\n",
       " 11.0,\n",
       " 12.0,\n",
       " 13.0,\n",
       " 14.0]"
      ]
     },
     "execution_count": 8,
     "metadata": {},
     "output_type": "execute_result"
    }
   ],
   "source": [
    "[float(item) for item in array1]"
   ]
  },
  {
   "cell_type": "markdown",
   "id": "30c374e5",
   "metadata": {},
   "source": [
    "# Funções Lambda\n",
    "\n",
    "Funções lambdas são funções anônimas que não precisam ser definidas antes de serem usadas. São também chamadas funções inlie e ajudam a manter seu código mais organizado."
   ]
  },
  {
   "cell_type": "code",
   "execution_count": 9,
   "id": "8d0973c7",
   "metadata": {},
   "outputs": [],
   "source": [
    "# Definindo um array com a função built-in range()\n",
    "array1 = range(0,15)"
   ]
  },
  {
   "cell_type": "code",
   "execution_count": 10,
   "id": "69655219",
   "metadata": {},
   "outputs": [
    {
     "name": "stdout",
     "output_type": "stream",
     "text": [
      "range(0, 15)\n"
     ]
    }
   ],
   "source": [
    "print(array1)"
   ]
  },
  {
   "cell_type": "code",
   "execution_count": 11,
   "id": "90935556",
   "metadata": {},
   "outputs": [
    {
     "data": {
      "text/plain": [
       "range"
      ]
     },
     "execution_count": 11,
     "metadata": {},
     "output_type": "execute_result"
    }
   ],
   "source": [
    "type(array1)"
   ]
  },
  {
   "cell_type": "code",
   "execution_count": 12,
   "id": "71038d51",
   "metadata": {},
   "outputs": [
    {
     "data": {
      "text/plain": [
       "[0, 1, 4, 9, 16, 25, 36, 49, 64, 81, 100, 121, 144, 169, 196]"
      ]
     },
     "execution_count": 12,
     "metadata": {},
     "output_type": "execute_result"
    }
   ],
   "source": [
    "# Aplicando list comprehension\n",
    "[item ** 2 for item in array1]"
   ]
  },
  {
   "cell_type": "code",
   "execution_count": 13,
   "id": "da892c74",
   "metadata": {},
   "outputs": [],
   "source": [
    "# Definindo uma função\n",
    "def square(num):\n",
    "    return num ** 2"
   ]
  },
  {
   "cell_type": "code",
   "execution_count": 14,
   "id": "442201ec",
   "metadata": {},
   "outputs": [
    {
     "data": {
      "text/plain": [
       "[0, 1, 4, 9, 16, 25, 36, 49, 64, 81, 100, 121, 144, 169, 196]"
      ]
     },
     "execution_count": 14,
     "metadata": {},
     "output_type": "execute_result"
    }
   ],
   "source": [
    "# Aplicando map\n",
    "list(map(square, array1))"
   ]
  },
  {
   "cell_type": "code",
   "execution_count": 15,
   "id": "7f46c91d",
   "metadata": {},
   "outputs": [
    {
     "data": {
      "text/plain": [
       "[0, 1, 4, 9, 16, 25, 36, 49, 64, 81, 100, 121, 144, 169, 196]"
      ]
     },
     "execution_count": 15,
     "metadata": {},
     "output_type": "execute_result"
    }
   ],
   "source": [
    "# Função lambda\n",
    "list(map(lambda num: num ** 2, array1))"
   ]
  },
  {
   "cell_type": "code",
   "execution_count": 16,
   "id": "cbac7da0",
   "metadata": {},
   "outputs": [
    {
     "data": {
      "text/plain": [
       "[4, 16, 36, 64, 100, 144, 196, 256, 324]"
      ]
     },
     "execution_count": 16,
     "metadata": {},
     "output_type": "execute_result"
    }
   ],
   "source": [
    "list(\n",
    "    map(lambda a: a**2, \n",
    "        filter(\n",
    "            lambda a: a % 2 == 0, range(1, 20)\n",
    "        )\n",
    "       )\n",
    ")"
   ]
  },
  {
   "cell_type": "markdown",
   "id": "80604407",
   "metadata": {},
   "source": [
    "# Fim"
   ]
  }
 ],
 "metadata": {
  "kernelspec": {
   "display_name": "Python 3",
   "language": "python",
   "name": "python3"
  },
  "language_info": {
   "codemirror_mode": {
    "name": "ipython",
    "version": 3
   },
   "file_extension": ".py",
   "mimetype": "text/x-python",
   "name": "python",
   "nbconvert_exporter": "python",
   "pygments_lexer": "ipython3",
   "version": "3.8.10"
  }
 },
 "nbformat": 4,
 "nbformat_minor": 5
}
