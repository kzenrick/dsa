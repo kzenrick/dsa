{
 "cells": [
  {
   "cell_type": "code",
   "execution_count": 1,
   "id": "a0b5db81",
   "metadata": {},
   "outputs": [],
   "source": [
    "# Modelo preditivo de classificação para prever o valor de uma variável binária (true ou false) \n",
    "# a partir de dados numéricos\n",
    "\n",
    "# Import dos módulos\n",
    "import numpy as np\n",
    "import pandas as pd\n",
    "from sklearn.decomposition import PCA\n",
    "from sklearn.pipeline import Pipeline\n",
    "from sklearn.linear_model import LogisticRegression\n",
    "import warnings\n",
    "warnings.filterwarnings(\"ignore\")\n",
    "\n",
    "# Dados de treino\n",
    "n_train = 10\n",
    "np.random.seed(0)\n",
    "df_treino = pd.DataFrame({\"var1\": np.random.random(n_train), \\\n",
    "                          \"var2\": np.random.random(n_train), \\\n",
    "                          \"var3\": np.random.random(n_train), \\\n",
    "                          \"var4\": np.random.randint(0,2,n_train).astype(bool),\\\n",
    "                          \"target\": np.random.randint(0,2,n_train).astype(bool)})\n",
    "\n",
    "# Dados de teste\n",
    "n_test = 3\n",
    "np.random.seed(1)\n",
    "df_teste = pd.DataFrame({\"var1\": np.random.random(n_test), \\\n",
    "                         \"var2\": np.random.random(n_test), \\\n",
    "                         \"var3\": np.random.random(n_test), \\\n",
    "                         \"var4\": np.random.randint(0,2,n_test).astype(bool),\\\n",
    "                         \"target\": np.random.randint(0,2,n_test).astype(bool)})"
   ]
  },
  {
   "cell_type": "code",
   "execution_count": 2,
   "id": "e7e18425",
   "metadata": {},
   "outputs": [
    {
     "data": {
      "text/html": [
       "<div>\n",
       "<style scoped>\n",
       "    .dataframe tbody tr th:only-of-type {\n",
       "        vertical-align: middle;\n",
       "    }\n",
       "\n",
       "    .dataframe tbody tr th {\n",
       "        vertical-align: top;\n",
       "    }\n",
       "\n",
       "    .dataframe thead th {\n",
       "        text-align: right;\n",
       "    }\n",
       "</style>\n",
       "<table border=\"1\" class=\"dataframe\">\n",
       "  <thead>\n",
       "    <tr style=\"text-align: right;\">\n",
       "      <th></th>\n",
       "      <th>var1</th>\n",
       "      <th>var2</th>\n",
       "      <th>var3</th>\n",
       "    </tr>\n",
       "  </thead>\n",
       "  <tbody>\n",
       "    <tr>\n",
       "      <th>count</th>\n",
       "      <td>3.000000</td>\n",
       "      <td>3.000000</td>\n",
       "      <td>3.000000</td>\n",
       "    </tr>\n",
       "    <tr>\n",
       "      <th>mean</th>\n",
       "      <td>0.379154</td>\n",
       "      <td>0.180476</td>\n",
       "      <td>0.309529</td>\n",
       "    </tr>\n",
       "    <tr>\n",
       "      <th>std</th>\n",
       "      <td>0.361595</td>\n",
       "      <td>0.108982</td>\n",
       "      <td>0.109782</td>\n",
       "    </tr>\n",
       "    <tr>\n",
       "      <th>min</th>\n",
       "      <td>0.000114</td>\n",
       "      <td>0.092339</td>\n",
       "      <td>0.186260</td>\n",
       "    </tr>\n",
       "    <tr>\n",
       "      <th>25%</th>\n",
       "      <td>0.208568</td>\n",
       "      <td>0.119547</td>\n",
       "      <td>0.265910</td>\n",
       "    </tr>\n",
       "    <tr>\n",
       "      <th>50%</th>\n",
       "      <td>0.417022</td>\n",
       "      <td>0.146756</td>\n",
       "      <td>0.345561</td>\n",
       "    </tr>\n",
       "    <tr>\n",
       "      <th>75%</th>\n",
       "      <td>0.568673</td>\n",
       "      <td>0.224544</td>\n",
       "      <td>0.371164</td>\n",
       "    </tr>\n",
       "    <tr>\n",
       "      <th>max</th>\n",
       "      <td>0.720324</td>\n",
       "      <td>0.302333</td>\n",
       "      <td>0.396767</td>\n",
       "    </tr>\n",
       "  </tbody>\n",
       "</table>\n",
       "</div>"
      ],
      "text/plain": [
       "           var1      var2      var3\n",
       "count  3.000000  3.000000  3.000000\n",
       "mean   0.379154  0.180476  0.309529\n",
       "std    0.361595  0.108982  0.109782\n",
       "min    0.000114  0.092339  0.186260\n",
       "25%    0.208568  0.119547  0.265910\n",
       "50%    0.417022  0.146756  0.345561\n",
       "75%    0.568673  0.224544  0.371164\n",
       "max    0.720324  0.302333  0.396767"
      ]
     },
     "execution_count": 2,
     "metadata": {},
     "output_type": "execute_result"
    }
   ],
   "source": [
    "# analisando os dados\n",
    "df_teste.describe()"
   ]
  },
  {
   "cell_type": "code",
   "execution_count": 3,
   "id": "a343bbe5",
   "metadata": {},
   "outputs": [
    {
     "data": {
      "text/html": [
       "<div>\n",
       "<style scoped>\n",
       "    .dataframe tbody tr th:only-of-type {\n",
       "        vertical-align: middle;\n",
       "    }\n",
       "\n",
       "    .dataframe tbody tr th {\n",
       "        vertical-align: top;\n",
       "    }\n",
       "\n",
       "    .dataframe thead th {\n",
       "        text-align: right;\n",
       "    }\n",
       "</style>\n",
       "<table border=\"1\" class=\"dataframe\">\n",
       "  <thead>\n",
       "    <tr style=\"text-align: right;\">\n",
       "      <th></th>\n",
       "      <th>var1</th>\n",
       "      <th>var2</th>\n",
       "      <th>var3</th>\n",
       "    </tr>\n",
       "  </thead>\n",
       "  <tbody>\n",
       "    <tr>\n",
       "      <th>count</th>\n",
       "      <td>10.000000</td>\n",
       "      <td>10.000000</td>\n",
       "      <td>10.000000</td>\n",
       "    </tr>\n",
       "    <tr>\n",
       "      <th>mean</th>\n",
       "      <td>0.615766</td>\n",
       "      <td>0.547343</td>\n",
       "      <td>0.580251</td>\n",
       "    </tr>\n",
       "    <tr>\n",
       "      <th>std</th>\n",
       "      <td>0.194454</td>\n",
       "      <td>0.358835</td>\n",
       "      <td>0.304107</td>\n",
       "    </tr>\n",
       "    <tr>\n",
       "      <th>min</th>\n",
       "      <td>0.383442</td>\n",
       "      <td>0.020218</td>\n",
       "      <td>0.118274</td>\n",
       "    </tr>\n",
       "    <tr>\n",
       "      <th>25%</th>\n",
       "      <td>0.464411</td>\n",
       "      <td>0.197571</td>\n",
       "      <td>0.426366</td>\n",
       "    </tr>\n",
       "    <tr>\n",
       "      <th>50%</th>\n",
       "      <td>0.575788</td>\n",
       "      <td>0.673101</td>\n",
       "      <td>0.580885</td>\n",
       "    </tr>\n",
       "    <tr>\n",
       "      <th>75%</th>\n",
       "      <td>0.697866</td>\n",
       "      <td>0.822396</td>\n",
       "      <td>0.794501</td>\n",
       "    </tr>\n",
       "    <tr>\n",
       "      <th>max</th>\n",
       "      <td>0.963663</td>\n",
       "      <td>0.925597</td>\n",
       "      <td>0.978618</td>\n",
       "    </tr>\n",
       "  </tbody>\n",
       "</table>\n",
       "</div>"
      ],
      "text/plain": [
       "            var1       var2       var3\n",
       "count  10.000000  10.000000  10.000000\n",
       "mean    0.615766   0.547343   0.580251\n",
       "std     0.194454   0.358835   0.304107\n",
       "min     0.383442   0.020218   0.118274\n",
       "25%     0.464411   0.197571   0.426366\n",
       "50%     0.575788   0.673101   0.580885\n",
       "75%     0.697866   0.822396   0.794501\n",
       "max     0.963663   0.925597   0.978618"
      ]
     },
     "execution_count": 3,
     "metadata": {},
     "output_type": "execute_result"
    }
   ],
   "source": [
    "df_treino.describe()"
   ]
  },
  {
   "cell_type": "code",
   "execution_count": 4,
   "id": "692b32ad",
   "metadata": {},
   "outputs": [
    {
     "data": {
      "text/html": [
       "<div>\n",
       "<style scoped>\n",
       "    .dataframe tbody tr th:only-of-type {\n",
       "        vertical-align: middle;\n",
       "    }\n",
       "\n",
       "    .dataframe tbody tr th {\n",
       "        vertical-align: top;\n",
       "    }\n",
       "\n",
       "    .dataframe thead th {\n",
       "        text-align: right;\n",
       "    }\n",
       "</style>\n",
       "<table border=\"1\" class=\"dataframe\">\n",
       "  <thead>\n",
       "    <tr style=\"text-align: right;\">\n",
       "      <th></th>\n",
       "      <th>var1</th>\n",
       "      <th>var2</th>\n",
       "      <th>var3</th>\n",
       "      <th>var4</th>\n",
       "      <th>target</th>\n",
       "    </tr>\n",
       "  </thead>\n",
       "  <tbody>\n",
       "    <tr>\n",
       "      <th>0</th>\n",
       "      <td>0.548814</td>\n",
       "      <td>0.791725</td>\n",
       "      <td>0.978618</td>\n",
       "      <td>True</td>\n",
       "      <td>True</td>\n",
       "    </tr>\n",
       "    <tr>\n",
       "      <th>1</th>\n",
       "      <td>0.715189</td>\n",
       "      <td>0.528895</td>\n",
       "      <td>0.799159</td>\n",
       "      <td>False</td>\n",
       "      <td>True</td>\n",
       "    </tr>\n",
       "    <tr>\n",
       "      <th>2</th>\n",
       "      <td>0.602763</td>\n",
       "      <td>0.568045</td>\n",
       "      <td>0.461479</td>\n",
       "      <td>True</td>\n",
       "      <td>False</td>\n",
       "    </tr>\n",
       "    <tr>\n",
       "      <th>3</th>\n",
       "      <td>0.544883</td>\n",
       "      <td>0.925597</td>\n",
       "      <td>0.780529</td>\n",
       "      <td>False</td>\n",
       "      <td>False</td>\n",
       "    </tr>\n",
       "    <tr>\n",
       "      <th>4</th>\n",
       "      <td>0.423655</td>\n",
       "      <td>0.071036</td>\n",
       "      <td>0.118274</td>\n",
       "      <td>True</td>\n",
       "      <td>False</td>\n",
       "    </tr>\n",
       "  </tbody>\n",
       "</table>\n",
       "</div>"
      ],
      "text/plain": [
       "       var1      var2      var3   var4  target\n",
       "0  0.548814  0.791725  0.978618   True    True\n",
       "1  0.715189  0.528895  0.799159  False    True\n",
       "2  0.602763  0.568045  0.461479   True   False\n",
       "3  0.544883  0.925597  0.780529  False   False\n",
       "4  0.423655  0.071036  0.118274   True   False"
      ]
     },
     "execution_count": 4,
     "metadata": {},
     "output_type": "execute_result"
    }
   ],
   "source": [
    "df_treino.head()"
   ]
  },
  {
   "cell_type": "code",
   "execution_count": 5,
   "id": "fb754083",
   "metadata": {},
   "outputs": [],
   "source": [
    "# Crie um modelo com PCA para redução de dimensionalidade com 3 componentes\n",
    "pca = PCA(n_components=3)"
   ]
  },
  {
   "cell_type": "code",
   "execution_count": 8,
   "id": "8dcbc401",
   "metadata": {},
   "outputs": [],
   "source": [
    "# Aplique o PCA aos datasets - removendo a target\n",
    "df_treino_pca = pca.fit_transform(df_treino.drop('target', axis = 1))\n",
    "df_teste_pca = pca.fit_transform(df_teste.drop('target', axis = 1))\n"
   ]
  },
  {
   "cell_type": "code",
   "execution_count": 9,
   "id": "4e42f443",
   "metadata": {},
   "outputs": [],
   "source": [
    "# Crie dataframes do pandas com o resultado do item anterior\n",
    "new_df_treino_pca = pd.DataFrame(df_treino_pca)\n",
    "new_df_teste_pca = pd.DataFrame(df_teste_pca)\n",
    "\n"
   ]
  },
  {
   "cell_type": "code",
   "execution_count": 10,
   "id": "7ec694d7",
   "metadata": {},
   "outputs": [],
   "source": [
    "# Crie um modelo de regressão logística\n",
    "lr = LogisticRegression()\n"
   ]
  },
  {
   "cell_type": "code",
   "execution_count": 11,
   "id": "a04dde6e",
   "metadata": {},
   "outputs": [],
   "source": [
    "# Usando o recurso de pipeline do scikit-learn para encadear 2 algoritmos em um mesmo modelo, \n",
    "# concatene o resultado do PCA e Regressão Logística\n",
    "model = Pipeline(steps=[\n",
    "            ('PCA', pca),\n",
    "            ('LR', lr)\n",
    "])\n"
   ]
  },
  {
   "cell_type": "code",
   "execution_count": 14,
   "id": "e08bb316",
   "metadata": {},
   "outputs": [
    {
     "data": {
      "text/plain": [
       "Pipeline(steps=[('PCA', PCA(n_components=3)), ('LR', LogisticRegression())])"
      ]
     },
     "execution_count": 14,
     "metadata": {},
     "output_type": "execute_result"
    }
   ],
   "source": [
    "# Treina o modelo\n",
    "model.fit(new_df_treino_pca, df_treino['target'])"
   ]
  },
  {
   "cell_type": "code",
   "execution_count": 15,
   "id": "079fe705",
   "metadata": {},
   "outputs": [],
   "source": [
    "# Faça previsões com o modelo treinado\n",
    "previsoes = model.predict(new_df_teste_pca)"
   ]
  },
  {
   "cell_type": "code",
   "execution_count": 16,
   "id": "0ea7490c",
   "metadata": {},
   "outputs": [
    {
     "name": "stdout",
     "output_type": "stream",
     "text": [
      "[ True  True False]\n"
     ]
    }
   ],
   "source": [
    "# Imprimindo as previsões\n",
    "print(previsoes)"
   ]
  },
  {
   "cell_type": "code",
   "execution_count": 17,
   "id": "450cc5d6",
   "metadata": {},
   "outputs": [
    {
     "data": {
      "text/html": [
       "<div>\n",
       "<style scoped>\n",
       "    .dataframe tbody tr th:only-of-type {\n",
       "        vertical-align: middle;\n",
       "    }\n",
       "\n",
       "    .dataframe tbody tr th {\n",
       "        vertical-align: top;\n",
       "    }\n",
       "\n",
       "    .dataframe thead th {\n",
       "        text-align: right;\n",
       "    }\n",
       "</style>\n",
       "<table border=\"1\" class=\"dataframe\">\n",
       "  <thead>\n",
       "    <tr style=\"text-align: right;\">\n",
       "      <th></th>\n",
       "      <th>var1</th>\n",
       "      <th>var2</th>\n",
       "      <th>var3</th>\n",
       "      <th>var4</th>\n",
       "      <th>target</th>\n",
       "    </tr>\n",
       "  </thead>\n",
       "  <tbody>\n",
       "    <tr>\n",
       "      <th>0</th>\n",
       "      <td>0.417022</td>\n",
       "      <td>0.302333</td>\n",
       "      <td>0.186260</td>\n",
       "      <td>False</td>\n",
       "      <td>True</td>\n",
       "    </tr>\n",
       "    <tr>\n",
       "      <th>1</th>\n",
       "      <td>0.720324</td>\n",
       "      <td>0.146756</td>\n",
       "      <td>0.345561</td>\n",
       "      <td>False</td>\n",
       "      <td>False</td>\n",
       "    </tr>\n",
       "    <tr>\n",
       "      <th>2</th>\n",
       "      <td>0.000114</td>\n",
       "      <td>0.092339</td>\n",
       "      <td>0.396767</td>\n",
       "      <td>False</td>\n",
       "      <td>False</td>\n",
       "    </tr>\n",
       "  </tbody>\n",
       "</table>\n",
       "</div>"
      ],
      "text/plain": [
       "       var1      var2      var3   var4  target\n",
       "0  0.417022  0.302333  0.186260  False    True\n",
       "1  0.720324  0.146756  0.345561  False   False\n",
       "2  0.000114  0.092339  0.396767  False   False"
      ]
     },
     "execution_count": 17,
     "metadata": {},
     "output_type": "execute_result"
    }
   ],
   "source": [
    "df_teste.head()"
   ]
  },
  {
   "cell_type": "code",
   "execution_count": null,
   "id": "1af6d367",
   "metadata": {},
   "outputs": [],
   "source": []
  }
 ],
 "metadata": {
  "kernelspec": {
   "display_name": "Python 3",
   "language": "python",
   "name": "python3"
  },
  "language_info": {
   "codemirror_mode": {
    "name": "ipython",
    "version": 3
   },
   "file_extension": ".py",
   "mimetype": "text/x-python",
   "name": "python",
   "nbconvert_exporter": "python",
   "pygments_lexer": "ipython3",
   "version": "3.8.10"
  }
 },
 "nbformat": 4,
 "nbformat_minor": 5
}
