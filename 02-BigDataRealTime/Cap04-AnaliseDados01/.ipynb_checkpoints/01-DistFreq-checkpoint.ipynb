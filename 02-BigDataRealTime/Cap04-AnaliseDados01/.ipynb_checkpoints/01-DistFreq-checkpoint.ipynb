{
 "cells": [
  {
   "cell_type": "markdown",
   "id": "3fe4defd",
   "metadata": {},
   "source": [
    "# Distribuição de Frequência\n",
    "\n",
    "Um professor coletou as notes de todos os alunos na avaliação final de um curso de Matemática. O professor gostaria de tabular os dados a fim de extrair insights e compreender como os dados estão organizados. Crie uma distribuição de frequência para ajudar o professor."
   ]
  },
  {
   "cell_type": "code",
   "execution_count": 1,
   "id": "a5a2db7b",
   "metadata": {},
   "outputs": [],
   "source": [
    "# Imports\n",
    "import pandas as pd"
   ]
  },
  {
   "cell_type": "code",
   "execution_count": 2,
   "id": "2449b591",
   "metadata": {},
   "outputs": [],
   "source": [
    "# Lista de notas de alunos na avaliação final do curso de Matemática\n",
    "notas_alunos = [92, 81, 100, 92, 71, 73, 100, 92, 84, 100, 73, 92, 73, 84, 92, 92, 92, 84, 73, 100]"
   ]
  },
  {
   "cell_type": "code",
   "execution_count": 3,
   "id": "f05937cb",
   "metadata": {},
   "outputs": [
    {
     "data": {
      "text/plain": [
       "20"
      ]
     },
     "execution_count": 3,
     "metadata": {},
     "output_type": "execute_result"
    }
   ],
   "source": [
    "len(notas_alunos)"
   ]
  },
  {
   "cell_type": "markdown",
   "id": "2baaad8d",
   "metadata": {},
   "source": [
    "# Solução com Series em Pandas"
   ]
  },
  {
   "cell_type": "code",
   "execution_count": 4,
   "id": "1ce05c27",
   "metadata": {},
   "outputs": [
    {
     "name": "stdout",
     "output_type": "stream",
     "text": [
      "   Nota  Frequencia\n",
      "0    71           1\n",
      "1    73           4\n",
      "2    81           1\n",
      "3    84           3\n",
      "4    92           7\n",
      "5   100           4\n"
     ]
    }
   ],
   "source": [
    "# Série com notas e frequências\n",
    "df1 = pd.Series(notas_alunos).value_counts().reset_index().sort_values('index').reset_index(drop=True)\n",
    "df1.columns = ['Nota', 'Frequencia']\n",
    "print(df1)"
   ]
  },
  {
   "cell_type": "code",
   "execution_count": 5,
   "id": "e92a70cf",
   "metadata": {},
   "outputs": [
    {
     "name": "stdout",
     "output_type": "stream",
     "text": [
      "               Nota  Frequencia\n",
      "0   (70.97, 80.667]           5\n",
      "1  (80.667, 90.333]           4\n",
      "2   (90.333, 100.0]          11\n"
     ]
    }
   ],
   "source": [
    "# Série com notas e frequências, alterando a quantidade de classes\n",
    "df1 = pd.Series(notas_alunos).value_counts(bins = 3).reset_index().sort_values('index').reset_index(drop=True)\n",
    "df1.columns = ['Nota', 'Frequencia']\n",
    "print(df1)"
   ]
  },
  {
   "cell_type": "markdown",
   "id": "2550b993",
   "metadata": {},
   "source": [
    "# Solução com Dataframes em Pandas\n",
    "\n",
    "## Distribuição de Frequência Simples ou Absoluta- fi\n",
    "\n",
    "São os valores que representam o número de dados de cada classe. A soma das frequências simples é igual ao número total dos dados."
   ]
  },
  {
   "cell_type": "code",
   "execution_count": 10,
   "id": "00931062",
   "metadata": {},
   "outputs": [
    {
     "name": "stdout",
     "output_type": "stream",
     "text": [
      "Nota  fi\n",
      "71     1\n",
      "73     4\n",
      "81     1\n",
      "84     3\n",
      "92     7\n",
      "100    4\n"
     ]
    }
   ],
   "source": [
    "df2 = pd.value_counts(notas_alunos).to_frame(name='fi').rename_axis('Nota', axis=1).sort_index()\n",
    "print(df2)"
   ]
  },
  {
   "cell_type": "markdown",
   "id": "44a2b3a7",
   "metadata": {},
   "source": [
    "## Distribuição de Frequência Relativa Simples - fri\n",
    "\n",
    "Pemite visualizar os valores das razões entre as Frequências Simples e a Frequência Total."
   ]
  },
  {
   "cell_type": "code",
   "execution_count": 11,
   "id": "6addba58",
   "metadata": {},
   "outputs": [
    {
     "name": "stdout",
     "output_type": "stream",
     "text": [
      "Nota  fi   fri\n",
      "71     1  0.05\n",
      "73     4  0.20\n",
      "81     1  0.05\n",
      "84     3  0.15\n",
      "92     7  0.35\n",
      "100    4  0.20\n"
     ]
    }
   ],
   "source": [
    "df2['fri'] = pd.value_counts(notas_alunos) / len(notas_alunos)\n",
    "print(df2)"
   ]
  },
  {
   "cell_type": "markdown",
   "id": "75e023ce",
   "metadata": {},
   "source": [
    "## Ditribuição de Frequência Acumulada = Fi\n",
    "\n",
    "Permite visualizar o total das Frequências de todos os valores inferiores ao limite superior do intervalo de uma dada classe."
   ]
  },
  {
   "cell_type": "code",
   "execution_count": 12,
   "id": "0e3326d7",
   "metadata": {},
   "outputs": [
    {
     "name": "stdout",
     "output_type": "stream",
     "text": [
      "Nota  fi   fri  Fi\n",
      "71     1  0.05   1\n",
      "73     4  0.20   5\n",
      "81     1  0.05   6\n",
      "84     3  0.15   9\n",
      "92     7  0.35  16\n",
      "100    4  0.20  20\n"
     ]
    }
   ],
   "source": [
    "df2['Fi'] = df2.fi.cumsum()\n",
    "print(df2)"
   ]
  },
  {
   "cell_type": "markdown",
   "id": "ac2b7fb3",
   "metadata": {},
   "source": [
    "## Distribuição de Frequência Relativa Acumulada\n",
    "\n",
    "Permite visualizar a frequência acumulada da classe, dividida pela frequência total da distribuição"
   ]
  },
  {
   "cell_type": "code",
   "execution_count": 13,
   "id": "a21d0a1d",
   "metadata": {},
   "outputs": [
    {
     "name": "stdout",
     "output_type": "stream",
     "text": [
      "Nota  fi   fri  Fi   Fri\n",
      "71     1  0.05   1  0.05\n",
      "73     4  0.20   5  0.25\n",
      "81     1  0.05   6  0.30\n",
      "84     3  0.15   9  0.45\n",
      "92     7  0.35  16  0.80\n",
      "100    4  0.20  20  1.00\n"
     ]
    }
   ],
   "source": [
    "df2['Fri'] = df2.fi.cumsum() / len(notas_alunos)\n",
    "print(df2)"
   ]
  },
  {
   "cell_type": "markdown",
   "id": "9001dd07",
   "metadata": {},
   "source": [
    "# FIM"
   ]
  }
 ],
 "metadata": {
  "kernelspec": {
   "display_name": "Python 3",
   "language": "python",
   "name": "python3"
  },
  "language_info": {
   "codemirror_mode": {
    "name": "ipython",
    "version": 3
   },
   "file_extension": ".py",
   "mimetype": "text/x-python",
   "name": "python",
   "nbconvert_exporter": "python",
   "pygments_lexer": "ipython3",
   "version": "3.8.10"
  }
 },
 "nbformat": 4,
 "nbformat_minor": 5
}
